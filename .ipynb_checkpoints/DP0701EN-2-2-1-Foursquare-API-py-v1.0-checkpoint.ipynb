{
 "cells": [
  {
   "cell_type": "markdown",
   "metadata": {
    "button": false,
    "new_sheet": false,
    "run_control": {
     "read_only": false
    }
   },
   "source": [
    "<a href=\"https://cognitiveclass.ai\"><img src = \"https://ibm.box.com/shared/static/9gegpsmnsoo25ikkbl4qzlvlyjbgxs5x.png\" width = 400> </a>\n",
    "\n",
    "<h1 align=center><font size = 5>Learning FourSquare API with Python</font></h1>"
   ]
  },
  {
   "cell_type": "markdown",
   "metadata": {
    "button": false,
    "new_sheet": false,
    "run_control": {
     "read_only": false
    }
   },
   "source": [
    "   "
   ]
  },
  {
   "cell_type": "markdown",
   "metadata": {
    "button": false,
    "new_sheet": false,
    "run_control": {
     "read_only": false
    }
   },
   "source": [
    "## Introduction\n",
    "\n",
    "In this lab, you will learn in details how to make calls to the Foursquare API for different purposes. You will learn how to construct a URL to send a request to the API to search for a specific type of venues, to explore a particular venue, to explore a Foursquare user, to explore a geographical location, and to get trending venues around a location. Also, you will learn how to use the visualization library, Folium, to visualize the results."
   ]
  },
  {
   "cell_type": "markdown",
   "metadata": {
    "button": false,
    "new_sheet": false,
    "run_control": {
     "read_only": false
    }
   },
   "source": [
    "## Table of Contents\n",
    "\n",
    "1. <a href=\"#item1\">Foursquare API Search Function</a>\n",
    "2. <a href=\"#item2\">Explore a Given Venue</a>  \n",
    "3. <a href=\"#item3\">Explore a User</a>  \n",
    "4. <a href=\"#item4\">Foursquare API Explore Function</a>  \n",
    "5. <a href=\"#item5\">Get Trending Venues</a>  "
   ]
  },
  {
   "cell_type": "markdown",
   "metadata": {
    "button": false,
    "new_sheet": false,
    "run_control": {
     "read_only": false
    }
   },
   "source": [
    "### Import necessary Libraries"
   ]
  },
  {
   "cell_type": "code",
   "execution_count": 1,
   "metadata": {},
   "outputs": [
    {
     "name": "stdout",
     "output_type": "stream",
     "text": [
      "Collecting geopy\n",
      "  Downloading geopy-1.21.0-py2.py3-none-any.whl (104 kB)\n",
      "Collecting geographiclib<2,>=1.49\n",
      "  Downloading geographiclib-1.50-py3-none-any.whl (38 kB)\n",
      "Installing collected packages: geographiclib, geopy\n",
      "Successfully installed geographiclib-1.50 geopy-1.21.0\n"
     ]
    },
    {
     "name": "stderr",
     "output_type": "stream",
     "text": [
      "WARNING: You are using pip version 20.0.2; however, version 20.1 is available.\n",
      "You should consider upgrading via the 'c:\\programdata\\anaconda3\\python.exe -m pip install --upgrade pip' command.\n"
     ]
    }
   ],
   "source": [
    "!pip install geopy"
   ]
  },
  {
   "cell_type": "code",
   "execution_count": 2,
   "metadata": {
    "button": false,
    "new_sheet": false,
    "run_control": {
     "read_only": false
    }
   },
   "outputs": [
    {
     "name": "stdout",
     "output_type": "stream",
     "text": [
      "Folium installed\n",
      "Libraries imported.\n"
     ]
    }
   ],
   "source": [
    "import requests # library to handle requests\n",
    "import pandas as pd # library for data analsysis\n",
    "import numpy as np # library to handle data in a vectorized manner\n",
    "import random # library for random number generation\n",
    "\n",
    "#!pip install -c conda-forge geopy --yes \n",
    "from geopy.geocoders import Nominatim # module to convert an address into latitude and longitude values\n",
    "\n",
    "# libraries for displaying images\n",
    "from IPython.display import Image \n",
    "from IPython.core.display import HTML \n",
    "    \n",
    "# tranforming json file into a pandas dataframe library\n",
    "from pandas.io.json import json_normalize\n",
    "\n",
    "#!conda install -c conda-forge folium=0.5.0 --yes\n",
    "import folium # plotting library\n",
    "\n",
    "print('Folium installed')\n",
    "print('Libraries imported.')"
   ]
  },
  {
   "cell_type": "markdown",
   "metadata": {
    "button": false,
    "new_sheet": false,
    "run_control": {
     "read_only": false
    }
   },
   "source": [
    "### Define Foursquare Credentials and Version"
   ]
  },
  {
   "cell_type": "markdown",
   "metadata": {
    "button": false,
    "new_sheet": false,
    "run_control": {
     "read_only": false
    }
   },
   "source": [
    "##### Make sure that you have created a Foursquare developer account and have your credentials handy"
   ]
  },
  {
   "cell_type": "code",
   "execution_count": 38,
   "metadata": {
    "button": false,
    "new_sheet": false,
    "run_control": {
     "read_only": false
    }
   },
   "outputs": [
    {
     "name": "stdout",
     "output_type": "stream",
     "text": [
      "Your credentails:\n",
      "CLIENT_ID: ISGGIYM5S01PA3A4FYDE35FS23CGJAEMZACKHHAHKOPTHLZQ\n",
      "CLIENT_SECRET:TISTMLVG1YAPIDIURZ2KRDTAQWPYCKUKRDENPMHTMDFXT0AP\n"
     ]
    }
   ],
   "source": [
    "CLIENT_ID = 'ISGGIYM5S01PA3A4FYDE35FS23CGJAEMZACKHHAHKOPTHLZQ' # your Foursquare ID\n",
    "CLIENT_SECRET = 'TISTMLVG1YAPIDIURZ2KRDTAQWPYCKUKRDENPMHTMDFXT0AP' # your Foursquare Secret\n",
    "VERSION = '20180604'\n",
    "LIMIT = 30\n",
    "print('Your credentails:')\n",
    "print('CLIENT_ID: ' + CLIENT_ID)\n",
    "print('CLIENT_SECRET:' + CLIENT_SECRET)"
   ]
  },
  {
   "cell_type": "markdown",
   "metadata": {
    "button": false,
    "new_sheet": false,
    "run_control": {
     "read_only": false
    }
   },
   "source": [
    "  "
   ]
  },
  {
   "cell_type": "markdown",
   "metadata": {
    "button": false,
    "new_sheet": false,
    "run_control": {
     "read_only": false
    }
   },
   "source": [
    "#### Let's again assume that you are staying at the Conrad hotel. So let's start by converting the Contrad Hotel's address to its latitude and longitude coordinates."
   ]
  },
  {
   "cell_type": "markdown",
   "metadata": {},
   "source": [
    "In order to define an instance of the geocoder, we need to define a user_agent. We will name our agent <em>foursquare_agent</em>, as shown below."
   ]
  },
  {
   "cell_type": "code",
   "execution_count": 9,
   "metadata": {
    "button": false,
    "new_sheet": false,
    "run_control": {
     "read_only": false
    }
   },
   "outputs": [
    {
     "name": "stdout",
     "output_type": "stream",
     "text": [
      "40.7149555 -74.0153365\n"
     ]
    }
   ],
   "source": [
    "address = '102 North End Ave, New York, NY'\n",
    "\n",
    "geolocator = Nominatim(user_agent=\"foursquare_agent\")\n",
    "location = geolocator.geocode(address)\n",
    "latitude = location.latitude\n",
    "longitude = location.longitude\n",
    "print(latitude, longitude)"
   ]
  },
  {
   "cell_type": "markdown",
   "metadata": {
    "button": false,
    "new_sheet": false,
    "run_control": {
     "read_only": false
    }
   },
   "source": [
    "   "
   ]
  },
  {
   "cell_type": "markdown",
   "metadata": {
    "button": false,
    "new_sheet": false,
    "run_control": {
     "read_only": false
    }
   },
   "source": [
    "<a id=\"item1\"></a>"
   ]
  },
  {
   "cell_type": "code",
   "execution_count": 26,
   "metadata": {},
   "outputs": [
    {
     "name": "stderr",
     "output_type": "stream",
     "text": [
      "C:\\ProgramData\\Anaconda3\\lib\\site-packages\\ipykernel_launcher.py:1: ParserWarning: Falling back to the 'python' engine because the 'c' engine does not support regex separators (separators > 1 char and different from '\\s+' are interpreted as regex); you can avoid this warning by specifying engine='python'.\n",
      "  \"\"\"Entry point for launching an IPython kernel.\n",
      "C:\\ProgramData\\Anaconda3\\lib\\site-packages\\pandas\\io\\parsers.py:2230: FutureWarning: split() requires a non-empty pattern match.\n",
      "  yield pat.split(line.strip())\n",
      "C:\\ProgramData\\Anaconda3\\lib\\site-packages\\pandas\\io\\parsers.py:2232: FutureWarning: split() requires a non-empty pattern match.\n",
      "  yield pat.split(line.strip())\n"
     ]
    },
    {
     "data": {
      "text/html": [
       "<div>\n",
       "<style scoped>\n",
       "    .dataframe tbody tr th:only-of-type {\n",
       "        vertical-align: middle;\n",
       "    }\n",
       "\n",
       "    .dataframe tbody tr th {\n",
       "        vertical-align: top;\n",
       "    }\n",
       "\n",
       "    .dataframe thead th {\n",
       "        text-align: right;\n",
       "    }\n",
       "</style>\n",
       "<table border=\"1\" class=\"dataframe\">\n",
       "  <thead>\n",
       "    <tr style=\"text-align: right;\">\n",
       "      <th></th>\n",
       "      <th>Ticket</th>\n",
       "      <th>ID</th>\n",
       "      <th>User</th>\n",
       "      <th>DateCategory</th>\n",
       "    </tr>\n",
       "  </thead>\n",
       "  <tbody>\n",
       "    <tr>\n",
       "      <th>0</th>\n",
       "      <td>1926</td>\n",
       "      <td>a</td>\n",
       "      <td>1/1/2020</td>\n",
       "      <td>cat_7</td>\n",
       "    </tr>\n",
       "    <tr>\n",
       "      <th>1</th>\n",
       "      <td>1947</td>\n",
       "      <td>a</td>\n",
       "      <td>1/1/2020</td>\n",
       "      <td>cat_6</td>\n",
       "    </tr>\n",
       "    <tr>\n",
       "      <th>2</th>\n",
       "      <td>1901</td>\n",
       "      <td>c</td>\n",
       "      <td>1/2/2020</td>\n",
       "      <td>cat_7</td>\n",
       "    </tr>\n",
       "    <tr>\n",
       "      <th>3</th>\n",
       "      <td>1067</td>\n",
       "      <td>a</td>\n",
       "      <td>1/3/2020</td>\n",
       "      <td>cat_1</td>\n",
       "    </tr>\n",
       "    <tr>\n",
       "      <th>4</th>\n",
       "      <td>1683</td>\n",
       "      <td>a</td>\n",
       "      <td>1/4/2020</td>\n",
       "      <td>cat_3</td>\n",
       "    </tr>\n",
       "  </tbody>\n",
       "</table>\n",
       "</div>"
      ],
      "text/plain": [
       "   Ticket ID      User DateCategory\n",
       "0    1926  a  1/1/2020        cat_7\n",
       "1    1947  a  1/1/2020        cat_6\n",
       "2    1901  c  1/2/2020        cat_7\n",
       "3    1067  a  1/3/2020        cat_1\n",
       "4    1683  a  1/4/2020        cat_3"
      ]
     },
     "execution_count": 26,
     "metadata": {},
     "output_type": "execute_result"
    }
   ],
   "source": [
    "df=pd.read_csv('untitled.txt',sep='\\s*')\n",
    "#df.columns=list(map(lstrip,df.columns))\n",
    "df.head()"
   ]
  },
  {
   "cell_type": "code",
   "execution_count": 31,
   "metadata": {},
   "outputs": [
    {
     "data": {
      "text/plain": [
       "ID  DateCategory\n",
       "a   cat_1           1\n",
       "    cat_3           2\n",
       "    cat_5           2\n",
       "    cat_6           1\n",
       "    cat_7           1\n",
       "b   cat_4           3\n",
       "    cat_5           4\n",
       "    cat_8           1\n",
       "c   cat_1           1\n",
       "    cat_2           1\n",
       "    cat_6           1\n",
       "    cat_7           3\n",
       "Name: DateCategory, dtype: int64"
      ]
     },
     "execution_count": 31,
     "metadata": {},
     "output_type": "execute_result"
    }
   ],
   "source": [
    "df.groupby(['ID','DateCategory'])['DateCategory'].count()"
   ]
  },
  {
   "cell_type": "code",
   "execution_count": 32,
   "metadata": {},
   "outputs": [
    {
     "name": "stderr",
     "output_type": "stream",
     "text": [
      "C:\\ProgramData\\Anaconda3\\lib\\site-packages\\ipykernel_launcher.py:3: FutureWarning: specifying 'categories' or 'ordered' in .astype() is deprecated; pass a CategoricalDtype instead\n",
      "  This is separate from the ipykernel package so we can avoid doing imports until\n"
     ]
    },
    {
     "data": {
      "text/plain": [
       "pandas.core.series.Series"
      ]
     },
     "execution_count": 32,
     "metadata": {},
     "output_type": "execute_result"
    }
   ],
   "source": [
    "s = pd.Series(['Low', 'Low', 'High', 'Medium', 'Low', 'High', 'Low'])\n",
    "\n",
    "s.astype('category', categories=['Low', 'Medium', 'High'], ordered=True)\n",
    "type(s)"
   ]
  },
  {
   "cell_type": "markdown",
   "metadata": {
    "button": false,
    "new_sheet": false,
    "run_control": {
     "read_only": false
    }
   },
   "source": [
    "## 1. Search for a specific venue category\n",
    "> `https://api.foursquare.com/v2/venues/`**search**`?client_id=`**CLIENT_ID**`&client_secret=`**CLIENT_SECRET**`&ll=`**LATITUDE**`,`**LONGITUDE**`&v=`**VERSION**`&query=`**QUERY**`&radius=`**RADIUS**`&limit=`**LIMIT**"
   ]
  },
  {
   "cell_type": "markdown",
   "metadata": {
    "button": false,
    "new_sheet": false,
    "run_control": {
     "read_only": false
    }
   },
   "source": [
    "#### Now, let's assume that it is lunch time, and you are craving Italian food. So, let's define a query to search for Italian food that is within 500 metres from the Conrad Hotel. "
   ]
  },
  {
   "cell_type": "code",
   "execution_count": 33,
   "metadata": {
    "button": false,
    "new_sheet": false,
    "run_control": {
     "read_only": false
    },
    "scrolled": true
   },
   "outputs": [
    {
     "name": "stdout",
     "output_type": "stream",
     "text": [
      "Italian .... OK!\n"
     ]
    }
   ],
   "source": [
    "search_query = 'Italian'\n",
    "radius = 500\n",
    "print(search_query + ' .... OK!')"
   ]
  },
  {
   "cell_type": "markdown",
   "metadata": {
    "button": false,
    "new_sheet": false,
    "run_control": {
     "read_only": false
    }
   },
   "source": [
    "#### Define the corresponding URL"
   ]
  },
  {
   "cell_type": "code",
   "execution_count": 40,
   "metadata": {
    "button": false,
    "new_sheet": false,
    "run_control": {
     "read_only": false
    }
   },
   "outputs": [
    {
     "data": {
      "text/plain": [
       "'https://api.foursquare.com/v2/venues/search?client_id=ISGGIYM5S01PA3A4FYDE35FS23CGJAEMZACKHHAHKOPTHLZQ&client_secret=TISTMLVG1YAPIDIURZ2KRDTAQWPYCKUKRDENPMHTMDFXT0AP&ll=40.7149555,-74.0153365&v=20180604&query=Italian&radius=500&limit=30'"
      ]
     },
     "execution_count": 40,
     "metadata": {},
     "output_type": "execute_result"
    }
   ],
   "source": [
    "url = 'https://api.foursquare.com/v2/venues/search?client_id={}&client_secret={}&ll={},{}&v={}&query={}&radius={}&limit={}'.format(CLIENT_ID, CLIENT_SECRET, latitude, longitude, VERSION, search_query, radius, LIMIT)\n",
    "url"
   ]
  },
  {
   "cell_type": "markdown",
   "metadata": {
    "button": false,
    "new_sheet": false,
    "run_control": {
     "read_only": false
    }
   },
   "source": [
    "#### Send the GET Request and examine the results"
   ]
  },
  {
   "cell_type": "code",
   "execution_count": 46,
   "metadata": {
    "button": false,
    "new_sheet": false,
    "run_control": {
     "read_only": false
    },
    "scrolled": true
   },
   "outputs": [
    {
     "name": "stdout",
     "output_type": "stream",
     "text": [
      "{\n",
      "    \"meta\": {\n",
      "        \"code\": 200,\n",
      "        \"requestId\": \"5eaee975006dce001b60d3a6\"\n",
      "    },\n",
      "    \"response\": {\n",
      "        \"venues\": [\n",
      "            {\n",
      "                \"id\": \"4fa862b3e4b0ebff2f749f06\",\n",
      "                \"name\": \"Harry's Italian Pizza Bar\",\n",
      "                \"location\": {\n",
      "                    \"address\": \"225 Murray St\",\n",
      "                    \"lat\": 40.71521779064671,\n",
      "                    \"lng\": -74.01473940209351,\n",
      "                    \"labeledLatLngs\": [\n",
      "                        {\n",
      "                            \"label\": \"display\",\n",
      "                            \"lat\": 40.71521779064671,\n",
      "                            \"lng\": -74.01473940209351\n",
      "                        },\n",
      "                        {\n",
      "                            \"label\": \"entrance\",\n",
      "                            \"lat\": 40.715361,\n",
      "                            \"lng\": -74.014975\n",
      "                        }\n",
      "                    ],\n",
      "                    \"distance\": 58,\n",
      "                    \"postalCode\": \"10282\",\n",
      "                    \"cc\": \"US\",\n",
      "                    \"city\": \"New York\",\n",
      "                    \"state\": \"NY\",\n",
      "                    \"country\": \"United States\",\n",
      "                    \"formattedAddress\": [\n",
      "                        \"225 Murray St\",\n",
      "                        \"New York, NY 10282\",\n",
      "                        \"United States\"\n",
      "                    ]\n",
      "                },\n",
      "                \"categories\": [\n",
      "                    {\n",
      "                        \"id\": \"4bf58dd8d48988d1ca941735\",\n",
      "                        \"name\": \"Pizza Place\",\n",
      "                        \"pluralName\": \"Pizza Places\",\n",
      "                        \"shortName\": \"Pizza\",\n",
      "                        \"icon\": {\n",
      "                            \"prefix\": \"https://ss3.4sqi.net/img/categories_v2/food/pizza_\",\n",
      "                            \"suffix\": \".png\"\n",
      "                        },\n",
      "                        \"primary\": true\n",
      "                    }\n",
      "                ],\n",
      "                \"delivery\": {\n",
      "                    \"id\": \"294544\",\n",
      "                    \"url\": \"https://www.seamless.com/menu/harrys-italian-pizza-bar-225-murray-st-new-york/294544?affiliate=1131&utm_source=foursquare-affiliate-network&utm_medium=affiliate&utm_campaign=1131&utm_content=294544\",\n",
      "                    \"provider\": {\n",
      "                        \"name\": \"seamless\",\n",
      "                        \"icon\": {\n",
      "                            \"prefix\": \"https://fastly.4sqi.net/img/general/cap/\",\n",
      "                            \"sizes\": [\n",
      "                                40,\n",
      "                                50\n",
      "                            ],\n",
      "                            \"name\": \"/delivery_provider_seamless_20180129.png\"\n",
      "                        }\n",
      "                    }\n",
      "                },\n",
      "                \"referralId\": \"v-1588521666\",\n",
      "                \"hasPerk\": false\n",
      "            },\n",
      "            {\n",
      "                \"id\": \"4f3232e219836c91c7bfde94\",\n",
      "                \"name\": \"Conca Cucina Italian Restaurant\",\n",
      "                \"location\": {\n",
      "                    \"address\": \"63 W Broadway\",\n",
      "                    \"lat\": 40.714484000000006,\n",
      "                    \"lng\": -74.00980600000001,\n",
      "                    \"labeledLatLngs\": [\n",
      "                        {\n",
      "                            \"label\": \"display\",\n",
      "                            \"lat\": 40.714484000000006,\n",
      "                            \"lng\": -74.00980600000001\n",
      "                        }\n",
      "                    ],\n",
      "                    \"distance\": 469,\n",
      "                    \"postalCode\": \"10007\",\n",
      "                    \"cc\": \"US\",\n",
      "                    \"city\": \"New York\",\n",
      "                    \"state\": \"NY\",\n",
      "                    \"country\": \"United States\",\n",
      "                    \"formattedAddress\": [\n",
      "                        \"63 W Broadway\",\n",
      "                        \"New York, NY 10007\",\n",
      "                        \"United States\"\n",
      "                    ]\n",
      "                },\n",
      "                \"categories\": [\n",
      "                    {\n",
      "                        \"id\": \"4d4b7105d754a06374d81259\",\n",
      "                        \"name\": \"Food\",\n",
      "                        \"pluralName\": \"Food\",\n",
      "                        \"shortName\": \"Food\",\n",
      "                        \"icon\": {\n",
      "                            \"prefix\": \"https://ss3.4sqi.net/img/categories_v2/food/default_\",\n",
      "                            \"suffix\": \".png\"\n",
      "                        },\n",
      "                        \"primary\": true\n",
      "                    }\n",
      "                ],\n",
      "                \"referralId\": \"v-1588521666\",\n",
      "                \"hasPerk\": false\n",
      "            },\n",
      "            {\n",
      "                \"id\": \"3fd66200f964a520f4e41ee3\",\n",
      "                \"name\": \"Ecco\",\n",
      "                \"location\": {\n",
      "                    \"address\": \"124 Chambers St\",\n",
      "                    \"crossStreet\": \"btwn Church St & W Broadway\",\n",
      "                    \"lat\": 40.71533713859952,\n",
      "                    \"lng\": -74.00884766217825,\n",
      "                    \"labeledLatLngs\": [\n",
      "                        {\n",
      "                            \"label\": \"display\",\n",
      "                            \"lat\": 40.71533713859952,\n",
      "                            \"lng\": -74.00884766217825\n",
      "                        },\n",
      "                        {\n",
      "                            \"label\": \"entrance\",\n",
      "                            \"lat\": 40.715202,\n",
      "                            \"lng\": -74.008779\n",
      "                        }\n",
      "                    ],\n",
      "                    \"distance\": 549,\n",
      "                    \"postalCode\": \"10007\",\n",
      "                    \"cc\": \"US\",\n",
      "                    \"city\": \"New York\",\n",
      "                    \"state\": \"NY\",\n",
      "                    \"country\": \"United States\",\n",
      "                    \"formattedAddress\": [\n",
      "                        \"124 Chambers St (btwn Church St & W Broadway)\",\n",
      "                        \"New York, NY 10007\",\n",
      "                        \"United States\"\n",
      "                    ]\n",
      "                },\n",
      "                \"categories\": [\n",
      "                    {\n",
      "                        \"id\": \"4bf58dd8d48988d110941735\",\n",
      "                        \"name\": \"Italian Restaurant\",\n",
      "                        \"pluralName\": \"Italian Restaurants\",\n",
      "                        \"shortName\": \"Italian\",\n",
      "                        \"icon\": {\n",
      "                            \"prefix\": \"https://ss3.4sqi.net/img/categories_v2/food/italian_\",\n",
      "                            \"suffix\": \".png\"\n",
      "                        },\n",
      "                        \"primary\": true\n",
      "                    }\n",
      "                ],\n",
      "                \"referralId\": \"v-1588521666\",\n",
      "                \"hasPerk\": false\n",
      "            }\n",
      "        ]\n",
      "    }\n",
      "}\n"
     ]
    }
   ],
   "source": [
    "import json\n",
    "results = requests.get(url).json()\n",
    "print(json.dumps(results,indent=4))"
   ]
  },
  {
   "cell_type": "markdown",
   "metadata": {
    "button": false,
    "new_sheet": false,
    "run_control": {
     "read_only": false
    }
   },
   "source": [
    "#### Get relevant part of JSON and transform it into a *pandas* dataframe"
   ]
  },
  {
   "cell_type": "code",
   "execution_count": 47,
   "metadata": {
    "button": false,
    "new_sheet": false,
    "run_control": {
     "read_only": false
    }
   },
   "outputs": [
    {
     "data": {
      "text/html": [
       "<div>\n",
       "<style scoped>\n",
       "    .dataframe tbody tr th:only-of-type {\n",
       "        vertical-align: middle;\n",
       "    }\n",
       "\n",
       "    .dataframe tbody tr th {\n",
       "        vertical-align: top;\n",
       "    }\n",
       "\n",
       "    .dataframe thead th {\n",
       "        text-align: right;\n",
       "    }\n",
       "</style>\n",
       "<table border=\"1\" class=\"dataframe\">\n",
       "  <thead>\n",
       "    <tr style=\"text-align: right;\">\n",
       "      <th></th>\n",
       "      <th>categories</th>\n",
       "      <th>delivery.id</th>\n",
       "      <th>delivery.provider.icon.name</th>\n",
       "      <th>delivery.provider.icon.prefix</th>\n",
       "      <th>delivery.provider.icon.sizes</th>\n",
       "      <th>delivery.provider.name</th>\n",
       "      <th>delivery.url</th>\n",
       "      <th>hasPerk</th>\n",
       "      <th>id</th>\n",
       "      <th>location.address</th>\n",
       "      <th>...</th>\n",
       "      <th>location.crossStreet</th>\n",
       "      <th>location.distance</th>\n",
       "      <th>location.formattedAddress</th>\n",
       "      <th>location.labeledLatLngs</th>\n",
       "      <th>location.lat</th>\n",
       "      <th>location.lng</th>\n",
       "      <th>location.postalCode</th>\n",
       "      <th>location.state</th>\n",
       "      <th>name</th>\n",
       "      <th>referralId</th>\n",
       "    </tr>\n",
       "  </thead>\n",
       "  <tbody>\n",
       "    <tr>\n",
       "      <th>0</th>\n",
       "      <td>[{'id': '4bf58dd8d48988d1ca941735', 'name': 'P...</td>\n",
       "      <td>294544</td>\n",
       "      <td>/delivery_provider_seamless_20180129.png</td>\n",
       "      <td>https://fastly.4sqi.net/img/general/cap/</td>\n",
       "      <td>[40, 50]</td>\n",
       "      <td>seamless</td>\n",
       "      <td>https://www.seamless.com/menu/harrys-italian-p...</td>\n",
       "      <td>False</td>\n",
       "      <td>4fa862b3e4b0ebff2f749f06</td>\n",
       "      <td>225 Murray St</td>\n",
       "      <td>...</td>\n",
       "      <td>NaN</td>\n",
       "      <td>58</td>\n",
       "      <td>[225 Murray St, New York, NY 10282, United Sta...</td>\n",
       "      <td>[{'label': 'display', 'lat': 40.71521779064671...</td>\n",
       "      <td>40.715218</td>\n",
       "      <td>-74.014739</td>\n",
       "      <td>10282</td>\n",
       "      <td>NY</td>\n",
       "      <td>Harry's Italian Pizza Bar</td>\n",
       "      <td>v-1588521666</td>\n",
       "    </tr>\n",
       "    <tr>\n",
       "      <th>1</th>\n",
       "      <td>[{'id': '4d4b7105d754a06374d81259', 'name': 'F...</td>\n",
       "      <td>NaN</td>\n",
       "      <td>NaN</td>\n",
       "      <td>NaN</td>\n",
       "      <td>NaN</td>\n",
       "      <td>NaN</td>\n",
       "      <td>NaN</td>\n",
       "      <td>False</td>\n",
       "      <td>4f3232e219836c91c7bfde94</td>\n",
       "      <td>63 W Broadway</td>\n",
       "      <td>...</td>\n",
       "      <td>NaN</td>\n",
       "      <td>469</td>\n",
       "      <td>[63 W Broadway, New York, NY 10007, United Sta...</td>\n",
       "      <td>[{'label': 'display', 'lat': 40.71448400000000...</td>\n",
       "      <td>40.714484</td>\n",
       "      <td>-74.009806</td>\n",
       "      <td>10007</td>\n",
       "      <td>NY</td>\n",
       "      <td>Conca Cucina Italian Restaurant</td>\n",
       "      <td>v-1588521666</td>\n",
       "    </tr>\n",
       "    <tr>\n",
       "      <th>2</th>\n",
       "      <td>[{'id': '4bf58dd8d48988d110941735', 'name': 'I...</td>\n",
       "      <td>NaN</td>\n",
       "      <td>NaN</td>\n",
       "      <td>NaN</td>\n",
       "      <td>NaN</td>\n",
       "      <td>NaN</td>\n",
       "      <td>NaN</td>\n",
       "      <td>False</td>\n",
       "      <td>3fd66200f964a520f4e41ee3</td>\n",
       "      <td>124 Chambers St</td>\n",
       "      <td>...</td>\n",
       "      <td>btwn Church St &amp; W Broadway</td>\n",
       "      <td>549</td>\n",
       "      <td>[124 Chambers St (btwn Church St &amp; W Broadway)...</td>\n",
       "      <td>[{'label': 'display', 'lat': 40.71533713859952...</td>\n",
       "      <td>40.715337</td>\n",
       "      <td>-74.008848</td>\n",
       "      <td>10007</td>\n",
       "      <td>NY</td>\n",
       "      <td>Ecco</td>\n",
       "      <td>v-1588521666</td>\n",
       "    </tr>\n",
       "  </tbody>\n",
       "</table>\n",
       "<p>3 rows × 23 columns</p>\n",
       "</div>"
      ],
      "text/plain": [
       "                                          categories delivery.id  \\\n",
       "0  [{'id': '4bf58dd8d48988d1ca941735', 'name': 'P...      294544   \n",
       "1  [{'id': '4d4b7105d754a06374d81259', 'name': 'F...         NaN   \n",
       "2  [{'id': '4bf58dd8d48988d110941735', 'name': 'I...         NaN   \n",
       "\n",
       "                delivery.provider.icon.name  \\\n",
       "0  /delivery_provider_seamless_20180129.png   \n",
       "1                                       NaN   \n",
       "2                                       NaN   \n",
       "\n",
       "              delivery.provider.icon.prefix delivery.provider.icon.sizes  \\\n",
       "0  https://fastly.4sqi.net/img/general/cap/                     [40, 50]   \n",
       "1                                       NaN                          NaN   \n",
       "2                                       NaN                          NaN   \n",
       "\n",
       "  delivery.provider.name                                       delivery.url  \\\n",
       "0               seamless  https://www.seamless.com/menu/harrys-italian-p...   \n",
       "1                    NaN                                                NaN   \n",
       "2                    NaN                                                NaN   \n",
       "\n",
       "   hasPerk                        id location.address      ...       \\\n",
       "0    False  4fa862b3e4b0ebff2f749f06    225 Murray St      ...        \n",
       "1    False  4f3232e219836c91c7bfde94    63 W Broadway      ...        \n",
       "2    False  3fd66200f964a520f4e41ee3  124 Chambers St      ...        \n",
       "\n",
       "          location.crossStreet location.distance  \\\n",
       "0                          NaN                58   \n",
       "1                          NaN               469   \n",
       "2  btwn Church St & W Broadway               549   \n",
       "\n",
       "                           location.formattedAddress  \\\n",
       "0  [225 Murray St, New York, NY 10282, United Sta...   \n",
       "1  [63 W Broadway, New York, NY 10007, United Sta...   \n",
       "2  [124 Chambers St (btwn Church St & W Broadway)...   \n",
       "\n",
       "                             location.labeledLatLngs  location.lat  \\\n",
       "0  [{'label': 'display', 'lat': 40.71521779064671...     40.715218   \n",
       "1  [{'label': 'display', 'lat': 40.71448400000000...     40.714484   \n",
       "2  [{'label': 'display', 'lat': 40.71533713859952...     40.715337   \n",
       "\n",
       "  location.lng location.postalCode  location.state  \\\n",
       "0   -74.014739               10282              NY   \n",
       "1   -74.009806               10007              NY   \n",
       "2   -74.008848               10007              NY   \n",
       "\n",
       "                              name    referralId  \n",
       "0        Harry's Italian Pizza Bar  v-1588521666  \n",
       "1  Conca Cucina Italian Restaurant  v-1588521666  \n",
       "2                             Ecco  v-1588521666  \n",
       "\n",
       "[3 rows x 23 columns]"
      ]
     },
     "execution_count": 47,
     "metadata": {},
     "output_type": "execute_result"
    }
   ],
   "source": [
    "# assign relevant part of JSON to venues\n",
    "venues = results['response']['venues']\n",
    "\n",
    "# tranform venues into a dataframe\n",
    "dataframe = json_normalize(venues)\n",
    "dataframe.head()"
   ]
  },
  {
   "cell_type": "markdown",
   "metadata": {
    "button": false,
    "new_sheet": false,
    "run_control": {
     "read_only": false
    }
   },
   "source": [
    "#### Define information of interest and filter dataframe"
   ]
  },
  {
   "cell_type": "code",
   "execution_count": 48,
   "metadata": {
    "button": false,
    "new_sheet": false,
    "run_control": {
     "read_only": false
    },
    "scrolled": true
   },
   "outputs": [
    {
     "data": {
      "text/html": [
       "<div>\n",
       "<style scoped>\n",
       "    .dataframe tbody tr th:only-of-type {\n",
       "        vertical-align: middle;\n",
       "    }\n",
       "\n",
       "    .dataframe tbody tr th {\n",
       "        vertical-align: top;\n",
       "    }\n",
       "\n",
       "    .dataframe thead th {\n",
       "        text-align: right;\n",
       "    }\n",
       "</style>\n",
       "<table border=\"1\" class=\"dataframe\">\n",
       "  <thead>\n",
       "    <tr style=\"text-align: right;\">\n",
       "      <th></th>\n",
       "      <th>name</th>\n",
       "      <th>categories</th>\n",
       "      <th>address</th>\n",
       "      <th>cc</th>\n",
       "      <th>city</th>\n",
       "      <th>country</th>\n",
       "      <th>crossStreet</th>\n",
       "      <th>distance</th>\n",
       "      <th>formattedAddress</th>\n",
       "      <th>labeledLatLngs</th>\n",
       "      <th>lat</th>\n",
       "      <th>lng</th>\n",
       "      <th>postalCode</th>\n",
       "      <th>state</th>\n",
       "      <th>id</th>\n",
       "    </tr>\n",
       "  </thead>\n",
       "  <tbody>\n",
       "    <tr>\n",
       "      <th>0</th>\n",
       "      <td>Harry's Italian Pizza Bar</td>\n",
       "      <td>Pizza Place</td>\n",
       "      <td>225 Murray St</td>\n",
       "      <td>US</td>\n",
       "      <td>New York</td>\n",
       "      <td>United States</td>\n",
       "      <td>NaN</td>\n",
       "      <td>58</td>\n",
       "      <td>[225 Murray St, New York, NY 10282, United Sta...</td>\n",
       "      <td>[{'label': 'display', 'lat': 40.71521779064671...</td>\n",
       "      <td>40.715218</td>\n",
       "      <td>-74.014739</td>\n",
       "      <td>10282</td>\n",
       "      <td>NY</td>\n",
       "      <td>4fa862b3e4b0ebff2f749f06</td>\n",
       "    </tr>\n",
       "    <tr>\n",
       "      <th>1</th>\n",
       "      <td>Conca Cucina Italian Restaurant</td>\n",
       "      <td>Food</td>\n",
       "      <td>63 W Broadway</td>\n",
       "      <td>US</td>\n",
       "      <td>New York</td>\n",
       "      <td>United States</td>\n",
       "      <td>NaN</td>\n",
       "      <td>469</td>\n",
       "      <td>[63 W Broadway, New York, NY 10007, United Sta...</td>\n",
       "      <td>[{'label': 'display', 'lat': 40.71448400000000...</td>\n",
       "      <td>40.714484</td>\n",
       "      <td>-74.009806</td>\n",
       "      <td>10007</td>\n",
       "      <td>NY</td>\n",
       "      <td>4f3232e219836c91c7bfde94</td>\n",
       "    </tr>\n",
       "    <tr>\n",
       "      <th>2</th>\n",
       "      <td>Ecco</td>\n",
       "      <td>Italian Restaurant</td>\n",
       "      <td>124 Chambers St</td>\n",
       "      <td>US</td>\n",
       "      <td>New York</td>\n",
       "      <td>United States</td>\n",
       "      <td>btwn Church St &amp; W Broadway</td>\n",
       "      <td>549</td>\n",
       "      <td>[124 Chambers St (btwn Church St &amp; W Broadway)...</td>\n",
       "      <td>[{'label': 'display', 'lat': 40.71533713859952...</td>\n",
       "      <td>40.715337</td>\n",
       "      <td>-74.008848</td>\n",
       "      <td>10007</td>\n",
       "      <td>NY</td>\n",
       "      <td>3fd66200f964a520f4e41ee3</td>\n",
       "    </tr>\n",
       "  </tbody>\n",
       "</table>\n",
       "</div>"
      ],
      "text/plain": [
       "                              name          categories          address  cc  \\\n",
       "0        Harry's Italian Pizza Bar         Pizza Place    225 Murray St  US   \n",
       "1  Conca Cucina Italian Restaurant                Food    63 W Broadway  US   \n",
       "2                             Ecco  Italian Restaurant  124 Chambers St  US   \n",
       "\n",
       "       city        country                  crossStreet  distance  \\\n",
       "0  New York  United States                          NaN        58   \n",
       "1  New York  United States                          NaN       469   \n",
       "2  New York  United States  btwn Church St & W Broadway       549   \n",
       "\n",
       "                                    formattedAddress  \\\n",
       "0  [225 Murray St, New York, NY 10282, United Sta...   \n",
       "1  [63 W Broadway, New York, NY 10007, United Sta...   \n",
       "2  [124 Chambers St (btwn Church St & W Broadway)...   \n",
       "\n",
       "                                      labeledLatLngs        lat        lng  \\\n",
       "0  [{'label': 'display', 'lat': 40.71521779064671...  40.715218 -74.014739   \n",
       "1  [{'label': 'display', 'lat': 40.71448400000000...  40.714484 -74.009806   \n",
       "2  [{'label': 'display', 'lat': 40.71533713859952...  40.715337 -74.008848   \n",
       "\n",
       "  postalCode state                        id  \n",
       "0      10282    NY  4fa862b3e4b0ebff2f749f06  \n",
       "1      10007    NY  4f3232e219836c91c7bfde94  \n",
       "2      10007    NY  3fd66200f964a520f4e41ee3  "
      ]
     },
     "execution_count": 48,
     "metadata": {},
     "output_type": "execute_result"
    }
   ],
   "source": [
    "# keep only columns that include venue name, and anything that is associated with location\n",
    "filtered_columns = ['name', 'categories'] + [col for col in dataframe.columns if col.startswith('location.')] + ['id']\n",
    "dataframe_filtered = dataframe.loc[:, filtered_columns]\n",
    "\n",
    "# function that extracts the category of the venue\n",
    "def get_category_type(row):\n",
    "    try:\n",
    "        categories_list = row['categories']\n",
    "    except:\n",
    "        categories_list = row['venue.categories']\n",
    "        \n",
    "    if len(categories_list) == 0:\n",
    "        return None\n",
    "    else:\n",
    "        return categories_list[0]['name']\n",
    "\n",
    "# filter the category for each row\n",
    "dataframe_filtered['categories'] = dataframe_filtered.apply(get_category_type, axis=1)\n",
    "\n",
    "# clean column names by keeping only last term\n",
    "dataframe_filtered.columns = [column.split('.')[-1] for column in dataframe_filtered.columns]\n",
    "\n",
    "dataframe_filtered"
   ]
  },
  {
   "cell_type": "markdown",
   "metadata": {
    "button": false,
    "new_sheet": false,
    "run_control": {
     "read_only": false
    }
   },
   "source": [
    "#### Let's visualize the Italian restaurants that are nearby"
   ]
  },
  {
   "cell_type": "code",
   "execution_count": 49,
   "metadata": {
    "button": false,
    "new_sheet": false,
    "run_control": {
     "read_only": false
    }
   },
   "outputs": [
    {
     "data": {
      "text/plain": [
       "0          Harry's Italian Pizza Bar\n",
       "1    Conca Cucina Italian Restaurant\n",
       "2                               Ecco\n",
       "Name: name, dtype: object"
      ]
     },
     "execution_count": 49,
     "metadata": {},
     "output_type": "execute_result"
    }
   ],
   "source": [
    "dataframe_filtered.name"
   ]
  },
  {
   "cell_type": "code",
   "execution_count": 50,
   "metadata": {
    "button": false,
    "new_sheet": false,
    "run_control": {
     "read_only": false
    },
    "scrolled": false
   },
   "outputs": [
    {
     "data": {
      "text/html": [
       "<div style=\"width:100%;\"><div style=\"position:relative;width:100%;height:0;padding-bottom:60%;\"><iframe src=\"about:blank\" style=\"position:absolute;width:100%;height:100%;left:0;top:0;border:none !important;\" data-html=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 onload=\"this.contentDocument.open();this.contentDocument.write(atob(this.getAttribute('data-html')));this.contentDocument.close();\" allowfullscreen webkitallowfullscreen mozallowfullscreen></iframe></div></div>"
      ],
      "text/plain": [
       "<folium.folium.Map at 0x21556966d30>"
      ]
     },
     "execution_count": 50,
     "metadata": {},
     "output_type": "execute_result"
    }
   ],
   "source": [
    "venues_map = folium.Map(location=[latitude, longitude], zoom_start=13) # generate map centred around the Conrad Hotel\n",
    "\n",
    "# add a red circle marker to represent the Conrad Hotel\n",
    "folium.features.CircleMarker(\n",
    "    [latitude, longitude],\n",
    "    radius=10,\n",
    "    color='red',\n",
    "    popup='Conrad Hotel',\n",
    "    fill = True,\n",
    "    fill_color = 'red',\n",
    "    fill_opacity = 0.6\n",
    ").add_to(venues_map)\n",
    "\n",
    "# add the Italian restaurants as blue circle markers\n",
    "for lat, lng, label in zip(dataframe_filtered.lat, dataframe_filtered.lng, dataframe_filtered.categories):\n",
    "    folium.features.CircleMarker(\n",
    "        [lat, lng],\n",
    "        radius=5,\n",
    "        color='blue',\n",
    "        popup=label,\n",
    "        fill = True,\n",
    "        fill_color='blue',\n",
    "        fill_opacity=0.6\n",
    "    ).add_to(venues_map)\n",
    "\n",
    "# display map\n",
    "venues_map"
   ]
  },
  {
   "cell_type": "markdown",
   "metadata": {
    "button": false,
    "new_sheet": false,
    "run_control": {
     "read_only": false
    }
   },
   "source": [
    "   "
   ]
  },
  {
   "cell_type": "markdown",
   "metadata": {
    "button": false,
    "new_sheet": false,
    "run_control": {
     "read_only": false
    }
   },
   "source": [
    "<a id=\"item2\"></a>"
   ]
  },
  {
   "cell_type": "markdown",
   "metadata": {
    "button": false,
    "new_sheet": false,
    "run_control": {
     "read_only": false
    }
   },
   "source": [
    "## 2. Explore a Given Venue\n",
    "> `https://api.foursquare.com/v2/venues/`**VENUE_ID**`?client_id=`**CLIENT_ID**`&client_secret=`**CLIENT_SECRET**`&v=`**VERSION**"
   ]
  },
  {
   "cell_type": "markdown",
   "metadata": {
    "button": false,
    "new_sheet": false,
    "run_control": {
     "read_only": false
    }
   },
   "source": [
    "### A. Let's explore the closest Italian restaurant -- _Harry's Italian Pizza Bar_"
   ]
  },
  {
   "cell_type": "code",
   "execution_count": 51,
   "metadata": {
    "button": false,
    "new_sheet": false,
    "run_control": {
     "read_only": false
    }
   },
   "outputs": [
    {
     "data": {
      "text/plain": [
       "'https://api.foursquare.com/v2/venues/4fa862b3e4b0ebff2f749f06?client_id=ISGGIYM5S01PA3A4FYDE35FS23CGJAEMZACKHHAHKOPTHLZQ&client_secret=TISTMLVG1YAPIDIURZ2KRDTAQWPYCKUKRDENPMHTMDFXT0AP&v=20180604'"
      ]
     },
     "execution_count": 51,
     "metadata": {},
     "output_type": "execute_result"
    }
   ],
   "source": [
    "venue_id = '4fa862b3e4b0ebff2f749f06' # ID of Harry's Italian Pizza Bar\n",
    "url = 'https://api.foursquare.com/v2/venues/{}?client_id={}&client_secret={}&v={}'.format(venue_id, CLIENT_ID, CLIENT_SECRET, VERSION)\n",
    "url"
   ]
  },
  {
   "cell_type": "markdown",
   "metadata": {
    "button": false,
    "new_sheet": false,
    "run_control": {
     "read_only": false
    }
   },
   "source": [
    "#### Send GET request for result"
   ]
  },
  {
   "cell_type": "code",
   "execution_count": 52,
   "metadata": {
    "button": false,
    "new_sheet": false,
    "run_control": {
     "read_only": false
    }
   },
   "outputs": [
    {
     "name": "stdout",
     "output_type": "stream",
     "text": [
      "dict_keys(['id', 'name', 'contact', 'location', 'canonicalUrl', 'categories', 'verified', 'stats', 'url', 'price', 'hasMenu', 'likes', 'dislike', 'ok', 'rating', 'ratingColor', 'ratingSignals', 'delivery', 'menu', 'allowMenuUrlEdit', 'beenHere', 'specials', 'photos', 'reasons', 'hereNow', 'createdAt', 'tips', 'shortUrl', 'timeZone', 'listed', 'hours', 'popular', 'seasonalHours', 'defaultHours', 'pageUpdates', 'inbox', 'attributes', 'bestPhoto', 'colors'])\n"
     ]
    },
    {
     "data": {
      "text/plain": [
       "{'id': '4fa862b3e4b0ebff2f749f06',\n",
       " 'name': \"Harry's Italian Pizza Bar\",\n",
       " 'contact': {'phone': '2126081007', 'formattedPhone': '(212) 608-1007'},\n",
       " 'location': {'address': '225 Murray St',\n",
       "  'lat': 40.71521779064671,\n",
       "  'lng': -74.01473940209351,\n",
       "  'labeledLatLngs': [{'label': 'display',\n",
       "    'lat': 40.71521779064671,\n",
       "    'lng': -74.01473940209351},\n",
       "   {'label': 'entrance', 'lat': 40.715361, 'lng': -74.014975}],\n",
       "  'postalCode': '10282',\n",
       "  'cc': 'US',\n",
       "  'city': 'New York',\n",
       "  'state': 'NY',\n",
       "  'country': 'United States',\n",
       "  'formattedAddress': ['225 Murray St',\n",
       "   'New York, NY 10282',\n",
       "   'United States']},\n",
       " 'canonicalUrl': 'https://foursquare.com/v/harrys-italian-pizza-bar/4fa862b3e4b0ebff2f749f06',\n",
       " 'categories': [{'id': '4bf58dd8d48988d1ca941735',\n",
       "   'name': 'Pizza Place',\n",
       "   'pluralName': 'Pizza Places',\n",
       "   'shortName': 'Pizza',\n",
       "   'icon': {'prefix': 'https://ss3.4sqi.net/img/categories_v2/food/pizza_',\n",
       "    'suffix': '.png'},\n",
       "   'primary': True},\n",
       "  {'id': '4bf58dd8d48988d110941735',\n",
       "   'name': 'Italian Restaurant',\n",
       "   'pluralName': 'Italian Restaurants',\n",
       "   'shortName': 'Italian',\n",
       "   'icon': {'prefix': 'https://ss3.4sqi.net/img/categories_v2/food/italian_',\n",
       "    'suffix': '.png'}}],\n",
       " 'verified': False,\n",
       " 'stats': {'tipCount': 57},\n",
       " 'url': 'http://harrysitalian.com',\n",
       " 'price': {'tier': 2, 'message': 'Moderate', 'currency': '$'},\n",
       " 'hasMenu': True,\n",
       " 'likes': {'count': 120,\n",
       "  'groups': [{'type': 'others', 'count': 120, 'items': []}],\n",
       "  'summary': '120 Likes'},\n",
       " 'dislike': False,\n",
       " 'ok': False,\n",
       " 'rating': 6.4,\n",
       " 'ratingColor': 'FFC800',\n",
       " 'ratingSignals': 212,\n",
       " 'delivery': {'id': '294544',\n",
       "  'url': 'https://www.seamless.com/menu/harrys-italian-pizza-bar-225-murray-st-new-york/294544?affiliate=1131&utm_source=foursquare-affiliate-network&utm_medium=affiliate&utm_campaign=1131&utm_content=294544',\n",
       "  'provider': {'name': 'seamless',\n",
       "   'icon': {'prefix': 'https://fastly.4sqi.net/img/general/cap/',\n",
       "    'sizes': [40, 50],\n",
       "    'name': '/delivery_provider_seamless_20180129.png'}}},\n",
       " 'menu': {'type': 'Menu',\n",
       "  'label': 'Menu',\n",
       "  'anchor': 'View Menu',\n",
       "  'url': 'https://foursquare.com/v/harrys-italian-pizza-bar/4fa862b3e4b0ebff2f749f06/menu',\n",
       "  'mobileUrl': 'https://foursquare.com/v/4fa862b3e4b0ebff2f749f06/device_menu'},\n",
       " 'allowMenuUrlEdit': True,\n",
       " 'beenHere': {'count': 0,\n",
       "  'unconfirmedCount': 0,\n",
       "  'marked': False,\n",
       "  'lastCheckinExpiredAt': 0},\n",
       " 'specials': {'count': 0, 'items': []},\n",
       " 'photos': {'count': 146,\n",
       "  'groups': [{'type': 'venue',\n",
       "    'name': 'Venue photos',\n",
       "    'count': 146,\n",
       "    'items': [{'id': '4fad980de4b091b4626c3633',\n",
       "      'createdAt': 1336776717,\n",
       "      'source': {'name': 'Foursquare for Android',\n",
       "       'url': 'https://foursquare.com/download/#/android'},\n",
       "      'prefix': 'https://fastly.4sqi.net/img/general/',\n",
       "      'suffix': '/ya1iQFI7pLjuIJp1PGDKlrZS3OJdHCF7tpILMmjv_2w.jpg',\n",
       "      'width': 480,\n",
       "      'height': 640,\n",
       "      'user': {'id': '13676709',\n",
       "       'firstName': 'Leony',\n",
       "       'lastName': 'N',\n",
       "       'photo': {'prefix': 'https://fastly.4sqi.net/img/user/',\n",
       "        'suffix': '/T0ANFNGNMCHUDEUE.jpg'}},\n",
       "      'visibility': 'public'},\n",
       "     {'id': '503139a5e4b021f7a5e9952a',\n",
       "      'createdAt': 1345403301,\n",
       "      'source': {'name': 'Foursquare for iOS',\n",
       "       'url': 'https://foursquare.com/download/#/iphone'},\n",
       "      'prefix': 'https://fastly.4sqi.net/img/general/',\n",
       "      'suffix': '/ox3MATx28ULVNhMemzwMx5ivrRPh0aIbowxREaHWzKA.jpg',\n",
       "      'width': 720,\n",
       "      'height': 540,\n",
       "      'user': {'id': '4434246',\n",
       "       'firstName': 'Gregory',\n",
       "       'lastName': 'L',\n",
       "       'photo': {'prefix': 'https://fastly.4sqi.net/img/user/',\n",
       "        'suffix': '/4XA1N04BRCPULL2M.jpg'}},\n",
       "      'visibility': 'public'}]}]},\n",
       " 'reasons': {'count': 1,\n",
       "  'items': [{'summary': 'Lots of people like this place',\n",
       "    'type': 'general',\n",
       "    'reasonName': 'rawLikesReason'}]},\n",
       " 'hereNow': {'count': 0, 'summary': 'Nobody here', 'groups': []},\n",
       " 'createdAt': 1336435379,\n",
       " 'tips': {'count': 57,\n",
       "  'groups': [{'type': 'others',\n",
       "    'name': 'All tips',\n",
       "    'count': 57,\n",
       "    'items': [{'id': '53d27909498e0523841340b6',\n",
       "      'createdAt': 1406302473,\n",
       "      'text': \"Harry's Italian Pizza bar is known for it's amazing pizza, but did you know that the brunches here are amazing too? Try the Nutella French toast and we know you'll be sold.\",\n",
       "      'type': 'user',\n",
       "      'canonicalUrl': 'https://foursquare.com/item/53d27909498e0523841340b6',\n",
       "      'lang': 'en',\n",
       "      'likes': {'count': 4,\n",
       "       'groups': [{'type': 'others',\n",
       "         'count': 4,\n",
       "         'items': [{'id': '369426',\n",
       "           'firstName': 'P.',\n",
       "           'lastName': 'M',\n",
       "           'photo': {'prefix': 'https://fastly.4sqi.net/img/user/',\n",
       "            'suffix': '/JPQYUWJKUT0H2OO4.jpg'}},\n",
       "          {'id': '87587879',\n",
       "           'firstName': 'Diane',\n",
       "           'lastName': 'D',\n",
       "           'photo': {'prefix': 'https://fastly.4sqi.net/img/user/',\n",
       "            'suffix': '/87587879-ESLRSZLQ2CBE2P4W.jpg'}},\n",
       "          {'id': '87591341',\n",
       "           'firstName': 'Tim',\n",
       "           'lastName': 'S',\n",
       "           'photo': {'prefix': 'https://fastly.4sqi.net/img/user/',\n",
       "            'suffix': '/-Z4YK4VKE0JSVXIY1.jpg'}},\n",
       "          {'id': '87473404',\n",
       "           'firstName': 'TenantKing.com',\n",
       "           'photo': {'prefix': 'https://fastly.4sqi.net/img/user/',\n",
       "            'suffix': '/87473404-HI5DTBTK0HX401CA.png'},\n",
       "           'type': 'page'}]}],\n",
       "       'summary': '4 likes'},\n",
       "      'logView': True,\n",
       "      'agreeCount': 4,\n",
       "      'disagreeCount': 0,\n",
       "      'todo': {'count': 0},\n",
       "      'user': {'id': '87473404',\n",
       "       'firstName': 'TenantKing.com',\n",
       "       'photo': {'prefix': 'https://fastly.4sqi.net/img/user/',\n",
       "        'suffix': '/87473404-HI5DTBTK0HX401CA.png'},\n",
       "       'type': 'page'}},\n",
       "     {'id': '53962e98498ecd43845cc813',\n",
       "      'createdAt': 1402351256,\n",
       "      'text': \"I'm not sure if this place is one of the famous pizzerias in NYC but I loved their pizza.\",\n",
       "      'type': 'user',\n",
       "      'canonicalUrl': 'https://foursquare.com/item/53962e98498ecd43845cc813',\n",
       "      'photo': {'id': '53962e9c498e53dbbf59b28e',\n",
       "       'createdAt': 1402351260,\n",
       "       'source': {'name': 'Foursquare for iOS',\n",
       "        'url': 'https://foursquare.com/download/#/iphone'},\n",
       "       'prefix': 'https://fastly.4sqi.net/img/general/',\n",
       "       'suffix': '/7012699_DCcCtW8oRbhNv62E68gxtLnWn7IgRhapBr8vdnIQjYk.jpg',\n",
       "       'width': 720,\n",
       "       'height': 720,\n",
       "       'visibility': 'public'},\n",
       "      'photourl': 'https://fastly.4sqi.net/img/general/original/7012699_DCcCtW8oRbhNv62E68gxtLnWn7IgRhapBr8vdnIQjYk.jpg',\n",
       "      'lang': 'en',\n",
       "      'likes': {'count': 2,\n",
       "       'groups': [{'type': 'others',\n",
       "         'count': 2,\n",
       "         'items': [{'id': '7012699',\n",
       "           'firstName': 'Hani',\n",
       "           'lastName': 'A',\n",
       "           'photo': {'prefix': 'https://fastly.4sqi.net/img/user/',\n",
       "            'suffix': '/7012699_vCXraeWA_FdHlUETPVuDaElNtnp76a2i4JWAyD1JVMMiqitsCujXhqKtV2MQYPdfAVMBI7BRi.jpg'}},\n",
       "          {'id': '61939758',\n",
       "           'firstName': 'Leena',\n",
       "           'lastName': 'R',\n",
       "           'photo': {'prefix': 'https://fastly.4sqi.net/img/user/',\n",
       "            'suffix': '/61939758_KOpR9NFm_rNQPhjDng4f_qr3PU69nNGFgLnjwS-dM97MnkvrD7h1U2tOojRCPpFLq_B9KVfbh.jpg'}}]}],\n",
       "       'summary': '2 likes'},\n",
       "      'logView': True,\n",
       "      'agreeCount': 2,\n",
       "      'disagreeCount': 0,\n",
       "      'todo': {'count': 0},\n",
       "      'user': {'id': '7012699',\n",
       "       'firstName': 'Hani',\n",
       "       'lastName': 'A',\n",
       "       'photo': {'prefix': 'https://fastly.4sqi.net/img/user/',\n",
       "        'suffix': '/7012699_vCXraeWA_FdHlUETPVuDaElNtnp76a2i4JWAyD1JVMMiqitsCujXhqKtV2MQYPdfAVMBI7BRi.jpg'}},\n",
       "      'authorInteractionType': 'liked'}]}]},\n",
       " 'shortUrl': 'http://4sq.com/JNblHV',\n",
       " 'timeZone': 'America/New_York',\n",
       " 'listed': {'count': 54,\n",
       "  'groups': [{'type': 'others',\n",
       "    'name': 'Lists from other people',\n",
       "    'count': 54,\n",
       "    'items': [{'id': '4fa32fd0e4b04193744746b1',\n",
       "      'name': 'Manhattan Haunts',\n",
       "      'description': '',\n",
       "      'type': 'others',\n",
       "      'user': {'id': '24592223',\n",
       "       'firstName': 'Becca',\n",
       "       'lastName': 'M',\n",
       "       'photo': {'prefix': 'https://fastly.4sqi.net/img/user/',\n",
       "        'suffix': '/24592223-RAW2UYM0GIB1U40K.jpg'}},\n",
       "      'editable': False,\n",
       "      'public': True,\n",
       "      'collaborative': False,\n",
       "      'url': '/becca_mcarthur/list/manhattan-haunts',\n",
       "      'canonicalUrl': 'https://foursquare.com/becca_mcarthur/list/manhattan-haunts',\n",
       "      'createdAt': 1336094672,\n",
       "      'updatedAt': 1380845377,\n",
       "      'photo': {'id': '4e8cc9461081e3b3544e12e5',\n",
       "       'createdAt': 1317849414,\n",
       "       'prefix': 'https://fastly.4sqi.net/img/general/',\n",
       "       'suffix': '/0NLVU2HC1JF4DXIMKWUFW3QBUT31DC11EFNYYHMJG3NDWAPS.jpg',\n",
       "       'width': 492,\n",
       "       'height': 330,\n",
       "       'user': {'id': '742542',\n",
       "        'firstName': 'Time Out New York',\n",
       "        'photo': {'prefix': 'https://fastly.4sqi.net/img/user/',\n",
       "         'suffix': '/XXHKCBSQHBORZNSR.jpg'},\n",
       "        'type': 'page'},\n",
       "       'visibility': 'public'},\n",
       "      'followers': {'count': 22},\n",
       "      'listItems': {'count': 187,\n",
       "       'items': [{'id': 'v4fa862b3e4b0ebff2f749f06',\n",
       "         'createdAt': 1342934485}]}},\n",
       "     {'id': '4fae817be4b085f6b2a74d19',\n",
       "      'name': 'USA NYC MAN FiDi',\n",
       "      'description': 'Where to go for decent eats in the restaurant wasteland of Downtown NYC aka FiDi, along with Tribeca & Battery Park City.',\n",
       "      'type': 'others',\n",
       "      'user': {'id': '12113441',\n",
       "       'firstName': 'Kino',\n",
       "       'photo': {'prefix': 'https://fastly.4sqi.net/img/user/',\n",
       "        'suffix': '/12113441-K5HTHFLU2MUCM0CM.jpg'}},\n",
       "      'editable': False,\n",
       "      'public': True,\n",
       "      'collaborative': False,\n",
       "      'url': '/kinosfault/list/usa-nyc-man-fidi',\n",
       "      'canonicalUrl': 'https://foursquare.com/kinosfault/list/usa-nyc-man-fidi',\n",
       "      'createdAt': 1336836475,\n",
       "      'updatedAt': 1556754919,\n",
       "      'photo': {'id': '55984992498e13ba75e353bb',\n",
       "       'createdAt': 1436043666,\n",
       "       'prefix': 'https://fastly.4sqi.net/img/general/',\n",
       "       'suffix': '/12113441_iOa6Uh-Xi8bhj2-gpzkkw8MKiAIs7RmOcz_RM7m8ink.jpg',\n",
       "       'width': 540,\n",
       "       'height': 960,\n",
       "       'user': {'id': '12113441',\n",
       "        'firstName': 'Kino',\n",
       "        'photo': {'prefix': 'https://fastly.4sqi.net/img/user/',\n",
       "         'suffix': '/12113441-K5HTHFLU2MUCM0CM.jpg'}},\n",
       "       'visibility': 'public'},\n",
       "      'followers': {'count': 20},\n",
       "      'listItems': {'count': 273,\n",
       "       'items': [{'id': 'v4fa862b3e4b0ebff2f749f06',\n",
       "         'createdAt': 1373909433}]}},\n",
       "     {'id': '4fddeff0e4b0e078037ac0d3',\n",
       "      'name': 'NYC Resturants',\n",
       "      'description': '',\n",
       "      'type': 'others',\n",
       "      'user': {'id': '21563126',\n",
       "       'firstName': 'Richard',\n",
       "       'lastName': 'R',\n",
       "       'photo': {'prefix': 'https://fastly.4sqi.net/img/user/',\n",
       "        'suffix': '/21563126_v05J1KPw_SVj6Ehq9g8B9jeAGjFUMsU5QGl-NZ8inUQ7pKQm5bKplW37EmR7jS2A7GYPBBAtl.jpg'}},\n",
       "      'editable': False,\n",
       "      'public': True,\n",
       "      'collaborative': True,\n",
       "      'url': '/rickr7/list/nyc-resturants',\n",
       "      'canonicalUrl': 'https://foursquare.com/rickr7/list/nyc-resturants',\n",
       "      'createdAt': 1339944944,\n",
       "      'updatedAt': 1582232663,\n",
       "      'photo': {'id': '5072dd13e4b09145cdf782d1',\n",
       "       'createdAt': 1349704979,\n",
       "       'prefix': 'https://fastly.4sqi.net/img/general/',\n",
       "       'suffix': '/208205_fGh2OuAZ9qJ4agbAA5wMVNOSIm9kNUlRtNwj1N-adqg.jpg',\n",
       "       'width': 800,\n",
       "       'height': 800,\n",
       "       'user': {'id': '208205',\n",
       "        'firstName': 'Thalia',\n",
       "        'lastName': 'K',\n",
       "        'photo': {'prefix': 'https://fastly.4sqi.net/img/user/',\n",
       "         'suffix': '/SNOOLCAW2AG04ZKD.jpg'}},\n",
       "       'visibility': 'public'},\n",
       "      'followers': {'count': 12},\n",
       "      'listItems': {'count': 194,\n",
       "       'items': [{'id': 'v4fa862b3e4b0ebff2f749f06',\n",
       "         'createdAt': 1581655865}]}},\n",
       "     {'id': '5266c68a498e7c667807fe09',\n",
       "      'name': 'Foodie Love in NY - 02',\n",
       "      'description': '',\n",
       "      'type': 'others',\n",
       "      'user': {'id': '547977',\n",
       "       'firstName': 'WiLL',\n",
       "       'photo': {'prefix': 'https://fastly.4sqi.net/img/user/',\n",
       "        'suffix': '/-Q5NYGDMFDMOITQRR.jpg'}},\n",
       "      'editable': False,\n",
       "      'public': True,\n",
       "      'collaborative': False,\n",
       "      'url': '/sweetiewill/list/foodie-love-in-ny--02',\n",
       "      'canonicalUrl': 'https://foursquare.com/sweetiewill/list/foodie-love-in-ny--02',\n",
       "      'createdAt': 1382467210,\n",
       "      'updatedAt': 1391995585,\n",
       "      'followers': {'count': 7},\n",
       "      'listItems': {'count': 200,\n",
       "       'items': [{'id': 'v4fa862b3e4b0ebff2f749f06',\n",
       "         'createdAt': 1386809936}]}}]}]},\n",
       " 'hours': {'status': 'Open until 11:00 PM',\n",
       "  'richStatus': {'entities': [], 'text': 'Open until 11:00 PM'},\n",
       "  'isOpen': True,\n",
       "  'isLocalHoliday': False,\n",
       "  'dayData': [],\n",
       "  'timeframes': [{'days': 'Mon–Wed, Sun',\n",
       "    'includesToday': True,\n",
       "    'open': [{'renderedTime': '11:30 AM–11:00 PM'}],\n",
       "    'segments': []},\n",
       "   {'days': 'Thu–Sat',\n",
       "    'open': [{'renderedTime': '11:30 AM–Midnight'}],\n",
       "    'segments': []}]},\n",
       " 'popular': {'status': 'Likely open',\n",
       "  'richStatus': {'entities': [], 'text': 'Likely open'},\n",
       "  'isOpen': True,\n",
       "  'isLocalHoliday': False,\n",
       "  'timeframes': [{'days': 'Today',\n",
       "    'includesToday': True,\n",
       "    'open': [{'renderedTime': 'Noon–3:00 PM'},\n",
       "     {'renderedTime': '5:00 PM–8:00 PM'}],\n",
       "    'segments': []},\n",
       "   {'days': 'Mon',\n",
       "    'open': [{'renderedTime': 'Noon–2:00 PM'},\n",
       "     {'renderedTime': '6:00 PM–8:00 PM'}],\n",
       "    'segments': []},\n",
       "   {'days': 'Tue–Thu',\n",
       "    'open': [{'renderedTime': 'Noon–2:00 PM'},\n",
       "     {'renderedTime': '5:00 PM–10:00 PM'}],\n",
       "    'segments': []},\n",
       "   {'days': 'Fri',\n",
       "    'open': [{'renderedTime': 'Noon–3:00 PM'},\n",
       "     {'renderedTime': '5:00 PM–11:00 PM'}],\n",
       "    'segments': []},\n",
       "   {'days': 'Sat',\n",
       "    'open': [{'renderedTime': 'Noon–11:00 PM'}],\n",
       "    'segments': []}]},\n",
       " 'seasonalHours': [],\n",
       " 'defaultHours': {'status': 'Open until 11:00 PM',\n",
       "  'richStatus': {'entities': [], 'text': 'Open until 11:00 PM'},\n",
       "  'isOpen': True,\n",
       "  'isLocalHoliday': False,\n",
       "  'dayData': [],\n",
       "  'timeframes': [{'days': 'Mon–Wed, Sun',\n",
       "    'includesToday': True,\n",
       "    'open': [{'renderedTime': '11:30 AM–11:00 PM'}],\n",
       "    'segments': []},\n",
       "   {'days': 'Thu–Sat',\n",
       "    'open': [{'renderedTime': '11:30 AM–Midnight'}],\n",
       "    'segments': []}]},\n",
       " 'pageUpdates': {'count': 0, 'items': []},\n",
       " 'inbox': {'count': 0, 'items': []},\n",
       " 'attributes': {'groups': [{'type': 'price',\n",
       "    'name': 'Price',\n",
       "    'summary': '$$',\n",
       "    'count': 1,\n",
       "    'items': [{'displayName': 'Price', 'displayValue': '$$', 'priceTier': 2}]},\n",
       "   {'type': 'payments',\n",
       "    'name': 'Credit Cards',\n",
       "    'summary': 'Credit Cards',\n",
       "    'count': 7,\n",
       "    'items': [{'displayName': 'Credit Cards',\n",
       "      'displayValue': 'Yes (incl. American Express)'}]},\n",
       "   {'type': 'outdoorSeating',\n",
       "    'name': 'Outdoor Seating',\n",
       "    'summary': 'Outdoor Seating',\n",
       "    'count': 1,\n",
       "    'items': [{'displayName': 'Outdoor Seating', 'displayValue': 'Yes'}]},\n",
       "   {'type': 'serves',\n",
       "    'name': 'Menus',\n",
       "    'summary': 'Happy Hour, Brunch & more',\n",
       "    'count': 8,\n",
       "    'items': [{'displayName': 'Brunch', 'displayValue': 'Brunch'},\n",
       "     {'displayName': 'Lunch', 'displayValue': 'Lunch'},\n",
       "     {'displayName': 'Dinner', 'displayValue': 'Dinner'},\n",
       "     {'displayName': 'Happy Hour', 'displayValue': 'Happy Hour'}]},\n",
       "   {'type': 'drinks',\n",
       "    'name': 'Drinks',\n",
       "    'summary': 'Beer, Wine & Cocktails',\n",
       "    'count': 5,\n",
       "    'items': [{'displayName': 'Beer', 'displayValue': 'Beer'},\n",
       "     {'displayName': 'Wine', 'displayValue': 'Wine'},\n",
       "     {'displayName': 'Cocktails', 'displayValue': 'Cocktails'}]},\n",
       "   {'type': 'diningOptions',\n",
       "    'name': 'Dining Options',\n",
       "    'summary': 'Delivery',\n",
       "    'count': 5,\n",
       "    'items': [{'displayName': 'Delivery', 'displayValue': 'Delivery'}]}]},\n",
       " 'bestPhoto': {'id': '4fad980de4b091b4626c3633',\n",
       "  'createdAt': 1336776717,\n",
       "  'source': {'name': 'Foursquare for Android',\n",
       "   'url': 'https://foursquare.com/download/#/android'},\n",
       "  'prefix': 'https://fastly.4sqi.net/img/general/',\n",
       "  'suffix': '/ya1iQFI7pLjuIJp1PGDKlrZS3OJdHCF7tpILMmjv_2w.jpg',\n",
       "  'width': 480,\n",
       "  'height': 640,\n",
       "  'visibility': 'public'},\n",
       " 'colors': {'highlightColor': {'photoId': '4fad980de4b091b4626c3633',\n",
       "   'value': -13619152},\n",
       "  'highlightTextColor': {'photoId': '4fad980de4b091b4626c3633', 'value': -1},\n",
       "  'algoVersion': 3}}"
      ]
     },
     "execution_count": 52,
     "metadata": {},
     "output_type": "execute_result"
    }
   ],
   "source": [
    "result = requests.get(url).json()\n",
    "print(result['response']['venue'].keys())\n",
    "result['response']['venue']"
   ]
  },
  {
   "cell_type": "markdown",
   "metadata": {
    "button": false,
    "new_sheet": false,
    "run_control": {
     "read_only": false
    }
   },
   "source": [
    "### B. Get the venue's overall rating"
   ]
  },
  {
   "cell_type": "code",
   "execution_count": 53,
   "metadata": {
    "button": false,
    "new_sheet": false,
    "run_control": {
     "read_only": false
    }
   },
   "outputs": [
    {
     "name": "stdout",
     "output_type": "stream",
     "text": [
      "6.4\n"
     ]
    }
   ],
   "source": [
    "try:\n",
    "    print(result['response']['venue']['rating'])\n",
    "except:\n",
    "    print('This venue has not been rated yet.')"
   ]
  },
  {
   "cell_type": "markdown",
   "metadata": {
    "button": false,
    "new_sheet": false,
    "run_control": {
     "read_only": false
    }
   },
   "source": [
    "That is not a very good rating. Let's check the rating of the second closest Italian restaurant."
   ]
  },
  {
   "cell_type": "code",
   "execution_count": 54,
   "metadata": {
    "button": false,
    "new_sheet": false,
    "run_control": {
     "read_only": false
    }
   },
   "outputs": [
    {
     "name": "stdout",
     "output_type": "stream",
     "text": [
      "This venue has not been rated yet.\n"
     ]
    }
   ],
   "source": [
    "venue_id = '4f3232e219836c91c7bfde94' # ID of Conca Cucina Italian Restaurant\n",
    "url = 'https://api.foursquare.com/v2/venues/{}?client_id={}&client_secret={}&v={}'.format(venue_id, CLIENT_ID, CLIENT_SECRET, VERSION)\n",
    "\n",
    "result = requests.get(url).json()\n",
    "try:\n",
    "    print(result['response']['venue']['rating'])\n",
    "except:\n",
    "    print('This venue has not been rated yet.')"
   ]
  },
  {
   "cell_type": "markdown",
   "metadata": {
    "button": false,
    "new_sheet": false,
    "run_control": {
     "read_only": false
    }
   },
   "source": [
    "Since this restaurant has no ratings, let's check the third restaurant."
   ]
  },
  {
   "cell_type": "code",
   "execution_count": 55,
   "metadata": {
    "button": false,
    "new_sheet": false,
    "run_control": {
     "read_only": false
    }
   },
   "outputs": [
    {
     "name": "stdout",
     "output_type": "stream",
     "text": [
      "7.4\n"
     ]
    }
   ],
   "source": [
    "venue_id = '3fd66200f964a520f4e41ee3' # ID of Ecco\n",
    "url = 'https://api.foursquare.com/v2/venues/{}?client_id={}&client_secret={}&v={}'.format(venue_id, CLIENT_ID, CLIENT_SECRET, VERSION)\n",
    "\n",
    "result = requests.get(url).json()\n",
    "try:\n",
    "    print(result['response']['venue']['rating'])\n",
    "except:\n",
    "    print('This venue has not been rated yet.')"
   ]
  },
  {
   "cell_type": "markdown",
   "metadata": {
    "button": false,
    "new_sheet": false,
    "run_control": {
     "read_only": false
    }
   },
   "source": [
    "Since this restaurant has a slightly better rating, let's explore it further."
   ]
  },
  {
   "cell_type": "markdown",
   "metadata": {
    "button": false,
    "new_sheet": false,
    "run_control": {
     "read_only": false
    }
   },
   "source": [
    "### C. Get the number of tips"
   ]
  },
  {
   "cell_type": "code",
   "execution_count": 59,
   "metadata": {},
   "outputs": [
    {
     "data": {
      "text/plain": [
       "{'count': 19,\n",
       " 'groups': [{'type': 'others',\n",
       "   'name': 'All tips',\n",
       "   'count': 19,\n",
       "   'items': [{'id': '4c7ac41f278eb713ae245c80',\n",
       "     'createdAt': 1283114015,\n",
       "     'text': 'Old world comfort where you can enjoy veal chop alla salvia, lobster fra diavolo and branzino al forno. You can get our free Downtown dining guide at http://www.downtownny.com/mapsguides/',\n",
       "     'entities': [{'indices': [150, 187],\n",
       "       'type': 'url',\n",
       "       'object': {'url': 'http://www.downtownny.com/mapsguides/'}}],\n",
       "     'type': 'user',\n",
       "     'canonicalUrl': 'https://foursquare.com/item/4c7ac41f278eb713ae245c80',\n",
       "     'lang': 'en',\n",
       "     'likes': {'count': 2,\n",
       "      'groups': [{'type': 'others',\n",
       "        'count': 2,\n",
       "        'items': [{'id': '9386209',\n",
       "          'firstName': 'The Official Khalis',\n",
       "          'photo': {'prefix': 'https://fastly.4sqi.net/img/user/',\n",
       "           'suffix': '/9386209-XJKHDWP30AUDGT4H.jpg'}}]}],\n",
       "      'summary': '2 likes'},\n",
       "     'logView': True,\n",
       "     'agreeCount': 2,\n",
       "     'disagreeCount': 0,\n",
       "     'todo': {'count': 5},\n",
       "     'user': {'id': '2901547',\n",
       "      'firstName': 'Downtown',\n",
       "      'lastName': 'A',\n",
       "      'photo': {'prefix': 'https://fastly.4sqi.net/img/user/',\n",
       "       'suffix': '/TQWAQFUYL5LWNK2M.jpg'}}},\n",
       "    {'id': '4bce658370c603bbff9b98b4',\n",
       "     'createdAt': 1271817603,\n",
       "     'text': 'Veal Parm is just the best.',\n",
       "     'type': 'user',\n",
       "     'canonicalUrl': 'https://foursquare.com/item/4bce658370c603bbff9b98b4',\n",
       "     'lang': 'en',\n",
       "     'likes': {'count': 2,\n",
       "      'groups': [{'type': 'others', 'count': 2, 'items': []}],\n",
       "      'summary': '2 likes'},\n",
       "     'logView': True,\n",
       "     'agreeCount': 0,\n",
       "     'disagreeCount': 0,\n",
       "     'todo': {'count': 0},\n",
       "     'user': {'id': '68349',\n",
       "      'firstName': 'George',\n",
       "      'lastName': 'V',\n",
       "      'photo': {'prefix': 'https://fastly.4sqi.net/img/user/',\n",
       "       'suffix': '/68349_1259367701199.jpg'}}}]}]}"
      ]
     },
     "execution_count": 59,
     "metadata": {},
     "output_type": "execute_result"
    }
   ],
   "source": [
    "result['response']['venue']['tips']"
   ]
  },
  {
   "cell_type": "code",
   "execution_count": 60,
   "metadata": {
    "button": false,
    "new_sheet": false,
    "run_control": {
     "read_only": false
    }
   },
   "outputs": [
    {
     "data": {
      "text/plain": [
       "19"
      ]
     },
     "execution_count": 60,
     "metadata": {},
     "output_type": "execute_result"
    }
   ],
   "source": [
    "result['response']['venue']['tips']['count']"
   ]
  },
  {
   "cell_type": "markdown",
   "metadata": {
    "button": false,
    "new_sheet": false,
    "run_control": {
     "read_only": false
    }
   },
   "source": [
    "### D. Get the venue's tips\n",
    "> `https://api.foursquare.com/v2/venues/`**VENUE_ID**`/tips?client_id=`**CLIENT_ID**`&client_secret=`**CLIENT_SECRET**`&v=`**VERSION**`&limit=`**LIMIT**"
   ]
  },
  {
   "cell_type": "markdown",
   "metadata": {
    "button": false,
    "new_sheet": false,
    "run_control": {
     "read_only": false
    }
   },
   "source": [
    "#### Create URL and send GET request. Make sure to set limit to get all tips"
   ]
  },
  {
   "cell_type": "code",
   "execution_count": 71,
   "metadata": {
    "button": false,
    "new_sheet": false,
    "run_control": {
     "read_only": false
    }
   },
   "outputs": [
    {
     "data": {
      "text/plain": [
       "{'meta': {'code': 200, 'requestId': '5eaef168bae9a2001b79c3d5'},\n",
       " 'response': {'tips': {'count': 19,\n",
       "   'items': [{'id': '5ab1cb46c9a517174651d3fe',\n",
       "     'createdAt': 1521601350,\n",
       "     'text': 'A+ Italian food! Trust me on this: my mom’s side of the family is 100% Italian. I was born and bred to know good pasta when I see it, and Ecco is one of my all-time NYC favorites',\n",
       "     'type': 'user',\n",
       "     'canonicalUrl': 'https://foursquare.com/item/5ab1cb46c9a517174651d3fe',\n",
       "     'lang': 'en',\n",
       "     'likes': {'count': 0, 'groups': []},\n",
       "     'logView': True,\n",
       "     'agreeCount': 4,\n",
       "     'disagreeCount': 0,\n",
       "     'todo': {'count': 0},\n",
       "     'user': {'id': '484542633',\n",
       "      'firstName': 'Nick',\n",
       "      'lastName': 'E',\n",
       "      'photo': {'prefix': 'https://fastly.4sqi.net/img/user/',\n",
       "       'suffix': '/484542633_unymNUmw_FdPs3GjXHujmHcYnN4hf8kEPADlOZuIrdcdm97VX3tFqL7fFNMNA_8Gl9NlU1GYg.jpg'}},\n",
       "     'authorInteractionType': 'liked'},\n",
       "    {'id': '5cb7051b180b910039f90625',\n",
       "     'createdAt': 1555498267,\n",
       "     'text': 'Excellent food!! Osso bucco special one of the best I ever had! Lobster ravioli with porcini mushroomhomemade Italian cheesecake, tiramisu and napoleons...calamari fra diavolo was sautéed not fried',\n",
       "     'type': 'user',\n",
       "     'canonicalUrl': 'https://foursquare.com/item/5cb7051b180b910039f90625',\n",
       "     'lang': 'en',\n",
       "     'likes': {'count': 0, 'groups': []},\n",
       "     'logView': True,\n",
       "     'agreeCount': 1,\n",
       "     'disagreeCount': 0,\n",
       "     'todo': {'count': 0},\n",
       "     'user': {'id': '446298346',\n",
       "      'firstName': 'Lynn',\n",
       "      'lastName': 'B',\n",
       "      'photo': {'prefix': 'https://fastly.4sqi.net/img/user/',\n",
       "       'suffix': '/446298346_fdtqugvP_1WztOWXXDQX92HwIrjzLb6nMQsYiCVlkiTp58UGSFVBwQ0-5G5AdqxlEWphYWTnK.jpg'}},\n",
       "     'authorInteractionType': 'liked'}]}}}"
      ]
     },
     "execution_count": 71,
     "metadata": {},
     "output_type": "execute_result"
    }
   ],
   "source": [
    "## Ecco Tips\n",
    "limit = 15 # set limit to be greater than or equal to the total number of tips\n",
    "url = 'https://api.foursquare.com/v2/venues/{}/tips?client_id={}&client_secret={}&v={}&limit={}'.format(venue_id, CLIENT_ID, CLIENT_SECRET, VERSION, limit)\n",
    "\n",
    "results = requests.get(url).json()\n",
    "results"
   ]
  },
  {
   "cell_type": "markdown",
   "metadata": {
    "button": false,
    "new_sheet": false,
    "run_control": {
     "read_only": false
    }
   },
   "source": [
    "#### Get tips and list of associated features"
   ]
  },
  {
   "cell_type": "code",
   "execution_count": 62,
   "metadata": {
    "button": false,
    "new_sheet": false,
    "run_control": {
     "read_only": false
    }
   },
   "outputs": [
    {
     "data": {
      "text/plain": [
       "dict_keys(['id', 'createdAt', 'text', 'type', 'canonicalUrl', 'lang', 'likes', 'logView', 'agreeCount', 'disagreeCount', 'todo', 'user', 'authorInteractionType'])"
      ]
     },
     "execution_count": 62,
     "metadata": {},
     "output_type": "execute_result"
    }
   ],
   "source": [
    "tips = results['response']['tips']['items']\n",
    "\n",
    "tip = results['response']['tips']['items'][0]\n",
    "tip.keys()"
   ]
  },
  {
   "cell_type": "markdown",
   "metadata": {
    "button": false,
    "new_sheet": false,
    "run_control": {
     "read_only": false
    }
   },
   "source": [
    "#### Format column width and display all tips"
   ]
  },
  {
   "cell_type": "code",
   "execution_count": 65,
   "metadata": {
    "button": false,
    "new_sheet": false,
    "run_control": {
     "read_only": false
    },
    "scrolled": false
   },
   "outputs": [
    {
     "name": "stderr",
     "output_type": "stream",
     "text": [
      "C:\\ProgramData\\Anaconda3\\lib\\site-packages\\pandas\\core\\indexing.py:1472: FutureWarning: \n",
      "Passing list-likes to .loc or [] with any missing label will raise\n",
      "KeyError in the future, you can use .reindex() as an alternative.\n",
      "\n",
      "See the documentation here:\n",
      "https://pandas.pydata.org/pandas-docs/stable/indexing.html#deprecate-loc-reindex-listlike\n",
      "  return self._getitem_tuple(key)\n"
     ]
    },
    {
     "data": {
      "text/html": [
       "<div>\n",
       "<style scoped>\n",
       "    .dataframe tbody tr th:only-of-type {\n",
       "        vertical-align: middle;\n",
       "    }\n",
       "\n",
       "    .dataframe tbody tr th {\n",
       "        vertical-align: top;\n",
       "    }\n",
       "\n",
       "    .dataframe thead th {\n",
       "        text-align: right;\n",
       "    }\n",
       "</style>\n",
       "<table border=\"1\" class=\"dataframe\">\n",
       "  <thead>\n",
       "    <tr style=\"text-align: right;\">\n",
       "      <th></th>\n",
       "      <th>text</th>\n",
       "      <th>agreeCount</th>\n",
       "      <th>disagreeCount</th>\n",
       "      <th>id</th>\n",
       "      <th>user.firstName</th>\n",
       "      <th>user.lastName</th>\n",
       "      <th>user.gender</th>\n",
       "      <th>user.id</th>\n",
       "    </tr>\n",
       "  </thead>\n",
       "  <tbody>\n",
       "    <tr>\n",
       "      <th>0</th>\n",
       "      <td>A+ Italian food! Trust me on this: my mom’s side of the family is 100% Italian. I was born and bred to know good pasta when I see it, and Ecco is one of my all-time NYC favorites</td>\n",
       "      <td>4</td>\n",
       "      <td>0</td>\n",
       "      <td>5ab1cb46c9a517174651d3fe</td>\n",
       "      <td>Nick</td>\n",
       "      <td>E</td>\n",
       "      <td>NaN</td>\n",
       "      <td>484542633</td>\n",
       "    </tr>\n",
       "    <tr>\n",
       "      <th>1</th>\n",
       "      <td>Excellent food!! Osso bucco special one of the best I ever had! Lobster ravioli with porcini mushroomhomemade Italian cheesecake, tiramisu and napoleons...calamari fra diavolo was sautéed not fried</td>\n",
       "      <td>1</td>\n",
       "      <td>0</td>\n",
       "      <td>5cb7051b180b910039f90625</td>\n",
       "      <td>Lynn</td>\n",
       "      <td>B</td>\n",
       "      <td>NaN</td>\n",
       "      <td>446298346</td>\n",
       "    </tr>\n",
       "  </tbody>\n",
       "</table>\n",
       "</div>"
      ],
      "text/plain": [
       "                                                                                                                                                                                                    text  \\\n",
       "0  A+ Italian food! Trust me on this: my mom’s side of the family is 100% Italian. I was born and bred to know good pasta when I see it, and Ecco is one of my all-time NYC favorites                      \n",
       "1  Excellent food!! Osso bucco special one of the best I ever had! Lobster ravioli with porcini mushroomhomemade Italian cheesecake, tiramisu and napoleons...calamari fra diavolo was sautéed not fried   \n",
       "\n",
       "   agreeCount  disagreeCount                        id user.firstName  \\\n",
       "0  4           0              5ab1cb46c9a517174651d3fe  Nick            \n",
       "1  1           0              5cb7051b180b910039f90625  Lynn            \n",
       "\n",
       "  user.lastName  user.gender    user.id  \n",
       "0  E            NaN           484542633  \n",
       "1  B            NaN           446298346  "
      ]
     },
     "execution_count": 65,
     "metadata": {},
     "output_type": "execute_result"
    }
   ],
   "source": [
    "pd.set_option('display.max_colwidth', -1)\n",
    "\n",
    "tips_df = json_normalize(tips) # json normalize tips\n",
    "\n",
    "# columns to keep\n",
    "filtered_columns = ['text', 'agreeCount', 'disagreeCount', 'id', 'user.firstName', 'user.lastName', 'user.gender', 'user.id']\n",
    "tips_filtered = tips_df.loc[:, filtered_columns]\n",
    "\n",
    "# display tips\n",
    "tips_filtered"
   ]
  },
  {
   "cell_type": "markdown",
   "metadata": {
    "button": false,
    "new_sheet": false,
    "run_control": {
     "read_only": false
    }
   },
   "source": [
    "Now remember that because we are using a personal developer account, then we can access only 2 of the restaurant's tips, instead of all 15 tips."
   ]
  },
  {
   "cell_type": "markdown",
   "metadata": {
    "button": false,
    "new_sheet": false,
    "run_control": {
     "read_only": false
    }
   },
   "source": [
    "   "
   ]
  },
  {
   "cell_type": "markdown",
   "metadata": {
    "button": false,
    "new_sheet": false,
    "run_control": {
     "read_only": false
    }
   },
   "source": [
    "<a id=\"item3\"></a>"
   ]
  },
  {
   "cell_type": "markdown",
   "metadata": {
    "button": false,
    "new_sheet": false,
    "run_control": {
     "read_only": false
    }
   },
   "source": [
    "## 3. Search a Foursquare User\n",
    "> `https://api.foursquare.com/v2/users/`**USER_ID**`?client_id=`**CLIENT_ID**`&client_secret=`**CLIENT_SECRET**`&v=`**VERSION**"
   ]
  },
  {
   "cell_type": "markdown",
   "metadata": {
    "button": false,
    "new_sheet": false,
    "run_control": {
     "read_only": false
    }
   },
   "source": [
    "### Define URL, send GET request and display features associated with user"
   ]
  },
  {
   "cell_type": "code",
   "execution_count": 94,
   "metadata": {
    "button": false,
    "new_sheet": false,
    "run_control": {
     "read_only": false
    }
   },
   "outputs": [
    {
     "data": {
      "text/plain": [
       "dict_keys(['id', 'firstName', 'lastName', 'photo'])"
      ]
     },
     "execution_count": 94,
     "metadata": {},
     "output_type": "execute_result"
    }
   ],
   "source": [
    "user_id = '484542633' # user ID with most agree counts and complete profile\n",
    "\n",
    "url = 'https://api.foursquare.com/v2/users/{}/lists?client_id={}&client_secret={}&v={}'.format(user_id, CLIENT_ID, CLIENT_SECRET, VERSION) # define URL\n",
    "\n",
    "# send GET request\n",
    "results = requests.get(url).json()\n",
    "results\n",
    "\n",
    "user_data = results['response']['lists']['groups'][0]['items'][0]['user']\n",
    "# display features associated with user\n",
    "user_data.keys()"
   ]
  },
  {
   "cell_type": "code",
   "execution_count": 97,
   "metadata": {
    "button": false,
    "new_sheet": false,
    "run_control": {
     "read_only": false
    }
   },
   "outputs": [
    {
     "name": "stdout",
     "output_type": "stream",
     "text": [
      "First Name: Nick\n",
      "Last Name: E\n"
     ]
    }
   ],
   "source": [
    "print('First Name: ' + user_data['firstName'])\n",
    "print('Last Name: ' + user_data['lastName'])\n",
    "#print('Home City: ' + user_data['homeCity'])"
   ]
  },
  {
   "cell_type": "markdown",
   "metadata": {
    "button": false,
    "new_sheet": false,
    "run_control": {
     "read_only": false
    }
   },
   "source": [
    "#### How many tips has this user submitted?"
   ]
  },
  {
   "cell_type": "code",
   "execution_count": 98,
   "metadata": {
    "button": false,
    "new_sheet": false,
    "run_control": {
     "read_only": false
    }
   },
   "outputs": [
    {
     "ename": "KeyError",
     "evalue": "'tips'",
     "output_type": "error",
     "traceback": [
      "\u001b[1;31m---------------------------------------------------------------------------\u001b[0m",
      "\u001b[1;31mKeyError\u001b[0m                                  Traceback (most recent call last)",
      "\u001b[1;32m<ipython-input-98-6335e7dc938e>\u001b[0m in \u001b[0;36m<module>\u001b[1;34m()\u001b[0m\n\u001b[1;32m----> 1\u001b[1;33m \u001b[0muser_data\u001b[0m\u001b[1;33m[\u001b[0m\u001b[1;34m'tips'\u001b[0m\u001b[1;33m]\u001b[0m\u001b[1;33m\u001b[0m\u001b[0m\n\u001b[0m",
      "\u001b[1;31mKeyError\u001b[0m: 'tips'"
     ]
    }
   ],
   "source": [
    "user_data['tips']"
   ]
  },
  {
   "cell_type": "markdown",
   "metadata": {
    "button": false,
    "new_sheet": false,
    "run_control": {
     "read_only": false
    }
   },
   "source": [
    "Wow! So it turns out that Nick is a very active Foursquare user, with more than 250 tips."
   ]
  },
  {
   "cell_type": "markdown",
   "metadata": {
    "button": false,
    "new_sheet": false,
    "run_control": {
     "read_only": false
    }
   },
   "source": [
    "### Get User's tips"
   ]
  },
  {
   "cell_type": "code",
   "execution_count": 99,
   "metadata": {
    "button": false,
    "new_sheet": false,
    "run_control": {
     "read_only": false
    },
    "scrolled": false
   },
   "outputs": [
    {
     "data": {
      "text/html": [
       "<div>\n",
       "<style scoped>\n",
       "    .dataframe tbody tr th:only-of-type {\n",
       "        vertical-align: middle;\n",
       "    }\n",
       "\n",
       "    .dataframe tbody tr th {\n",
       "        vertical-align: top;\n",
       "    }\n",
       "\n",
       "    .dataframe thead th {\n",
       "        text-align: right;\n",
       "    }\n",
       "</style>\n",
       "<table border=\"1\" class=\"dataframe\">\n",
       "  <thead>\n",
       "    <tr style=\"text-align: right;\">\n",
       "      <th></th>\n",
       "      <th>text</th>\n",
       "      <th>agreeCount</th>\n",
       "      <th>disagreeCount</th>\n",
       "      <th>id</th>\n",
       "    </tr>\n",
       "  </thead>\n",
       "  <tbody>\n",
       "    <tr>\n",
       "      <th>0</th>\n",
       "      <td>They serve coffee!!!!!!</td>\n",
       "      <td>1</td>\n",
       "      <td>0</td>\n",
       "      <td>5accc98c0313204c9d7ec157</td>\n",
       "    </tr>\n",
       "    <tr>\n",
       "      <th>1</th>\n",
       "      <td>Quick, cheap lunch that tastes good! Way shorter line than Chipotle, too.</td>\n",
       "      <td>2</td>\n",
       "      <td>0</td>\n",
       "      <td>5acbec70a0215b732e264fe8</td>\n",
       "    </tr>\n",
       "    <tr>\n",
       "      <th>2</th>\n",
       "      <td>You’re not a real New Yorker until you’ve shame-ordered Insomnia Cookies for delivery at 3am</td>\n",
       "      <td>1</td>\n",
       "      <td>0</td>\n",
       "      <td>5acbbd4eb1538e45373b07f5</td>\n",
       "    </tr>\n",
       "    <tr>\n",
       "      <th>3</th>\n",
       "      <td>Good for you yet still tasty! Clean green protein is my go-to after I hit the gym 💪</td>\n",
       "      <td>2</td>\n",
       "      <td>0</td>\n",
       "      <td>5acbbcda01235808d5d6dc75</td>\n",
       "    </tr>\n",
       "    <tr>\n",
       "      <th>4</th>\n",
       "      <td>Burger game strong 💪</td>\n",
       "      <td>1</td>\n",
       "      <td>0</td>\n",
       "      <td>5ab575fb6bdee65f759da8c1</td>\n",
       "    </tr>\n",
       "    <tr>\n",
       "      <th>5</th>\n",
       "      <td>Great burgers &amp; fries! Also, this place is exactly what it’s like when you go to a bar in the Southwest. Source: I’m from Arizona.</td>\n",
       "      <td>2</td>\n",
       "      <td>0</td>\n",
       "      <td>5ab5575d73fe2516ad8f363b</td>\n",
       "    </tr>\n",
       "    <tr>\n",
       "      <th>6</th>\n",
       "      <td>Açaí bowl + peanut butter + whey protein = 💪💪💪</td>\n",
       "      <td>1</td>\n",
       "      <td>0</td>\n",
       "      <td>5ab42db53c858d64af2688a4</td>\n",
       "    </tr>\n",
       "    <tr>\n",
       "      <th>7</th>\n",
       "      <td>Highly underrated and way less crowded than Central Park!</td>\n",
       "      <td>3</td>\n",
       "      <td>0</td>\n",
       "      <td>5ab42c396f706a29f53ad1a8</td>\n",
       "    </tr>\n",
       "    <tr>\n",
       "      <th>8</th>\n",
       "      <td>Way easier to navigate than the Met proper, plus the Met Breuer focuses on modern art. If I only have a limited amount of time to spend in a museum, I would rather go here than anywhere else!</td>\n",
       "      <td>6</td>\n",
       "      <td>0</td>\n",
       "      <td>5ab42b987dc9e17930e5ff5b</td>\n",
       "    </tr>\n",
       "    <tr>\n",
       "      <th>9</th>\n",
       "      <td>Get the açaí bowl with peanut butter after your work out and thank me later 👌</td>\n",
       "      <td>1</td>\n",
       "      <td>0</td>\n",
       "      <td>5ab42aca2a7ab6333652b266</td>\n",
       "    </tr>\n",
       "    <tr>\n",
       "      <th>10</th>\n",
       "      <td>When you want a burger, this should be the first thing that comes to mind. A+!</td>\n",
       "      <td>1</td>\n",
       "      <td>0</td>\n",
       "      <td>5ab42a28da5e5617d18e3a6a</td>\n",
       "    </tr>\n",
       "    <tr>\n",
       "      <th>11</th>\n",
       "      <td>Way less crowded than Central Park! People who live in the neighborhood rave about Carl Schurz Park.</td>\n",
       "      <td>3</td>\n",
       "      <td>0</td>\n",
       "      <td>5ab429db1ffe971b060083f5</td>\n",
       "    </tr>\n",
       "    <tr>\n",
       "      <th>12</th>\n",
       "      <td>The best Mexican food in the Murray Hill / Kips Bay area!</td>\n",
       "      <td>1</td>\n",
       "      <td>0</td>\n",
       "      <td>5ab3f53f8496ca57542d5549</td>\n",
       "    </tr>\n",
       "    <tr>\n",
       "      <th>13</th>\n",
       "      <td>Best coffee shop in the neighborhood!</td>\n",
       "      <td>1</td>\n",
       "      <td>0</td>\n",
       "      <td>5ab3f428da5e5617d17d1475</td>\n",
       "    </tr>\n",
       "    <tr>\n",
       "      <th>14</th>\n",
       "      <td>When there’s nice weather, the rooftop at Tonic East is the best place to watch the game. Perfect for March Madness &amp; NBA finals!</td>\n",
       "      <td>2</td>\n",
       "      <td>0</td>\n",
       "      <td>5ab3f3fedd70c572de886c9d</td>\n",
       "    </tr>\n",
       "  </tbody>\n",
       "</table>\n",
       "</div>"
      ],
      "text/plain": [
       "                                                                                                                                                                                               text  \\\n",
       "0   They serve coffee!!!!!!                                                                                                                                                                           \n",
       "1   Quick, cheap lunch that tastes good! Way shorter line than Chipotle, too.                                                                                                                         \n",
       "2   You’re not a real New Yorker until you’ve shame-ordered Insomnia Cookies for delivery at 3am                                                                                                      \n",
       "3   Good for you yet still tasty! Clean green protein is my go-to after I hit the gym 💪                                                                                                               \n",
       "4   Burger game strong 💪                                                                                                                                                                              \n",
       "5   Great burgers & fries! Also, this place is exactly what it’s like when you go to a bar in the Southwest. Source: I’m from Arizona.                                                                \n",
       "6   Açaí bowl + peanut butter + whey protein = 💪💪💪                                                                                                                                                    \n",
       "7   Highly underrated and way less crowded than Central Park!                                                                                                                                         \n",
       "8   Way easier to navigate than the Met proper, plus the Met Breuer focuses on modern art. If I only have a limited amount of time to spend in a museum, I would rather go here than anywhere else!   \n",
       "9   Get the açaí bowl with peanut butter after your work out and thank me later 👌                                                                                                                     \n",
       "10  When you want a burger, this should be the first thing that comes to mind. A+!                                                                                                                    \n",
       "11  Way less crowded than Central Park! People who live in the neighborhood rave about Carl Schurz Park.                                                                                              \n",
       "12  The best Mexican food in the Murray Hill / Kips Bay area!                                                                                                                                         \n",
       "13  Best coffee shop in the neighborhood!                                                                                                                                                             \n",
       "14  When there’s nice weather, the rooftop at Tonic East is the best place to watch the game. Perfect for March Madness & NBA finals!                                                                 \n",
       "\n",
       "    agreeCount  disagreeCount                        id  \n",
       "0   1           0              5accc98c0313204c9d7ec157  \n",
       "1   2           0              5acbec70a0215b732e264fe8  \n",
       "2   1           0              5acbbd4eb1538e45373b07f5  \n",
       "3   2           0              5acbbcda01235808d5d6dc75  \n",
       "4   1           0              5ab575fb6bdee65f759da8c1  \n",
       "5   2           0              5ab5575d73fe2516ad8f363b  \n",
       "6   1           0              5ab42db53c858d64af2688a4  \n",
       "7   3           0              5ab42c396f706a29f53ad1a8  \n",
       "8   6           0              5ab42b987dc9e17930e5ff5b  \n",
       "9   1           0              5ab42aca2a7ab6333652b266  \n",
       "10  1           0              5ab42a28da5e5617d18e3a6a  \n",
       "11  3           0              5ab429db1ffe971b060083f5  \n",
       "12  1           0              5ab3f53f8496ca57542d5549  \n",
       "13  1           0              5ab3f428da5e5617d17d1475  \n",
       "14  2           0              5ab3f3fedd70c572de886c9d  "
      ]
     },
     "execution_count": 99,
     "metadata": {},
     "output_type": "execute_result"
    }
   ],
   "source": [
    "# define tips URL\n",
    "url = 'https://api.foursquare.com/v2/users/{}/tips?client_id={}&client_secret={}&v={}&limit={}'.format(user_id, CLIENT_ID, CLIENT_SECRET, VERSION, limit)\n",
    "\n",
    "# send GET request and get user's tips\n",
    "results = requests.get(url).json()\n",
    "tips = results['response']['tips']['items']\n",
    "\n",
    "# format column width\n",
    "pd.set_option('display.max_colwidth', -1)\n",
    "\n",
    "tips_df = json_normalize(tips)\n",
    "\n",
    "# filter columns\n",
    "filtered_columns = ['text', 'agreeCount', 'disagreeCount', 'id']\n",
    "tips_filtered = tips_df.loc[:, filtered_columns]\n",
    "\n",
    "# display user's tips\n",
    "tips_filtered"
   ]
  },
  {
   "cell_type": "markdown",
   "metadata": {
    "button": false,
    "new_sheet": false,
    "run_control": {
     "read_only": false
    }
   },
   "source": [
    "#### Let's get the venue for the tip with the greatest number of agree counts"
   ]
  },
  {
   "cell_type": "code",
   "execution_count": 100,
   "metadata": {
    "button": false,
    "new_sheet": false,
    "run_control": {
     "read_only": false
    }
   },
   "outputs": [
    {
     "name": "stdout",
     "output_type": "stream",
     "text": [
      "Cowgirl\n",
      "{'address': '519 Hudson St', 'crossStreet': 'at W 10th St', 'lat': 40.73373338282062, 'lng': -74.0062998849649, 'labeledLatLngs': [{'label': 'display', 'lat': 40.73373338282062, 'lng': -74.0062998849649}], 'postalCode': '10014', 'cc': 'US', 'city': 'New York', 'state': 'NY', 'country': 'United States', 'formattedAddress': ['519 Hudson St (at W 10th St)', 'New York, NY 10014', 'United States']}\n"
     ]
    }
   ],
   "source": [
    "tip_id = '5ab5575d73fe2516ad8f363b' # tip id\n",
    "\n",
    "# define URL\n",
    "url = 'http://api.foursquare.com/v2/tips/{}?client_id={}&client_secret={}&v={}'.format(tip_id, CLIENT_ID, CLIENT_SECRET, VERSION)\n",
    "\n",
    "# send GET Request and examine results\n",
    "result = requests.get(url).json()\n",
    "print(result['response']['tip']['venue']['name'])\n",
    "print(result['response']['tip']['venue']['location'])"
   ]
  },
  {
   "cell_type": "code",
   "execution_count": 103,
   "metadata": {},
   "outputs": [
    {
     "data": {
      "text/plain": [
       "{'id': '3fd66200f964a520e9e61ee3',\n",
       " 'name': 'Cowgirl',\n",
       " 'location': {'address': '519 Hudson St',\n",
       "  'crossStreet': 'at W 10th St',\n",
       "  'lat': 40.73373338282062,\n",
       "  'lng': -74.0062998849649,\n",
       "  'labeledLatLngs': [{'label': 'display',\n",
       "    'lat': 40.73373338282062,\n",
       "    'lng': -74.0062998849649}],\n",
       "  'postalCode': '10014',\n",
       "  'cc': 'US',\n",
       "  'city': 'New York',\n",
       "  'state': 'NY',\n",
       "  'country': 'United States',\n",
       "  'formattedAddress': ['519 Hudson St (at W 10th St)',\n",
       "   'New York, NY 10014',\n",
       "   'United States']},\n",
       " 'categories': [{'id': '56aa371ae4b08b9a8d5734ba',\n",
       "   'name': 'Tex-Mex Restaurant',\n",
       "   'pluralName': 'Tex-Mex Restaurants',\n",
       "   'shortName': 'Tex-Mex',\n",
       "   'icon': {'prefix': 'https://ss3.4sqi.net/img/categories_v2/food/mexican_',\n",
       "    'suffix': '.png'},\n",
       "   'primary': True}],\n",
       " 'photos': {'count': 1,\n",
       "  'groups': [{'type': 'venue',\n",
       "    'name': 'Venue photos',\n",
       "    'count': 1,\n",
       "    'items': [{'id': '4fa57ddee4b0c1088e600259',\n",
       "      'createdAt': 1336245726,\n",
       "      'prefix': 'https://fastly.4sqi.net/img/general/',\n",
       "      'suffix': '/OZxfzZQXiuihRhthACWIap0mnunBcLEu_y4BzgEc0Ks.jpg',\n",
       "      'width': 612,\n",
       "      'height': 612,\n",
       "      'user': {'id': '565726',\n",
       "       'firstName': 'Bergdorf Goodman',\n",
       "       'photo': {'prefix': 'https://fastly.4sqi.net/img/user/',\n",
       "        'suffix': '/AYW3LNRF3S2FV4N1.jpg'}},\n",
       "      'visibility': 'public'}]}]},\n",
       " 'venuePage': {'id': '51938614'}}"
      ]
     },
     "execution_count": 103,
     "metadata": {},
     "output_type": "execute_result"
    }
   ],
   "source": [
    "result['response']['tip']['venue']"
   ]
  },
  {
   "cell_type": "markdown",
   "metadata": {
    "button": false,
    "new_sheet": false,
    "run_control": {
     "read_only": false
    }
   },
   "source": [
    "### Get User's friends"
   ]
  },
  {
   "cell_type": "code",
   "execution_count": 104,
   "metadata": {
    "button": false,
    "new_sheet": false,
    "run_control": {
     "read_only": false
    },
    "scrolled": false
   },
   "outputs": [
    {
     "ename": "KeyError",
     "evalue": "'friends'",
     "output_type": "error",
     "traceback": [
      "\u001b[1;31m---------------------------------------------------------------------------\u001b[0m",
      "\u001b[1;31mKeyError\u001b[0m                                  Traceback (most recent call last)",
      "\u001b[1;32m<ipython-input-104-bcc27b1bf8b4>\u001b[0m in \u001b[0;36m<module>\u001b[1;34m()\u001b[0m\n\u001b[1;32m----> 1\u001b[1;33m \u001b[0muser_friends\u001b[0m \u001b[1;33m=\u001b[0m \u001b[0mjson_normalize\u001b[0m\u001b[1;33m(\u001b[0m\u001b[0muser_data\u001b[0m\u001b[1;33m[\u001b[0m\u001b[1;34m'friends'\u001b[0m\u001b[1;33m]\u001b[0m\u001b[1;33m[\u001b[0m\u001b[1;34m'groups'\u001b[0m\u001b[1;33m]\u001b[0m\u001b[1;33m[\u001b[0m\u001b[1;36m0\u001b[0m\u001b[1;33m]\u001b[0m\u001b[1;33m[\u001b[0m\u001b[1;34m'items'\u001b[0m\u001b[1;33m]\u001b[0m\u001b[1;33m)\u001b[0m\u001b[1;33m\u001b[0m\u001b[0m\n\u001b[0m\u001b[0;32m      2\u001b[0m \u001b[0muser_friends\u001b[0m\u001b[1;33m\u001b[0m\u001b[0m\n",
      "\u001b[1;31mKeyError\u001b[0m: 'friends'"
     ]
    }
   ],
   "source": [
    "user_friends = json_normalize(user_data['friends']['groups'][0]['items'])\n",
    "user_friends"
   ]
  },
  {
   "cell_type": "markdown",
   "metadata": {
    "button": false,
    "new_sheet": false,
    "run_control": {
     "read_only": false
    }
   },
   "source": [
    "Interesting. Despite being very active, it turns out that Nick does not have any friends on Foursquare. This might definitely change in the future."
   ]
  },
  {
   "cell_type": "markdown",
   "metadata": {
    "button": false,
    "new_sheet": false,
    "run_control": {
     "read_only": false
    }
   },
   "source": [
    "### Retrieve the User's Profile Image"
   ]
  },
  {
   "cell_type": "code",
   "execution_count": 105,
   "metadata": {
    "button": false,
    "new_sheet": false,
    "run_control": {
     "read_only": false
    },
    "scrolled": true
   },
   "outputs": [
    {
     "data": {
      "text/plain": [
       "{'id': '484542633',\n",
       " 'firstName': 'Nick',\n",
       " 'lastName': 'E',\n",
       " 'photo': {'prefix': 'https://fastly.4sqi.net/img/user/',\n",
       "  'suffix': '/484542633_unymNUmw_FdPs3GjXHujmHcYnN4hf8kEPADlOZuIrdcdm97VX3tFqL7fFNMNA_8Gl9NlU1GYg.jpg'}}"
      ]
     },
     "execution_count": 105,
     "metadata": {},
     "output_type": "execute_result"
    }
   ],
   "source": [
    "user_data"
   ]
  },
  {
   "cell_type": "code",
   "execution_count": 106,
   "metadata": {
    "button": false,
    "new_sheet": false,
    "run_control": {
     "read_only": false
    }
   },
   "outputs": [
    {
     "data": {
      "text/html": [
       "<img src=\"https://igx.4sqi.net/img/user/300x300/484542633_mK2Yum7T_7Tn9fWpndidJsmw2Hof_6T5vJBKCHPLMK5OL-U5ZiJGj51iwBstcpDLYa3Zvhvis.jpg\"/>"
      ],
      "text/plain": [
       "<IPython.core.display.Image object>"
      ]
     },
     "execution_count": 106,
     "metadata": {},
     "output_type": "execute_result"
    }
   ],
   "source": [
    "# 1. grab prefix of photo\n",
    "# 2. grab suffix of photo\n",
    "# 3. concatenate them using the image size  \n",
    "Image(url='https://igx.4sqi.net/img/user/300x300/484542633_mK2Yum7T_7Tn9fWpndidJsmw2Hof_6T5vJBKCHPLMK5OL-U5ZiJGj51iwBstcpDLYa3Zvhvis.jpg')"
   ]
  },
  {
   "cell_type": "markdown",
   "metadata": {
    "button": false,
    "new_sheet": false,
    "run_control": {
     "read_only": false
    }
   },
   "source": [
    "  "
   ]
  },
  {
   "cell_type": "markdown",
   "metadata": {
    "button": false,
    "new_sheet": false,
    "run_control": {
     "read_only": false
    }
   },
   "source": [
    "<a id=\"item4\"></a>"
   ]
  },
  {
   "cell_type": "markdown",
   "metadata": {
    "button": false,
    "new_sheet": false,
    "run_control": {
     "read_only": false
    }
   },
   "source": [
    "## 4. Explore a location\n",
    "> `https://api.foursquare.com/v2/venues/`**explore**`?client_id=`**CLIENT_ID**`&client_secret=`**CLIENT_SECRET**`&ll=`**LATITUDE**`,`**LONGITUDE**`&v=`**VERSION**`&limit=`**LIMIT**"
   ]
  },
  {
   "cell_type": "markdown",
   "metadata": {
    "button": false,
    "new_sheet": false,
    "run_control": {
     "read_only": false
    }
   },
   "source": [
    "#### So, you just finished your gourmet dish at Ecco, and are just curious about the popular spots around the restaurant. In order to explore the area, let's start by getting the latitude and longitude values of Ecco Restaurant."
   ]
  },
  {
   "cell_type": "code",
   "execution_count": 107,
   "metadata": {
    "button": false,
    "new_sheet": false,
    "run_control": {
     "read_only": false
    }
   },
   "outputs": [],
   "source": [
    "latitude = 40.715337\n",
    "longitude = -74.008848"
   ]
  },
  {
   "cell_type": "markdown",
   "metadata": {
    "button": false,
    "new_sheet": false,
    "run_control": {
     "read_only": false
    }
   },
   "source": [
    "#### Define URL"
   ]
  },
  {
   "cell_type": "code",
   "execution_count": 108,
   "metadata": {
    "button": false,
    "new_sheet": false,
    "run_control": {
     "read_only": false
    }
   },
   "outputs": [
    {
     "data": {
      "text/plain": [
       "'https://api.foursquare.com/v2/venues/explore?client_id=ISGGIYM5S01PA3A4FYDE35FS23CGJAEMZACKHHAHKOPTHLZQ&client_secret=TISTMLVG1YAPIDIURZ2KRDTAQWPYCKUKRDENPMHTMDFXT0AP&ll=40.715337,-74.008848&v=20180604&radius=500&limit=30'"
      ]
     },
     "execution_count": 108,
     "metadata": {},
     "output_type": "execute_result"
    }
   ],
   "source": [
    "url = 'https://api.foursquare.com/v2/venues/explore?client_id={}&client_secret={}&ll={},{}&v={}&radius={}&limit={}'.format(CLIENT_ID, CLIENT_SECRET, latitude, longitude, VERSION, radius, LIMIT)\n",
    "url"
   ]
  },
  {
   "cell_type": "markdown",
   "metadata": {
    "button": false,
    "new_sheet": false,
    "run_control": {
     "read_only": false
    }
   },
   "source": [
    "#### Send GET request and examine results"
   ]
  },
  {
   "cell_type": "code",
   "execution_count": 109,
   "metadata": {
    "button": false,
    "new_sheet": false,
    "run_control": {
     "read_only": false
    }
   },
   "outputs": [],
   "source": [
    "import requests"
   ]
  },
  {
   "cell_type": "code",
   "execution_count": 110,
   "metadata": {
    "button": false,
    "new_sheet": false,
    "run_control": {
     "read_only": false
    }
   },
   "outputs": [
    {
     "data": {
      "text/plain": [
       "'There are 30 around Ecco restaurant.'"
      ]
     },
     "execution_count": 110,
     "metadata": {},
     "output_type": "execute_result"
    }
   ],
   "source": [
    "results = requests.get(url).json()\n",
    "'There are {} around Ecco restaurant.'.format(len(results['response']['groups'][0]['items']))"
   ]
  },
  {
   "cell_type": "code",
   "execution_count": 116,
   "metadata": {},
   "outputs": [
    {
     "name": "stdout",
     "output_type": "stream",
     "text": [
      "{\n",
      "    \"suggestedFilters\": {\n",
      "        \"header\": \"Tap to show:\",\n",
      "        \"filters\": [\n",
      "            {\n",
      "                \"name\": \"Open now\",\n",
      "                \"key\": \"openNow\"\n",
      "            },\n",
      "            {\n",
      "                \"name\": \"$-$$$$\",\n",
      "                \"key\": \"price\"\n",
      "            }\n",
      "        ]\n",
      "    },\n",
      "    \"headerLocation\": \"Tribeca\",\n",
      "    \"headerFullLocation\": \"Tribeca, New York\",\n",
      "    \"headerLocationGranularity\": \"neighborhood\",\n",
      "    \"totalResults\": 93,\n",
      "    \"suggestedBounds\": {\n",
      "        \"ne\": {\n",
      "            \"lat\": 40.7198370045,\n",
      "            \"lng\": -74.00292208843348\n",
      "        },\n",
      "        \"sw\": {\n",
      "            \"lat\": 40.710836995499996,\n",
      "            \"lng\": -74.01477391156652\n",
      "        }\n",
      "    },\n",
      "    \"groups\": [\n",
      "        {\n",
      "            \"type\": \"Recommended Places\",\n",
      "            \"name\": \"recommended\",\n",
      "            \"items\": [\n",
      "                {\n",
      "                    \"reasons\": {\n",
      "                        \"count\": 0,\n",
      "                        \"items\": [\n",
      "                            {\n",
      "                                \"summary\": \"This spot is popular\",\n",
      "                                \"type\": \"general\",\n",
      "                                \"reasonName\": \"globalInteractionReason\"\n",
      "                            }\n",
      "                        ]\n",
      "                    },\n",
      "                    \"venue\": {\n",
      "                        \"id\": \"54148bc6498ea7bb8c05b70a\",\n",
      "                        \"name\": \"Juice Press\",\n",
      "                        \"location\": {\n",
      "                            \"address\": \"83 Murray St\",\n",
      "                            \"crossStreet\": \"btwn Greenwich St & W Broadway\",\n",
      "                            \"lat\": 40.71478769908051,\n",
      "                            \"lng\": -74.0111317502157,\n",
      "                            \"labeledLatLngs\": [\n",
      "                                {\n",
      "                                    \"label\": \"display\",\n",
      "                                    \"lat\": 40.71478769908051,\n",
      "                                    \"lng\": -74.0111317502157\n",
      "                                }\n",
      "                            ],\n",
      "                            \"distance\": 202,\n",
      "                            \"postalCode\": \"10007\",\n",
      "                            \"cc\": \"US\",\n",
      "                            \"city\": \"New York\",\n",
      "                            \"state\": \"NY\",\n",
      "                            \"country\": \"United States\",\n",
      "                            \"formattedAddress\": [\n",
      "                                \"83 Murray St (btwn Greenwich St & W Broadway)\",\n",
      "                                \"New York, NY 10007\",\n",
      "                                \"United States\"\n",
      "                            ]\n",
      "                        },\n",
      "                        \"categories\": [\n",
      "                            {\n",
      "                                \"id\": \"4bf58dd8d48988d1d3941735\",\n",
      "                                \"name\": \"Vegetarian / Vegan Restaurant\",\n",
      "                                \"pluralName\": \"Vegetarian / Vegan Restaurants\",\n",
      "                                \"shortName\": \"Vegetarian / Vegan\",\n",
      "                                \"icon\": {\n",
      "                                    \"prefix\": \"https://ss3.4sqi.net/img/categories_v2/food/vegetarian_\",\n",
      "                                    \"suffix\": \".png\"\n",
      "                                },\n",
      "                                \"primary\": true\n",
      "                            }\n",
      "                        ],\n",
      "                        \"photos\": {\n",
      "                            \"count\": 0,\n",
      "                            \"groups\": []\n",
      "                        }\n",
      "                    },\n",
      "                    \"referralId\": \"e-0-54148bc6498ea7bb8c05b70a-0\"\n",
      "                },\n",
      "                {\n",
      "                    \"reasons\": {\n",
      "                        \"count\": 0,\n",
      "                        \"items\": [\n",
      "                            {\n",
      "                                \"summary\": \"This spot is popular\",\n",
      "                                \"type\": \"general\",\n",
      "                                \"reasonName\": \"globalInteractionReason\"\n",
      "                            }\n",
      "                        ]\n",
      "                    },\n",
      "                    \"venue\": {\n",
      "                        \"id\": \"4af5d65ff964a52091fd21e3\",\n",
      "                        \"name\": \"Korin\",\n",
      "                        \"location\": {\n",
      "                            \"address\": \"57 Warren St\",\n",
      "                            \"crossStreet\": \"Church St\",\n",
      "                            \"lat\": 40.71482437714839,\n",
      "                            \"lng\": -74.00940425461492,\n",
      "                            \"labeledLatLngs\": [\n",
      "                                {\n",
      "                                    \"label\": \"display\",\n",
      "                                    \"lat\": 40.71482437714839,\n",
      "                                    \"lng\": -74.00940425461492\n",
      "                                },\n",
      "                                {\n",
      "                                    \"label\": \"entrance\",\n",
      "                                    \"lat\": 40.714727,\n",
      "                                    \"lng\": -74.009399\n",
      "                                }\n",
      "                            ],\n",
      "                            \"distance\": 73,\n",
      "                            \"postalCode\": \"10007\",\n",
      "                            \"cc\": \"US\",\n",
      "                            \"neighborhood\": \"Tribeca\",\n",
      "                            \"city\": \"New York\",\n",
      "                            \"state\": \"NY\",\n",
      "                            \"country\": \"United States\",\n",
      "                            \"formattedAddress\": [\n",
      "                                \"57 Warren St (Church St)\",\n",
      "                                \"New York, NY 10007\",\n",
      "                                \"United States\"\n",
      "                            ]\n",
      "                        },\n",
      "                        \"categories\": [\n",
      "                            {\n",
      "                                \"id\": \"4bf58dd8d48988d1f8941735\",\n",
      "                                \"name\": \"Furniture / Home Store\",\n",
      "                                \"pluralName\": \"Furniture / Home Stores\",\n",
      "                                \"shortName\": \"Furniture / Home\",\n",
      "                                \"icon\": {\n",
      "                                    \"prefix\": \"https://ss3.4sqi.net/img/categories_v2/shops/furniture_\",\n",
      "                                    \"suffix\": \".png\"\n",
      "                                },\n",
      "                                \"primary\": true\n",
      "                            }\n",
      "                        ],\n",
      "                        \"photos\": {\n",
      "                            \"count\": 0,\n",
      "                            \"groups\": []\n",
      "                        },\n",
      "                        \"venuePage\": {\n",
      "                            \"id\": \"33104775\"\n",
      "                        }\n",
      "                    },\n",
      "                    \"referralId\": \"e-0-4af5d65ff964a52091fd21e3-1\"\n",
      "                },\n",
      "                {\n",
      "                    \"reasons\": {\n",
      "                        \"count\": 0,\n",
      "                        \"items\": [\n",
      "                            {\n",
      "                                \"summary\": \"This spot is popular\",\n",
      "                                \"type\": \"general\",\n",
      "                                \"reasonName\": \"globalInteractionReason\"\n",
      "                            }\n",
      "                        ]\n",
      "                    },\n",
      "                    \"venue\": {\n",
      "                        \"id\": \"5d5f24ec09484500079aee00\",\n",
      "                        \"name\": \"Los Tacos No. 1\",\n",
      "                        \"location\": {\n",
      "                            \"address\": \"136 Church St\",\n",
      "                            \"lat\": 40.714267,\n",
      "                            \"lng\": -74.008756,\n",
      "                            \"labeledLatLngs\": [\n",
      "                                {\n",
      "                                    \"label\": \"display\",\n",
      "                                    \"lat\": 40.714267,\n",
      "                                    \"lng\": -74.008756\n",
      "                                }\n",
      "                            ],\n",
      "                            \"distance\": 119,\n",
      "                            \"postalCode\": \"10007\",\n",
      "                            \"cc\": \"US\",\n",
      "                            \"city\": \"New York\",\n",
      "                            \"state\": \"NY\",\n",
      "                            \"country\": \"United States\",\n",
      "                            \"formattedAddress\": [\n",
      "                                \"136 Church St\",\n",
      "                                \"New York, NY 10007\",\n",
      "                                \"United States\"\n",
      "                            ]\n",
      "                        },\n",
      "                        \"categories\": [\n",
      "                            {\n",
      "                                \"id\": \"4bf58dd8d48988d151941735\",\n",
      "                                \"name\": \"Taco Place\",\n",
      "                                \"pluralName\": \"Taco Places\",\n",
      "                                \"shortName\": \"Tacos\",\n",
      "                                \"icon\": {\n",
      "                                    \"prefix\": \"https://ss3.4sqi.net/img/categories_v2/food/taco_\",\n",
      "                                    \"suffix\": \".png\"\n",
      "                                },\n",
      "                                \"primary\": true\n",
      "                            }\n",
      "                        ],\n",
      "                        \"photos\": {\n",
      "                            \"count\": 0,\n",
      "                            \"groups\": []\n",
      "                        }\n",
      "                    },\n",
      "                    \"referralId\": \"e-0-5d5f24ec09484500079aee00-2\"\n",
      "                },\n",
      "                {\n",
      "                    \"reasons\": {\n",
      "                        \"count\": 0,\n",
      "                        \"items\": [\n",
      "                            {\n",
      "                                \"summary\": \"This spot is popular\",\n",
      "                                \"type\": \"general\",\n",
      "                                \"reasonName\": \"globalInteractionReason\"\n",
      "                            }\n",
      "                        ]\n",
      "                    },\n",
      "                    \"venue\": {\n",
      "                        \"id\": \"4c154c9a77cea593c401d260\",\n",
      "                        \"name\": \"Takahachi Bakery\",\n",
      "                        \"location\": {\n",
      "                            \"address\": \"25 Murray St\",\n",
      "                            \"crossStreet\": \"at Church St\",\n",
      "                            \"lat\": 40.713652845301894,\n",
      "                            \"lng\": -74.0088038953017,\n",
      "                            \"labeledLatLngs\": [\n",
      "                                {\n",
      "                                    \"label\": \"display\",\n",
      "                                    \"lat\": 40.713652845301894,\n",
      "                                    \"lng\": -74.0088038953017\n",
      "                                },\n",
      "                                {\n",
      "                                    \"label\": \"entrance\",\n",
      "                                    \"lat\": 40.713716,\n",
      "                                    \"lng\": -74.008443\n",
      "                                }\n",
      "                            ],\n",
      "                            \"distance\": 187,\n",
      "                            \"postalCode\": \"10007\",\n",
      "                            \"cc\": \"US\",\n",
      "                            \"city\": \"New York\",\n",
      "                            \"state\": \"NY\",\n",
      "                            \"country\": \"United States\",\n",
      "                            \"formattedAddress\": [\n",
      "                                \"25 Murray St (at Church St)\",\n",
      "                                \"New York, NY 10007\",\n",
      "                                \"United States\"\n",
      "                            ]\n",
      "                        },\n",
      "                        \"categories\": [\n",
      "                            {\n",
      "                                \"id\": \"4bf58dd8d48988d16a941735\",\n",
      "                                \"name\": \"Bakery\",\n",
      "                                \"pluralName\": \"Bakeries\",\n",
      "                                \"shortName\": \"Bakery\",\n",
      "                                \"icon\": {\n",
      "                                    \"prefix\": \"https://ss3.4sqi.net/img/categories_v2/food/bakery_\",\n",
      "                                    \"suffix\": \".png\"\n",
      "                                },\n",
      "                                \"primary\": true\n",
      "                            }\n",
      "                        ],\n",
      "                        \"photos\": {\n",
      "                            \"count\": 0,\n",
      "                            \"groups\": []\n",
      "                        },\n",
      "                        \"venuePage\": {\n",
      "                            \"id\": \"85495566\"\n",
      "                        }\n",
      "                    },\n",
      "                    \"referralId\": \"e-0-4c154c9a77cea593c401d260-3\"\n",
      "                },\n",
      "                {\n",
      "                    \"reasons\": {\n",
      "                        \"count\": 0,\n",
      "                        \"items\": [\n",
      "                            {\n",
      "                                \"summary\": \"This spot is popular\",\n",
      "                                \"type\": \"general\",\n",
      "                                \"reasonName\": \"globalInteractionReason\"\n",
      "                            }\n",
      "                        ]\n",
      "                    },\n",
      "                    \"venue\": {\n",
      "                        \"id\": \"4a8f2f39f964a520471420e3\",\n",
      "                        \"name\": \"Takahachi\",\n",
      "                        \"location\": {\n",
      "                            \"address\": \"145 Duane St\",\n",
      "                            \"crossStreet\": \"btwn W Broadway & Church St\",\n",
      "                            \"lat\": 40.71652647412374,\n",
      "                            \"lng\": -74.00810108466207,\n",
      "                            \"labeledLatLngs\": [\n",
      "                                {\n",
      "                                    \"label\": \"display\",\n",
      "                                    \"lat\": 40.71652647412374,\n",
      "                                    \"lng\": -74.00810108466207\n",
      "                                },\n",
      "                                {\n",
      "                                    \"label\": \"entrance\",\n",
      "                                    \"lat\": 40.716508,\n",
      "                                    \"lng\": -74.007989\n",
      "                                }\n",
      "                            ],\n",
      "                            \"distance\": 146,\n",
      "                            \"postalCode\": \"10013\",\n",
      "                            \"cc\": \"US\",\n",
      "                            \"city\": \"New York\",\n",
      "                            \"state\": \"NY\",\n",
      "                            \"country\": \"United States\",\n",
      "                            \"formattedAddress\": [\n",
      "                                \"145 Duane St (btwn W Broadway & Church St)\",\n",
      "                                \"New York, NY 10013\",\n",
      "                                \"United States\"\n",
      "                            ]\n",
      "                        },\n",
      "                        \"categories\": [\n",
      "                            {\n",
      "                                \"id\": \"4bf58dd8d48988d1d2941735\",\n",
      "                                \"name\": \"Sushi Restaurant\",\n",
      "                                \"pluralName\": \"Sushi Restaurants\",\n",
      "                                \"shortName\": \"Sushi\",\n",
      "                                \"icon\": {\n",
      "                                    \"prefix\": \"https://ss3.4sqi.net/img/categories_v2/food/sushi_\",\n",
      "                                    \"suffix\": \".png\"\n",
      "                                },\n",
      "                                \"primary\": true\n",
      "                            }\n",
      "                        ],\n",
      "                        \"photos\": {\n",
      "                            \"count\": 0,\n",
      "                            \"groups\": []\n",
      "                        }\n",
      "                    },\n",
      "                    \"referralId\": \"e-0-4a8f2f39f964a520471420e3-4\"\n",
      "                },\n",
      "                {\n",
      "                    \"reasons\": {\n",
      "                        \"count\": 0,\n",
      "                        \"items\": [\n",
      "                            {\n",
      "                                \"summary\": \"This spot is popular\",\n",
      "                                \"type\": \"general\",\n",
      "                                \"reasonName\": \"globalInteractionReason\"\n",
      "                            }\n",
      "                        ]\n",
      "                    },\n",
      "                    \"venue\": {\n",
      "                        \"id\": \"4a6e331af964a52031d41fe3\",\n",
      "                        \"name\": \"Equinox Tribeca\",\n",
      "                        \"location\": {\n",
      "                            \"address\": \"54 Murray St\",\n",
      "                            \"crossStreet\": \"at W Broadway\",\n",
      "                            \"lat\": 40.71409860726041,\n",
      "                            \"lng\": -74.0096857179283,\n",
      "                            \"labeledLatLngs\": [\n",
      "                                {\n",
      "                                    \"label\": \"display\",\n",
      "                                    \"lat\": 40.71409860726041,\n",
      "                                    \"lng\": -74.0096857179283\n",
      "                                }\n",
      "                            ],\n",
      "                            \"distance\": 154,\n",
      "                            \"postalCode\": \"10007\",\n",
      "                            \"cc\": \"US\",\n",
      "                            \"city\": \"New York\",\n",
      "                            \"state\": \"NY\",\n",
      "                            \"country\": \"United States\",\n",
      "                            \"formattedAddress\": [\n",
      "                                \"54 Murray St (at W Broadway)\",\n",
      "                                \"New York, NY 10007\",\n",
      "                                \"United States\"\n",
      "                            ]\n",
      "                        },\n",
      "                        \"categories\": [\n",
      "                            {\n",
      "                                \"id\": \"4bf58dd8d48988d176941735\",\n",
      "                                \"name\": \"Gym\",\n",
      "                                \"pluralName\": \"Gyms\",\n",
      "                                \"shortName\": \"Gym\",\n",
      "                                \"icon\": {\n",
      "                                    \"prefix\": \"https://ss3.4sqi.net/img/categories_v2/building/gym_\",\n",
      "                                    \"suffix\": \".png\"\n",
      "                                },\n",
      "                                \"primary\": true\n",
      "                            }\n",
      "                        ],\n",
      "                        \"photos\": {\n",
      "                            \"count\": 0,\n",
      "                            \"groups\": []\n",
      "                        }\n",
      "                    },\n",
      "                    \"referralId\": \"e-0-4a6e331af964a52031d41fe3-5\"\n",
      "                },\n",
      "                {\n",
      "                    \"reasons\": {\n",
      "                        \"count\": 0,\n",
      "                        \"items\": [\n",
      "                            {\n",
      "                                \"summary\": \"This spot is popular\",\n",
      "                                \"type\": \"general\",\n",
      "                                \"reasonName\": \"globalInteractionReason\"\n",
      "                            }\n",
      "                        ]\n",
      "                    },\n",
      "                    \"venue\": {\n",
      "                        \"id\": \"49bc3b0af964a52020541fe3\",\n",
      "                        \"name\": \"Whole Foods Market\",\n",
      "                        \"location\": {\n",
      "                            \"address\": \"270 Greenwich Street\",\n",
      "                            \"crossStreet\": \"at Warren St\",\n",
      "                            \"lat\": 40.715579155420606,\n",
      "                            \"lng\": -74.01136823958119,\n",
      "                            \"labeledLatLngs\": [\n",
      "                                {\n",
      "                                    \"label\": \"display\",\n",
      "                                    \"lat\": 40.715579155420606,\n",
      "                                    \"lng\": -74.01136823958119\n",
      "                                }\n",
      "                            ],\n",
      "                            \"distance\": 214,\n",
      "                            \"postalCode\": \"10007\",\n",
      "                            \"cc\": \"US\",\n",
      "                            \"neighborhood\": \"Tribeca\",\n",
      "                            \"city\": \"New York\",\n",
      "                            \"state\": \"NY\",\n",
      "                            \"country\": \"United States\",\n",
      "                            \"formattedAddress\": [\n",
      "                                \"270 Greenwich Street (at Warren St)\",\n",
      "                                \"New York, NY 10007\",\n",
      "                                \"United States\"\n",
      "                            ]\n",
      "                        },\n",
      "                        \"categories\": [\n",
      "                            {\n",
      "                                \"id\": \"4bf58dd8d48988d118951735\",\n",
      "                                \"name\": \"Grocery Store\",\n",
      "                                \"pluralName\": \"Grocery Stores\",\n",
      "                                \"shortName\": \"Grocery Store\",\n",
      "                                \"icon\": {\n",
      "                                    \"prefix\": \"https://ss3.4sqi.net/img/categories_v2/shops/food_grocery_\",\n",
      "                                    \"suffix\": \".png\"\n",
      "                                },\n",
      "                                \"primary\": true\n",
      "                            }\n",
      "                        ],\n",
      "                        \"photos\": {\n",
      "                            \"count\": 0,\n",
      "                            \"groups\": []\n",
      "                        }\n",
      "                    },\n",
      "                    \"referralId\": \"e-0-49bc3b0af964a52020541fe3-6\"\n",
      "                },\n",
      "                {\n",
      "                    \"reasons\": {\n",
      "                        \"count\": 0,\n",
      "                        \"items\": [\n",
      "                            {\n",
      "                                \"summary\": \"This spot is popular\",\n",
      "                                \"type\": \"general\",\n",
      "                                \"reasonName\": \"globalInteractionReason\"\n",
      "                            }\n",
      "                        ]\n",
      "                    },\n",
      "                    \"venue\": {\n",
      "                        \"id\": \"57ad129c498e05b086594d72\",\n",
      "                        \"name\": \"Heyday\",\n",
      "                        \"location\": {\n",
      "                            \"address\": \"92 Reade St\",\n",
      "                            \"lat\": 40.715726,\n",
      "                            \"lng\": -74.007767,\n",
      "                            \"labeledLatLngs\": [\n",
      "                                {\n",
      "                                    \"label\": \"display\",\n",
      "                                    \"lat\": 40.715726,\n",
      "                                    \"lng\": -74.007767\n",
      "                                },\n",
      "                                {\n",
      "                                    \"label\": \"entrance\",\n",
      "                                    \"lat\": 40.715654,\n",
      "                                    \"lng\": -74.00782\n",
      "                                }\n",
      "                            ],\n",
      "                            \"distance\": 100,\n",
      "                            \"postalCode\": \"10013\",\n",
      "                            \"cc\": \"US\",\n",
      "                            \"city\": \"New York\",\n",
      "                            \"state\": \"NY\",\n",
      "                            \"country\": \"United States\",\n",
      "                            \"formattedAddress\": [\n",
      "                                \"92 Reade St\",\n",
      "                                \"New York, NY 10013\",\n",
      "                                \"United States\"\n",
      "                            ]\n",
      "                        },\n",
      "                        \"categories\": [\n",
      "                            {\n",
      "                                \"id\": \"4bf58dd8d48988d1ed941735\",\n",
      "                                \"name\": \"Spa\",\n",
      "                                \"pluralName\": \"Spas\",\n",
      "                                \"shortName\": \"Spa\",\n",
      "                                \"icon\": {\n",
      "                                    \"prefix\": \"https://ss3.4sqi.net/img/categories_v2/shops/spa_\",\n",
      "                                    \"suffix\": \".png\"\n",
      "                                },\n",
      "                                \"primary\": true\n",
      "                            }\n",
      "                        ],\n",
      "                        \"photos\": {\n",
      "                            \"count\": 0,\n",
      "                            \"groups\": []\n",
      "                        }\n",
      "                    },\n",
      "                    \"referralId\": \"e-0-57ad129c498e05b086594d72-7\"\n",
      "                },\n",
      "                {\n",
      "                    \"reasons\": {\n",
      "                        \"count\": 0,\n",
      "                        \"items\": [\n",
      "                            {\n",
      "                                \"summary\": \"This spot is popular\",\n",
      "                                \"type\": \"general\",\n",
      "                                \"reasonName\": \"globalInteractionReason\"\n",
      "                            }\n",
      "                        ]\n",
      "                    },\n",
      "                    \"venue\": {\n",
      "                        \"id\": \"4adcf23cf964a520cc6221e3\",\n",
      "                        \"name\": \"Chambers Street Wines\",\n",
      "                        \"location\": {\n",
      "                            \"address\": \"148 Chambers St\",\n",
      "                            \"crossStreet\": \"btwn West Broadway & Hudson St\",\n",
      "                            \"lat\": 40.715773063928374,\n",
      "                            \"lng\": -74.00971823312332,\n",
      "                            \"labeledLatLngs\": [\n",
      "                                {\n",
      "                                    \"label\": \"display\",\n",
      "                                    \"lat\": 40.715773063928374,\n",
      "                                    \"lng\": -74.00971823312332\n",
      "                                },\n",
      "                                {\n",
      "                                    \"label\": \"entrance\",\n",
      "                                    \"lat\": 40.715696,\n",
      "                                    \"lng\": -74.00988\n",
      "                                }\n",
      "                            ],\n",
      "                            \"distance\": 88,\n",
      "                            \"postalCode\": \"10007\",\n",
      "                            \"cc\": \"US\",\n",
      "                            \"city\": \"New York\",\n",
      "                            \"state\": \"NY\",\n",
      "                            \"country\": \"United States\",\n",
      "                            \"formattedAddress\": [\n",
      "                                \"148 Chambers St (btwn West Broadway & Hudson St)\",\n",
      "                                \"New York, NY 10007\",\n",
      "                                \"United States\"\n",
      "                            ]\n",
      "                        },\n",
      "                        \"categories\": [\n",
      "                            {\n",
      "                                \"id\": \"4bf58dd8d48988d119951735\",\n",
      "                                \"name\": \"Wine Shop\",\n",
      "                                \"pluralName\": \"Wine Shops\",\n",
      "                                \"shortName\": \"Wine Shop\",\n",
      "                                \"icon\": {\n",
      "                                    \"prefix\": \"https://ss3.4sqi.net/img/categories_v2/shops/food_wineshop_\",\n",
      "                                    \"suffix\": \".png\"\n",
      "                                },\n",
      "                                \"primary\": true\n",
      "                            }\n",
      "                        ],\n",
      "                        \"photos\": {\n",
      "                            \"count\": 0,\n",
      "                            \"groups\": []\n",
      "                        }\n",
      "                    },\n",
      "                    \"referralId\": \"e-0-4adcf23cf964a520cc6221e3-8\"\n",
      "                },\n",
      "                {\n",
      "                    \"reasons\": {\n",
      "                        \"count\": 0,\n",
      "                        \"items\": [\n",
      "                            {\n",
      "                                \"summary\": \"This spot is popular\",\n",
      "                                \"type\": \"general\",\n",
      "                                \"reasonName\": \"globalInteractionReason\"\n",
      "                            }\n",
      "                        ]\n",
      "                    },\n",
      "                    \"venue\": {\n",
      "                        \"id\": \"5171b5cc011cef9833bbb787\",\n",
      "                        \"name\": \"Mulberry & Vine\",\n",
      "                        \"location\": {\n",
      "                            \"address\": \"73 Warren St\",\n",
      "                            \"crossStreet\": \"B/t West Broadway & Greenwich\",\n",
      "                            \"lat\": 40.71517693966315,\n",
      "                            \"lng\": -74.01022747778285,\n",
      "                            \"labeledLatLngs\": [\n",
      "                                {\n",
      "                                    \"label\": \"display\",\n",
      "                                    \"lat\": 40.71517693966315,\n",
      "                                    \"lng\": -74.01022747778285\n",
      "                                },\n",
      "                                {\n",
      "                                    \"label\": \"entrance\",\n",
      "                                    \"lat\": 40.715064,\n",
      "                                    \"lng\": -74.010146\n",
      "                                }\n",
      "                            ],\n",
      "                            \"distance\": 117,\n",
      "                            \"postalCode\": \"10007\",\n",
      "                            \"cc\": \"US\",\n",
      "                            \"city\": \"New York\",\n",
      "                            \"state\": \"NY\",\n",
      "                            \"country\": \"United States\",\n",
      "                            \"formattedAddress\": [\n",
      "                                \"73 Warren St (B/t West Broadway & Greenwich)\",\n",
      "                                \"New York, NY 10007\",\n",
      "                                \"United States\"\n",
      "                            ]\n",
      "                        },\n",
      "                        \"categories\": [\n",
      "                            {\n",
      "                                \"id\": \"4bf58dd8d48988d16d941735\",\n",
      "                                \"name\": \"Caf\\u00e9\",\n",
      "                                \"pluralName\": \"Caf\\u00e9s\",\n",
      "                                \"shortName\": \"Caf\\u00e9\",\n",
      "                                \"icon\": {\n",
      "                                    \"prefix\": \"https://ss3.4sqi.net/img/categories_v2/food/cafe_\",\n",
      "                                    \"suffix\": \".png\"\n",
      "                                },\n",
      "                                \"primary\": true\n",
      "                            }\n",
      "                        ],\n",
      "                        \"photos\": {\n",
      "                            \"count\": 0,\n",
      "                            \"groups\": []\n",
      "                        }\n",
      "                    },\n",
      "                    \"referralId\": \"e-0-5171b5cc011cef9833bbb787-9\"\n",
      "                },\n",
      "                {\n",
      "                    \"reasons\": {\n",
      "                        \"count\": 0,\n",
      "                        \"items\": [\n",
      "                            {\n",
      "                                \"summary\": \"This spot is popular\",\n",
      "                                \"type\": \"general\",\n",
      "                                \"reasonName\": \"globalInteractionReason\"\n",
      "                            }\n",
      "                        ]\n",
      "                    },\n",
      "                    \"venue\": {\n",
      "                        \"id\": \"50ba9119e4b071a4bae6dc10\",\n",
      "                        \"name\": \"Nish N\\u016bsh\",\n",
      "                        \"location\": {\n",
      "                            \"address\": \"88 Reade St\",\n",
      "                            \"crossStreet\": \"at Church St\",\n",
      "                            \"lat\": 40.71553710116416,\n",
      "                            \"lng\": -74.00772452925565,\n",
      "                            \"labeledLatLngs\": [\n",
      "                                {\n",
      "                                    \"label\": \"display\",\n",
      "                                    \"lat\": 40.71553710116416,\n",
      "                                    \"lng\": -74.00772452925565\n",
      "                                },\n",
      "                                {\n",
      "                                    \"label\": \"entrance\",\n",
      "                                    \"lat\": 40.715615,\n",
      "                                    \"lng\": -74.00773\n",
      "                                }\n",
      "                            ],\n",
      "                            \"distance\": 97,\n",
      "                            \"postalCode\": \"10013\",\n",
      "                            \"cc\": \"US\",\n",
      "                            \"city\": \"New York\",\n",
      "                            \"state\": \"NY\",\n",
      "                            \"country\": \"United States\",\n",
      "                            \"formattedAddress\": [\n",
      "                                \"88 Reade St (at Church St)\",\n",
      "                                \"New York, NY 10013\",\n",
      "                                \"United States\"\n",
      "                            ]\n",
      "                        },\n",
      "                        \"categories\": [\n",
      "                            {\n",
      "                                \"id\": \"4bf58dd8d48988d10b941735\",\n",
      "                                \"name\": \"Falafel Restaurant\",\n",
      "                                \"pluralName\": \"Falafel Restaurants\",\n",
      "                                \"shortName\": \"Falafel\",\n",
      "                                \"icon\": {\n",
      "                                    \"prefix\": \"https://ss3.4sqi.net/img/categories_v2/food/falafel_\",\n",
      "                                    \"suffix\": \".png\"\n",
      "                                },\n",
      "                                \"primary\": true\n",
      "                            }\n",
      "                        ],\n",
      "                        \"photos\": {\n",
      "                            \"count\": 0,\n",
      "                            \"groups\": []\n",
      "                        },\n",
      "                        \"venuePage\": {\n",
      "                            \"id\": \"93083181\"\n",
      "                        }\n",
      "                    },\n",
      "                    \"referralId\": \"e-0-50ba9119e4b071a4bae6dc10-10\"\n",
      "                },\n",
      "                {\n",
      "                    \"reasons\": {\n",
      "                        \"count\": 0,\n",
      "                        \"items\": [\n",
      "                            {\n",
      "                                \"summary\": \"This spot is popular\",\n",
      "                                \"type\": \"general\",\n",
      "                                \"reasonName\": \"globalInteractionReason\"\n",
      "                            }\n",
      "                        ]\n",
      "                    },\n",
      "                    \"venue\": {\n",
      "                        \"id\": \"3fd66200f964a52083e61ee3\",\n",
      "                        \"name\": \"The Odeon\",\n",
      "                        \"location\": {\n",
      "                            \"address\": \"145 W Broadway\",\n",
      "                            \"crossStreet\": \"at Thomas St\",\n",
      "                            \"lat\": 40.71701011409906,\n",
      "                            \"lng\": -74.00804244562225,\n",
      "                            \"labeledLatLngs\": [\n",
      "                                {\n",
      "                                    \"label\": \"display\",\n",
      "                                    \"lat\": 40.71701011409906,\n",
      "                                    \"lng\": -74.00804244562225\n",
      "                                }\n",
      "                            ],\n",
      "                            \"distance\": 198,\n",
      "                            \"postalCode\": \"10013\",\n",
      "                            \"cc\": \"US\",\n",
      "                            \"city\": \"New York\",\n",
      "                            \"state\": \"NY\",\n",
      "                            \"country\": \"United States\",\n",
      "                            \"formattedAddress\": [\n",
      "                                \"145 W Broadway (at Thomas St)\",\n",
      "                                \"New York, NY 10013\",\n",
      "                                \"United States\"\n",
      "                            ]\n",
      "                        },\n",
      "                        \"categories\": [\n",
      "                            {\n",
      "                                \"id\": \"4bf58dd8d48988d10c941735\",\n",
      "                                \"name\": \"French Restaurant\",\n",
      "                                \"pluralName\": \"French Restaurants\",\n",
      "                                \"shortName\": \"French\",\n",
      "                                \"icon\": {\n",
      "                                    \"prefix\": \"https://ss3.4sqi.net/img/categories_v2/food/french_\",\n",
      "                                    \"suffix\": \".png\"\n",
      "                                },\n",
      "                                \"primary\": true\n",
      "                            }\n",
      "                        ],\n",
      "                        \"photos\": {\n",
      "                            \"count\": 0,\n",
      "                            \"groups\": []\n",
      "                        },\n",
      "                        \"venuePage\": {\n",
      "                            \"id\": \"97281190\"\n",
      "                        }\n",
      "                    },\n",
      "                    \"referralId\": \"e-0-3fd66200f964a52083e61ee3-11\"\n",
      "                },\n",
      "                {\n",
      "                    \"reasons\": {\n",
      "                        \"count\": 0,\n",
      "                        \"items\": [\n",
      "                            {\n",
      "                                \"summary\": \"This spot is popular\",\n",
      "                                \"type\": \"general\",\n",
      "                                \"reasonName\": \"globalInteractionReason\"\n",
      "                            }\n",
      "                        ]\n",
      "                    },\n",
      "                    \"venue\": {\n",
      "                        \"id\": \"48510cf9f964a520a5501fe3\",\n",
      "                        \"name\": \"Restaurant Marc Forgione\",\n",
      "                        \"location\": {\n",
      "                            \"address\": \"134 Reade St\",\n",
      "                            \"crossStreet\": \"btwn Hudson and Greenwich St\",\n",
      "                            \"lat\": 40.71637984317071,\n",
      "                            \"lng\": -74.00962933453428,\n",
      "                            \"labeledLatLngs\": [\n",
      "                                {\n",
      "                                    \"label\": \"display\",\n",
      "                                    \"lat\": 40.71637984317071,\n",
      "                                    \"lng\": -74.00962933453428\n",
      "                                }\n",
      "                            ],\n",
      "                            \"distance\": 133,\n",
      "                            \"postalCode\": \"10013\",\n",
      "                            \"cc\": \"US\",\n",
      "                            \"city\": \"New York\",\n",
      "                            \"state\": \"NY\",\n",
      "                            \"country\": \"United States\",\n",
      "                            \"formattedAddress\": [\n",
      "                                \"134 Reade St (btwn Hudson and Greenwich St)\",\n",
      "                                \"New York, NY 10013\",\n",
      "                                \"United States\"\n",
      "                            ]\n",
      "                        },\n",
      "                        \"categories\": [\n",
      "                            {\n",
      "                                \"id\": \"4bf58dd8d48988d157941735\",\n",
      "                                \"name\": \"New American Restaurant\",\n",
      "                                \"pluralName\": \"New American Restaurants\",\n",
      "                                \"shortName\": \"New American\",\n",
      "                                \"icon\": {\n",
      "                                    \"prefix\": \"https://ss3.4sqi.net/img/categories_v2/food/newamerican_\",\n",
      "                                    \"suffix\": \".png\"\n",
      "                                },\n",
      "                                \"primary\": true\n",
      "                            }\n",
      "                        ],\n",
      "                        \"photos\": {\n",
      "                            \"count\": 0,\n",
      "                            \"groups\": []\n",
      "                        }\n",
      "                    },\n",
      "                    \"referralId\": \"e-0-48510cf9f964a520a5501fe3-12\"\n",
      "                },\n",
      "                {\n",
      "                    \"reasons\": {\n",
      "                        \"count\": 0,\n",
      "                        \"items\": [\n",
      "                            {\n",
      "                                \"summary\": \"This spot is popular\",\n",
      "                                \"type\": \"general\",\n",
      "                                \"reasonName\": \"globalInteractionReason\"\n",
      "                            }\n",
      "                        ]\n",
      "                    },\n",
      "                    \"venue\": {\n",
      "                        \"id\": \"4a9bcc2ff964a5203b3520e3\",\n",
      "                        \"name\": \"Washington Market Park\",\n",
      "                        \"location\": {\n",
      "                            \"address\": \"Greenwich St\",\n",
      "                            \"crossStreet\": \"at Reade St\",\n",
      "                            \"lat\": 40.71704598853704,\n",
      "                            \"lng\": -74.01109457015991,\n",
      "                            \"labeledLatLngs\": [\n",
      "                                {\n",
      "                                    \"label\": \"display\",\n",
      "                                    \"lat\": 40.71704598853704,\n",
      "                                    \"lng\": -74.01109457015991\n",
      "                                }\n",
      "                            ],\n",
      "                            \"distance\": 268,\n",
      "                            \"cc\": \"US\",\n",
      "                            \"city\": \"New York\",\n",
      "                            \"state\": \"NY\",\n",
      "                            \"country\": \"United States\",\n",
      "                            \"formattedAddress\": [\n",
      "                                \"Greenwich St (at Reade St)\",\n",
      "                                \"New York, NY\",\n",
      "                                \"United States\"\n",
      "                            ]\n",
      "                        },\n",
      "                        \"categories\": [\n",
      "                            {\n",
      "                                \"id\": \"4bf58dd8d48988d1e7941735\",\n",
      "                                \"name\": \"Playground\",\n",
      "                                \"pluralName\": \"Playgrounds\",\n",
      "                                \"shortName\": \"Playground\",\n",
      "                                \"icon\": {\n",
      "                                    \"prefix\": \"https://ss3.4sqi.net/img/categories_v2/parks_outdoors/playground_\",\n",
      "                                    \"suffix\": \".png\"\n",
      "                                },\n",
      "                                \"primary\": true\n",
      "                            }\n",
      "                        ],\n",
      "                        \"photos\": {\n",
      "                            \"count\": 0,\n",
      "                            \"groups\": []\n",
      "                        }\n",
      "                    },\n",
      "                    \"referralId\": \"e-0-4a9bcc2ff964a5203b3520e3-13\"\n",
      "                },\n",
      "                {\n",
      "                    \"reasons\": {\n",
      "                        \"count\": 0,\n",
      "                        \"items\": [\n",
      "                            {\n",
      "                                \"summary\": \"This spot is popular\",\n",
      "                                \"type\": \"general\",\n",
      "                                \"reasonName\": \"globalInteractionReason\"\n",
      "                            }\n",
      "                        ]\n",
      "                    },\n",
      "                    \"venue\": {\n",
      "                        \"id\": \"4a4baaf8f964a52091ac1fe3\",\n",
      "                        \"name\": \"Zucker's Bagels & Smoked Fish\",\n",
      "                        \"location\": {\n",
      "                            \"address\": \"146 Chambers St\",\n",
      "                            \"crossStreet\": \"btwn W. Broadway & Greenwich St\",\n",
      "                            \"lat\": 40.71558,\n",
      "                            \"lng\": -74.00985,\n",
      "                            \"labeledLatLngs\": [\n",
      "                                {\n",
      "                                    \"label\": \"display\",\n",
      "                                    \"lat\": 40.71558,\n",
      "                                    \"lng\": -74.00985\n",
      "                                }\n",
      "                            ],\n",
      "                            \"distance\": 88,\n",
      "                            \"postalCode\": \"10007\",\n",
      "                            \"cc\": \"US\",\n",
      "                            \"city\": \"New York\",\n",
      "                            \"state\": \"NY\",\n",
      "                            \"country\": \"United States\",\n",
      "                            \"formattedAddress\": [\n",
      "                                \"146 Chambers St (btwn W. Broadway & Greenwich St)\",\n",
      "                                \"New York, NY 10007\",\n",
      "                                \"United States\"\n",
      "                            ]\n",
      "                        },\n",
      "                        \"categories\": [\n",
      "                            {\n",
      "                                \"id\": \"4bf58dd8d48988d179941735\",\n",
      "                                \"name\": \"Bagel Shop\",\n",
      "                                \"pluralName\": \"Bagel Shops\",\n",
      "                                \"shortName\": \"Bagels\",\n",
      "                                \"icon\": {\n",
      "                                    \"prefix\": \"https://ss3.4sqi.net/img/categories_v2/food/bagels_\",\n",
      "                                    \"suffix\": \".png\"\n",
      "                                },\n",
      "                                \"primary\": true\n",
      "                            }\n",
      "                        ],\n",
      "                        \"delivery\": {\n",
      "                            \"id\": \"277435\",\n",
      "                            \"url\": \"https://www.seamless.com/menu/zuckers-bagels--smoked-fish-146-chambers-st-new-york/277435?affiliate=1131&utm_source=foursquare-affiliate-network&utm_medium=affiliate&utm_campaign=1131&utm_content=277435\",\n",
      "                            \"provider\": {\n",
      "                                \"name\": \"seamless\",\n",
      "                                \"icon\": {\n",
      "                                    \"prefix\": \"https://fastly.4sqi.net/img/general/cap/\",\n",
      "                                    \"sizes\": [\n",
      "                                        40,\n",
      "                                        50\n",
      "                                    ],\n",
      "                                    \"name\": \"/delivery_provider_seamless_20180129.png\"\n",
      "                                }\n",
      "                            }\n",
      "                        },\n",
      "                        \"photos\": {\n",
      "                            \"count\": 0,\n",
      "                            \"groups\": []\n",
      "                        }\n",
      "                    },\n",
      "                    \"referralId\": \"e-0-4a4baaf8f964a52091ac1fe3-14\"\n",
      "                },\n",
      "                {\n",
      "                    \"reasons\": {\n",
      "                        \"count\": 0,\n",
      "                        \"items\": [\n",
      "                            {\n",
      "                                \"summary\": \"This spot is popular\",\n",
      "                                \"type\": \"general\",\n",
      "                                \"reasonName\": \"globalInteractionReason\"\n",
      "                            }\n",
      "                        ]\n",
      "                    },\n",
      "                    \"venue\": {\n",
      "                        \"id\": \"4c3cb549b36ac9285d7a0486\",\n",
      "                        \"name\": \"Duane Park\",\n",
      "                        \"location\": {\n",
      "                            \"address\": \"Duane St\",\n",
      "                            \"crossStreet\": \"at Hudson St\",\n",
      "                            \"lat\": 40.71717275801168,\n",
      "                            \"lng\": -74.00932869125117,\n",
      "                            \"labeledLatLngs\": [\n",
      "                                {\n",
      "                                    \"label\": \"display\",\n",
      "                                    \"lat\": 40.71717275801168,\n",
      "                                    \"lng\": -74.00932869125117\n",
      "                                }\n",
      "                            ],\n",
      "                            \"distance\": 208,\n",
      "                            \"cc\": \"US\",\n",
      "                            \"city\": \"New York\",\n",
      "                            \"state\": \"NY\",\n",
      "                            \"country\": \"United States\",\n",
      "                            \"formattedAddress\": [\n",
      "                                \"Duane St (at Hudson St)\",\n",
      "                                \"New York, NY\",\n",
      "                                \"United States\"\n",
      "                            ]\n",
      "                        },\n",
      "                        \"categories\": [\n",
      "                            {\n",
      "                                \"id\": \"4bf58dd8d48988d163941735\",\n",
      "                                \"name\": \"Park\",\n",
      "                                \"pluralName\": \"Parks\",\n",
      "                                \"shortName\": \"Park\",\n",
      "                                \"icon\": {\n",
      "                                    \"prefix\": \"https://ss3.4sqi.net/img/categories_v2/parks_outdoors/park_\",\n",
      "                                    \"suffix\": \".png\"\n",
      "                                },\n",
      "                                \"primary\": true\n",
      "                            }\n",
      "                        ],\n",
      "                        \"photos\": {\n",
      "                            \"count\": 0,\n",
      "                            \"groups\": []\n",
      "                        }\n",
      "                    },\n",
      "                    \"referralId\": \"e-0-4c3cb549b36ac9285d7a0486-15\"\n",
      "                },\n",
      "                {\n",
      "                    \"reasons\": {\n",
      "                        \"count\": 0,\n",
      "                        \"items\": [\n",
      "                            {\n",
      "                                \"summary\": \"This spot is popular\",\n",
      "                                \"type\": \"general\",\n",
      "                                \"reasonName\": \"globalInteractionReason\"\n",
      "                            }\n",
      "                        ]\n",
      "                    },\n",
      "                    \"venue\": {\n",
      "                        \"id\": \"49ccd495f964a52091591fe3\",\n",
      "                        \"name\": \"Kaffe 1668\",\n",
      "                        \"location\": {\n",
      "                            \"address\": \"275 Greenwich St\",\n",
      "                            \"crossStreet\": \"at Murray St\",\n",
      "                            \"lat\": 40.71504512558996,\n",
      "                            \"lng\": -74.0115087102821,\n",
      "                            \"labeledLatLngs\": [\n",
      "                                {\n",
      "                                    \"label\": \"display\",\n",
      "                                    \"lat\": 40.71504512558996,\n",
      "                                    \"lng\": -74.0115087102821\n",
      "                                }\n",
      "                            ],\n",
      "                            \"distance\": 226,\n",
      "                            \"postalCode\": \"10007\",\n",
      "                            \"cc\": \"US\",\n",
      "                            \"city\": \"New York\",\n",
      "                            \"state\": \"NY\",\n",
      "                            \"country\": \"United States\",\n",
      "                            \"formattedAddress\": [\n",
      "                                \"275 Greenwich St (at Murray St)\",\n",
      "                                \"New York, NY 10007\",\n",
      "                                \"United States\"\n",
      "                            ]\n",
      "                        },\n",
      "                        \"categories\": [\n",
      "                            {\n",
      "                                \"id\": \"4bf58dd8d48988d1e0931735\",\n",
      "                                \"name\": \"Coffee Shop\",\n",
      "                                \"pluralName\": \"Coffee Shops\",\n",
      "                                \"shortName\": \"Coffee Shop\",\n",
      "                                \"icon\": {\n",
      "                                    \"prefix\": \"https://ss3.4sqi.net/img/categories_v2/food/coffeeshop_\",\n",
      "                                    \"suffix\": \".png\"\n",
      "                                },\n",
      "                                \"primary\": true\n",
      "                            }\n",
      "                        ],\n",
      "                        \"photos\": {\n",
      "                            \"count\": 0,\n",
      "                            \"groups\": []\n",
      "                        },\n",
      "                        \"venuePage\": {\n",
      "                            \"id\": \"43231093\"\n",
      "                        }\n",
      "                    },\n",
      "                    \"referralId\": \"e-0-49ccd495f964a52091591fe3-16\"\n",
      "                },\n",
      "                {\n",
      "                    \"reasons\": {\n",
      "                        \"count\": 0,\n",
      "                        \"items\": [\n",
      "                            {\n",
      "                                \"summary\": \"This spot is popular\",\n",
      "                                \"type\": \"general\",\n",
      "                                \"reasonName\": \"globalInteractionReason\"\n",
      "                            }\n",
      "                        ]\n",
      "                    },\n",
      "                    \"venue\": {\n",
      "                        \"id\": \"4a8c4baef964a520960d20e3\",\n",
      "                        \"name\": \"Tribeca Greenmarket\",\n",
      "                        \"location\": {\n",
      "                            \"address\": \"Greenwich St\",\n",
      "                            \"crossStreet\": \"btw Chambers St & Duane St\",\n",
      "                            \"lat\": 40.716802033574126,\n",
      "                            \"lng\": -74.01087999343872,\n",
      "                            \"labeledLatLngs\": [\n",
      "                                {\n",
      "                                    \"label\": \"display\",\n",
      "                                    \"lat\": 40.716802033574126,\n",
      "                                    \"lng\": -74.01087999343872\n",
      "                                }\n",
      "                            ],\n",
      "                            \"distance\": 236,\n",
      "                            \"postalCode\": \"10013\",\n",
      "                            \"cc\": \"US\",\n",
      "                            \"city\": \"New York\",\n",
      "                            \"state\": \"NY\",\n",
      "                            \"country\": \"United States\",\n",
      "                            \"formattedAddress\": [\n",
      "                                \"Greenwich St (btw Chambers St & Duane St)\",\n",
      "                                \"New York, NY 10013\",\n",
      "                                \"United States\"\n",
      "                            ]\n",
      "                        },\n",
      "                        \"categories\": [\n",
      "                            {\n",
      "                                \"id\": \"4bf58dd8d48988d1fa941735\",\n",
      "                                \"name\": \"Farmers Market\",\n",
      "                                \"pluralName\": \"Farmers Markets\",\n",
      "                                \"shortName\": \"Farmer's Market\",\n",
      "                                \"icon\": {\n",
      "                                    \"prefix\": \"https://ss3.4sqi.net/img/categories_v2/shops/food_farmersmarket_\",\n",
      "                                    \"suffix\": \".png\"\n",
      "                                },\n",
      "                                \"primary\": true\n",
      "                            }\n",
      "                        ],\n",
      "                        \"photos\": {\n",
      "                            \"count\": 0,\n",
      "                            \"groups\": []\n",
      "                        }\n",
      "                    },\n",
      "                    \"referralId\": \"e-0-4a8c4baef964a520960d20e3-17\"\n",
      "                },\n",
      "                {\n",
      "                    \"reasons\": {\n",
      "                        \"count\": 0,\n",
      "                        \"items\": [\n",
      "                            {\n",
      "                                \"summary\": \"This spot is popular\",\n",
      "                                \"type\": \"general\",\n",
      "                                \"reasonName\": \"globalInteractionReason\"\n",
      "                            }\n",
      "                        ]\n",
      "                    },\n",
      "                    \"venue\": {\n",
      "                        \"id\": \"59e391c3e1f22816d1b09cf5\",\n",
      "                        \"name\": \"The Frederick Hotel\",\n",
      "                        \"location\": {\n",
      "                            \"address\": \"95 W Broadway\",\n",
      "                            \"crossStreet\": \"Chambers\",\n",
      "                            \"lat\": 40.715674574813974,\n",
      "                            \"lng\": -74.00904661160892,\n",
      "                            \"labeledLatLngs\": [\n",
      "                                {\n",
      "                                    \"label\": \"display\",\n",
      "                                    \"lat\": 40.715674574813974,\n",
      "                                    \"lng\": -74.00904661160892\n",
      "                                }\n",
      "                            ],\n",
      "                            \"distance\": 41,\n",
      "                            \"postalCode\": \"10007\",\n",
      "                            \"cc\": \"US\",\n",
      "                            \"city\": \"New York\",\n",
      "                            \"state\": \"NY\",\n",
      "                            \"country\": \"United States\",\n",
      "                            \"formattedAddress\": [\n",
      "                                \"95 W Broadway (Chambers)\",\n",
      "                                \"New York, NY 10007\",\n",
      "                                \"United States\"\n",
      "                            ]\n",
      "                        },\n",
      "                        \"categories\": [\n",
      "                            {\n",
      "                                \"id\": \"4bf58dd8d48988d1fa931735\",\n",
      "                                \"name\": \"Hotel\",\n",
      "                                \"pluralName\": \"Hotels\",\n",
      "                                \"shortName\": \"Hotel\",\n",
      "                                \"icon\": {\n",
      "                                    \"prefix\": \"https://ss3.4sqi.net/img/categories_v2/travel/hotel_\",\n",
      "                                    \"suffix\": \".png\"\n",
      "                                },\n",
      "                                \"primary\": true\n",
      "                            }\n",
      "                        ],\n",
      "                        \"photos\": {\n",
      "                            \"count\": 0,\n",
      "                            \"groups\": []\n",
      "                        },\n",
      "                        \"venuePage\": {\n",
      "                            \"id\": \"580801139\"\n",
      "                        }\n",
      "                    },\n",
      "                    \"referralId\": \"e-0-59e391c3e1f22816d1b09cf5-18\"\n",
      "                },\n",
      "                {\n",
      "                    \"reasons\": {\n",
      "                        \"count\": 0,\n",
      "                        \"items\": [\n",
      "                            {\n",
      "                                \"summary\": \"This spot is popular\",\n",
      "                                \"type\": \"general\",\n",
      "                                \"reasonName\": \"globalInteractionReason\"\n",
      "                            }\n",
      "                        ]\n",
      "                    },\n",
      "                    \"venue\": {\n",
      "                        \"id\": \"4ea0afbf9adf1e334e4cc0e6\",\n",
      "                        \"name\": \"Laughing Man Coffee & Tea\",\n",
      "                        \"location\": {\n",
      "                            \"address\": \"184 Duane St\",\n",
      "                            \"crossStreet\": \"btwn Greenwich & Hudson St.\",\n",
      "                            \"lat\": 40.7173944529165,\n",
      "                            \"lng\": -74.01010324607125,\n",
      "                            \"labeledLatLngs\": [\n",
      "                                {\n",
      "                                    \"label\": \"display\",\n",
      "                                    \"lat\": 40.7173944529165,\n",
      "                                    \"lng\": -74.01010324607125\n",
      "                                }\n",
      "                            ],\n",
      "                            \"distance\": 252,\n",
      "                            \"postalCode\": \"10013\",\n",
      "                            \"cc\": \"US\",\n",
      "                            \"neighborhood\": \"Tribeca\",\n",
      "                            \"city\": \"New York\",\n",
      "                            \"state\": \"NY\",\n",
      "                            \"country\": \"United States\",\n",
      "                            \"formattedAddress\": [\n",
      "                                \"184 Duane St (btwn Greenwich & Hudson St.)\",\n",
      "                                \"New York, NY 10013\",\n",
      "                                \"United States\"\n",
      "                            ]\n",
      "                        },\n",
      "                        \"categories\": [\n",
      "                            {\n",
      "                                \"id\": \"4bf58dd8d48988d1e0931735\",\n",
      "                                \"name\": \"Coffee Shop\",\n",
      "                                \"pluralName\": \"Coffee Shops\",\n",
      "                                \"shortName\": \"Coffee Shop\",\n",
      "                                \"icon\": {\n",
      "                                    \"prefix\": \"https://ss3.4sqi.net/img/categories_v2/food/coffeeshop_\",\n",
      "                                    \"suffix\": \".png\"\n",
      "                                },\n",
      "                                \"primary\": true\n",
      "                            }\n",
      "                        ],\n",
      "                        \"photos\": {\n",
      "                            \"count\": 0,\n",
      "                            \"groups\": []\n",
      "                        },\n",
      "                        \"venuePage\": {\n",
      "                            \"id\": \"73541580\"\n",
      "                        }\n",
      "                    },\n",
      "                    \"referralId\": \"e-0-4ea0afbf9adf1e334e4cc0e6-19\"\n",
      "                },\n",
      "                {\n",
      "                    \"reasons\": {\n",
      "                        \"count\": 0,\n",
      "                        \"items\": [\n",
      "                            {\n",
      "                                \"summary\": \"This spot is popular\",\n",
      "                                \"type\": \"general\",\n",
      "                                \"reasonName\": \"globalInteractionReason\"\n",
      "                            }\n",
      "                        ]\n",
      "                    },\n",
      "                    \"venue\": {\n",
      "                        \"id\": \"58a253c830ecc66c9e5b40a0\",\n",
      "                        \"name\": \"The Class by Taryn Toomey\",\n",
      "                        \"location\": {\n",
      "                            \"address\": \"22 Park Pl\",\n",
      "                            \"lat\": 40.71275251771485,\n",
      "                            \"lng\": -74.00873355601571,\n",
      "                            \"labeledLatLngs\": [\n",
      "                                {\n",
      "                                    \"label\": \"display\",\n",
      "                                    \"lat\": 40.71275251771485,\n",
      "                                    \"lng\": -74.00873355601571\n",
      "                                },\n",
      "                                {\n",
      "                                    \"label\": \"entrance\",\n",
      "                                    \"lat\": 40.712781,\n",
      "                                    \"lng\": -74.008548\n",
      "                                }\n",
      "                            ],\n",
      "                            \"distance\": 287,\n",
      "                            \"postalCode\": \"10007\",\n",
      "                            \"cc\": \"US\",\n",
      "                            \"city\": \"New York\",\n",
      "                            \"state\": \"NY\",\n",
      "                            \"country\": \"United States\",\n",
      "                            \"formattedAddress\": [\n",
      "                                \"22 Park Pl\",\n",
      "                                \"New York, NY 10007\",\n",
      "                                \"United States\"\n",
      "                            ]\n",
      "                        },\n",
      "                        \"categories\": [\n",
      "                            {\n",
      "                                \"id\": \"4bf58dd8d48988d175941735\",\n",
      "                                \"name\": \"Gym / Fitness Center\",\n",
      "                                \"pluralName\": \"Gyms or Fitness Centers\",\n",
      "                                \"shortName\": \"Gym / Fitness\",\n",
      "                                \"icon\": {\n",
      "                                    \"prefix\": \"https://ss3.4sqi.net/img/categories_v2/building/gym_\",\n",
      "                                    \"suffix\": \".png\"\n",
      "                                },\n",
      "                                \"primary\": true\n",
      "                            }\n",
      "                        ],\n",
      "                        \"photos\": {\n",
      "                            \"count\": 0,\n",
      "                            \"groups\": []\n",
      "                        }\n",
      "                    },\n",
      "                    \"referralId\": \"e-0-58a253c830ecc66c9e5b40a0-20\"\n",
      "                },\n",
      "                {\n",
      "                    \"reasons\": {\n",
      "                        \"count\": 0,\n",
      "                        \"items\": [\n",
      "                            {\n",
      "                                \"summary\": \"This spot is popular\",\n",
      "                                \"type\": \"general\",\n",
      "                                \"reasonName\": \"globalInteractionReason\"\n",
      "                            }\n",
      "                        ]\n",
      "                    },\n",
      "                    \"venue\": {\n",
      "                        \"id\": \"4db5fbfe43a1369cb5dc2a1f\",\n",
      "                        \"name\": \"Maxwell's Bar & Restaurant\",\n",
      "                        \"location\": {\n",
      "                            \"address\": \"59 Reade St\",\n",
      "                            \"crossStreet\": \"at Broadway\",\n",
      "                            \"lat\": 40.71494392643706,\n",
      "                            \"lng\": -74.00648461952706,\n",
      "                            \"labeledLatLngs\": [\n",
      "                                {\n",
      "                                    \"label\": \"display\",\n",
      "                                    \"lat\": 40.71494392643706,\n",
      "                                    \"lng\": -74.00648461952706\n",
      "                                }\n",
      "                            ],\n",
      "                            \"distance\": 204,\n",
      "                            \"postalCode\": \"10007\",\n",
      "                            \"cc\": \"US\",\n",
      "                            \"city\": \"New York\",\n",
      "                            \"state\": \"NY\",\n",
      "                            \"country\": \"United States\",\n",
      "                            \"formattedAddress\": [\n",
      "                                \"59 Reade St (at Broadway)\",\n",
      "                                \"New York, NY 10007\",\n",
      "                                \"United States\"\n",
      "                            ]\n",
      "                        },\n",
      "                        \"categories\": [\n",
      "                            {\n",
      "                                \"id\": \"4bf58dd8d48988d116941735\",\n",
      "                                \"name\": \"Bar\",\n",
      "                                \"pluralName\": \"Bars\",\n",
      "                                \"shortName\": \"Bar\",\n",
      "                                \"icon\": {\n",
      "                                    \"prefix\": \"https://ss3.4sqi.net/img/categories_v2/nightlife/pub_\",\n",
      "                                    \"suffix\": \".png\"\n",
      "                                },\n",
      "                                \"primary\": true\n",
      "                            }\n",
      "                        ],\n",
      "                        \"photos\": {\n",
      "                            \"count\": 0,\n",
      "                            \"groups\": []\n",
      "                        },\n",
      "                        \"venuePage\": {\n",
      "                            \"id\": \"45470725\"\n",
      "                        }\n",
      "                    },\n",
      "                    \"referralId\": \"e-0-4db5fbfe43a1369cb5dc2a1f-21\"\n",
      "                },\n",
      "                {\n",
      "                    \"reasons\": {\n",
      "                        \"count\": 0,\n",
      "                        \"items\": [\n",
      "                            {\n",
      "                                \"summary\": \"This spot is popular\",\n",
      "                                \"type\": \"general\",\n",
      "                                \"reasonName\": \"globalInteractionReason\"\n",
      "                            }\n",
      "                        ]\n",
      "                    },\n",
      "                    \"venue\": {\n",
      "                        \"id\": \"57c640ad498e74977f98372f\",\n",
      "                        \"name\": \"Four Seasons Hotel New York Downtown\",\n",
      "                        \"location\": {\n",
      "                            \"address\": \"27 Barclay St\",\n",
      "                            \"crossStreet\": \"Broadway\",\n",
      "                            \"lat\": 40.71261246501983,\n",
      "                            \"lng\": -74.00938032087628,\n",
      "                            \"labeledLatLngs\": [\n",
      "                                {\n",
      "                                    \"label\": \"display\",\n",
      "                                    \"lat\": 40.71261246501983,\n",
      "                                    \"lng\": -74.00938032087628\n",
      "                                }\n",
      "                            ],\n",
      "                            \"distance\": 306,\n",
      "                            \"postalCode\": \"10007\",\n",
      "                            \"cc\": \"US\",\n",
      "                            \"city\": \"New York\",\n",
      "                            \"state\": \"NY\",\n",
      "                            \"country\": \"United States\",\n",
      "                            \"formattedAddress\": [\n",
      "                                \"27 Barclay St (Broadway)\",\n",
      "                                \"New York, NY 10007\",\n",
      "                                \"United States\"\n",
      "                            ]\n",
      "                        },\n",
      "                        \"categories\": [\n",
      "                            {\n",
      "                                \"id\": \"4bf58dd8d48988d1fa931735\",\n",
      "                                \"name\": \"Hotel\",\n",
      "                                \"pluralName\": \"Hotels\",\n",
      "                                \"shortName\": \"Hotel\",\n",
      "                                \"icon\": {\n",
      "                                    \"prefix\": \"https://ss3.4sqi.net/img/categories_v2/travel/hotel_\",\n",
      "                                    \"suffix\": \".png\"\n",
      "                                },\n",
      "                                \"primary\": true\n",
      "                            }\n",
      "                        ],\n",
      "                        \"photos\": {\n",
      "                            \"count\": 0,\n",
      "                            \"groups\": []\n",
      "                        }\n",
      "                    },\n",
      "                    \"referralId\": \"e-0-57c640ad498e74977f98372f-22\"\n",
      "                },\n",
      "                {\n",
      "                    \"reasons\": {\n",
      "                        \"count\": 0,\n",
      "                        \"items\": [\n",
      "                            {\n",
      "                                \"summary\": \"This spot is popular\",\n",
      "                                \"type\": \"general\",\n",
      "                                \"reasonName\": \"globalInteractionReason\"\n",
      "                            }\n",
      "                        ]\n",
      "                    },\n",
      "                    \"venue\": {\n",
      "                        \"id\": \"52001eed498e9ac16ca5e20b\",\n",
      "                        \"name\": \"CrossFit 212 TriBeCa\",\n",
      "                        \"location\": {\n",
      "                            \"address\": \"281 Broadway\",\n",
      "                            \"lat\": 40.714537431170484,\n",
      "                            \"lng\": -74.00599852611592,\n",
      "                            \"labeledLatLngs\": [\n",
      "                                {\n",
      "                                    \"label\": \"display\",\n",
      "                                    \"lat\": 40.714537431170484,\n",
      "                                    \"lng\": -74.00599852611592\n",
      "                                }\n",
      "                            ],\n",
      "                            \"distance\": 256,\n",
      "                            \"postalCode\": \"10007\",\n",
      "                            \"cc\": \"US\",\n",
      "                            \"city\": \"New York\",\n",
      "                            \"state\": \"NY\",\n",
      "                            \"country\": \"United States\",\n",
      "                            \"formattedAddress\": [\n",
      "                                \"281 Broadway\",\n",
      "                                \"New York, NY 10007\",\n",
      "                                \"United States\"\n",
      "                            ]\n",
      "                        },\n",
      "                        \"categories\": [\n",
      "                            {\n",
      "                                \"id\": \"4bf58dd8d48988d176941735\",\n",
      "                                \"name\": \"Gym\",\n",
      "                                \"pluralName\": \"Gyms\",\n",
      "                                \"shortName\": \"Gym\",\n",
      "                                \"icon\": {\n",
      "                                    \"prefix\": \"https://ss3.4sqi.net/img/categories_v2/building/gym_\",\n",
      "                                    \"suffix\": \".png\"\n",
      "                                },\n",
      "                                \"primary\": true\n",
      "                            }\n",
      "                        ],\n",
      "                        \"photos\": {\n",
      "                            \"count\": 0,\n",
      "                            \"groups\": []\n",
      "                        }\n",
      "                    },\n",
      "                    \"referralId\": \"e-0-52001eed498e9ac16ca5e20b-23\"\n",
      "                },\n",
      "                {\n",
      "                    \"reasons\": {\n",
      "                        \"count\": 0,\n",
      "                        \"items\": [\n",
      "                            {\n",
      "                                \"summary\": \"This spot is popular\",\n",
      "                                \"type\": \"general\",\n",
      "                                \"reasonName\": \"globalInteractionReason\"\n",
      "                            }\n",
      "                        ]\n",
      "                    },\n",
      "                    \"venue\": {\n",
      "                        \"id\": \"4a04ba93f964a52023721fe3\",\n",
      "                        \"name\": \"Barnes & Noble\",\n",
      "                        \"location\": {\n",
      "                            \"address\": \"97 Warren St\",\n",
      "                            \"crossStreet\": \"at Greenwich St\",\n",
      "                            \"lat\": 40.715605333147145,\n",
      "                            \"lng\": -74.01178633208771,\n",
      "                            \"labeledLatLngs\": [\n",
      "                                {\n",
      "                                    \"label\": \"display\",\n",
      "                                    \"lat\": 40.715605333147145,\n",
      "                                    \"lng\": -74.01178633208771\n",
      "                                },\n",
      "                                {\n",
      "                                    \"label\": \"entrance\",\n",
      "                                    \"lat\": 40.716026,\n",
      "                                    \"lng\": -74.012839\n",
      "                                }\n",
      "                            ],\n",
      "                            \"distance\": 249,\n",
      "                            \"postalCode\": \"10007\",\n",
      "                            \"cc\": \"US\",\n",
      "                            \"city\": \"New York\",\n",
      "                            \"state\": \"NY\",\n",
      "                            \"country\": \"United States\",\n",
      "                            \"formattedAddress\": [\n",
      "                                \"97 Warren St (at Greenwich St)\",\n",
      "                                \"New York, NY 10007\",\n",
      "                                \"United States\"\n",
      "                            ]\n",
      "                        },\n",
      "                        \"categories\": [\n",
      "                            {\n",
      "                                \"id\": \"4bf58dd8d48988d114951735\",\n",
      "                                \"name\": \"Bookstore\",\n",
      "                                \"pluralName\": \"Bookstores\",\n",
      "                                \"shortName\": \"Bookstore\",\n",
      "                                \"icon\": {\n",
      "                                    \"prefix\": \"https://ss3.4sqi.net/img/categories_v2/shops/bookstore_\",\n",
      "                                    \"suffix\": \".png\"\n",
      "                                },\n",
      "                                \"primary\": true\n",
      "                            }\n",
      "                        ],\n",
      "                        \"photos\": {\n",
      "                            \"count\": 0,\n",
      "                            \"groups\": []\n",
      "                        }\n",
      "                    },\n",
      "                    \"referralId\": \"e-0-4a04ba93f964a52023721fe3-24\"\n",
      "                },\n",
      "                {\n",
      "                    \"reasons\": {\n",
      "                        \"count\": 0,\n",
      "                        \"items\": [\n",
      "                            {\n",
      "                                \"summary\": \"This spot is popular\",\n",
      "                                \"type\": \"general\",\n",
      "                                \"reasonName\": \"globalInteractionReason\"\n",
      "                            }\n",
      "                        ]\n",
      "                    },\n",
      "                    \"venue\": {\n",
      "                        \"id\": \"4f627061e4b05c1d57815977\",\n",
      "                        \"name\": \"Atera\",\n",
      "                        \"location\": {\n",
      "                            \"address\": \"77 Worth St\",\n",
      "                            \"crossStreet\": \"btwn Broadway & Church St\",\n",
      "                            \"lat\": 40.71675176130724,\n",
      "                            \"lng\": -74.00571150855457,\n",
      "                            \"labeledLatLngs\": [\n",
      "                                {\n",
      "                                    \"label\": \"display\",\n",
      "                                    \"lat\": 40.71675176130724,\n",
      "                                    \"lng\": -74.00571150855457\n",
      "                                }\n",
      "                            ],\n",
      "                            \"distance\": 307,\n",
      "                            \"postalCode\": \"10013\",\n",
      "                            \"cc\": \"US\",\n",
      "                            \"city\": \"New York\",\n",
      "                            \"state\": \"NY\",\n",
      "                            \"country\": \"United States\",\n",
      "                            \"formattedAddress\": [\n",
      "                                \"77 Worth St (btwn Broadway & Church St)\",\n",
      "                                \"New York, NY 10013\",\n",
      "                                \"United States\"\n",
      "                            ]\n",
      "                        },\n",
      "                        \"categories\": [\n",
      "                            {\n",
      "                                \"id\": \"4bf58dd8d48988d1c2941735\",\n",
      "                                \"name\": \"Molecular Gastronomy Restaurant\",\n",
      "                                \"pluralName\": \"Molecular Gastronomy Restaurants\",\n",
      "                                \"shortName\": \"Molecular Gastronomy\",\n",
      "                                \"icon\": {\n",
      "                                    \"prefix\": \"https://ss3.4sqi.net/img/categories_v2/food/moleculargastronomy_\",\n",
      "                                    \"suffix\": \".png\"\n",
      "                                },\n",
      "                                \"primary\": true\n",
      "                            }\n",
      "                        ],\n",
      "                        \"photos\": {\n",
      "                            \"count\": 0,\n",
      "                            \"groups\": []\n",
      "                        },\n",
      "                        \"venuePage\": {\n",
      "                            \"id\": \"93170064\"\n",
      "                        }\n",
      "                    },\n",
      "                    \"referralId\": \"e-0-4f627061e4b05c1d57815977-25\"\n",
      "                },\n",
      "                {\n",
      "                    \"reasons\": {\n",
      "                        \"count\": 0,\n",
      "                        \"items\": [\n",
      "                            {\n",
      "                                \"summary\": \"This spot is popular\",\n",
      "                                \"type\": \"general\",\n",
      "                                \"reasonName\": \"globalInteractionReason\"\n",
      "                            }\n",
      "                        ]\n",
      "                    },\n",
      "                    \"venue\": {\n",
      "                        \"id\": \"4ee045e08b81e335ec7ca259\",\n",
      "                        \"name\": \"Polarn O. Pyret\",\n",
      "                        \"location\": {\n",
      "                            \"address\": \"200 Chambers St\",\n",
      "                            \"crossStreet\": \"at West St\",\n",
      "                            \"lat\": 40.71673743396806,\n",
      "                            \"lng\": -74.01198685624969,\n",
      "                            \"labeledLatLngs\": [\n",
      "                                {\n",
      "                                    \"label\": \"display\",\n",
      "                                    \"lat\": 40.71673743396806,\n",
      "                                    \"lng\": -74.01198685624969\n",
      "                                }\n",
      "                            ],\n",
      "                            \"distance\": 307,\n",
      "                            \"postalCode\": \"10007\",\n",
      "                            \"cc\": \"US\",\n",
      "                            \"city\": \"New York\",\n",
      "                            \"state\": \"NY\",\n",
      "                            \"country\": \"United States\",\n",
      "                            \"formattedAddress\": [\n",
      "                                \"200 Chambers St (at West St)\",\n",
      "                                \"New York, NY 10007\",\n",
      "                                \"United States\"\n",
      "                            ]\n",
      "                        },\n",
      "                        \"categories\": [\n",
      "                            {\n",
      "                                \"id\": \"4bf58dd8d48988d105951735\",\n",
      "                                \"name\": \"Kids Store\",\n",
      "                                \"pluralName\": \"Kids Stores\",\n",
      "                                \"shortName\": \"Kids Store\",\n",
      "                                \"icon\": {\n",
      "                                    \"prefix\": \"https://ss3.4sqi.net/img/categories_v2/shops/apparel_kids_\",\n",
      "                                    \"suffix\": \".png\"\n",
      "                                },\n",
      "                                \"primary\": true\n",
      "                            }\n",
      "                        ],\n",
      "                        \"photos\": {\n",
      "                            \"count\": 0,\n",
      "                            \"groups\": []\n",
      "                        }\n",
      "                    },\n",
      "                    \"referralId\": \"e-0-4ee045e08b81e335ec7ca259-26\"\n",
      "                },\n",
      "                {\n",
      "                    \"reasons\": {\n",
      "                        \"count\": 0,\n",
      "                        \"items\": [\n",
      "                            {\n",
      "                                \"summary\": \"This spot is popular\",\n",
      "                                \"type\": \"general\",\n",
      "                                \"reasonName\": \"globalInteractionReason\"\n",
      "                            }\n",
      "                        ]\n",
      "                    },\n",
      "                    \"venue\": {\n",
      "                        \"id\": \"4a9442e3f964a520f92020e3\",\n",
      "                        \"name\": \"African Burial Ground National Monument\",\n",
      "                        \"location\": {\n",
      "                            \"address\": \"290 Broadway\",\n",
      "                            \"lat\": 40.71498975306652,\n",
      "                            \"lng\": -74.00552975826278,\n",
      "                            \"labeledLatLngs\": [\n",
      "                                {\n",
      "                                    \"label\": \"display\",\n",
      "                                    \"lat\": 40.71498975306652,\n",
      "                                    \"lng\": -74.00552975826278\n",
      "                                },\n",
      "                                {\n",
      "                                    \"label\": \"entrance\",\n",
      "                                    \"lat\": 40.715054,\n",
      "                                    \"lng\": -74.005385\n",
      "                                }\n",
      "                            ],\n",
      "                            \"distance\": 282,\n",
      "                            \"postalCode\": \"10007\",\n",
      "                            \"cc\": \"US\",\n",
      "                            \"city\": \"New York\",\n",
      "                            \"state\": \"NY\",\n",
      "                            \"country\": \"United States\",\n",
      "                            \"formattedAddress\": [\n",
      "                                \"290 Broadway\",\n",
      "                                \"New York, NY 10007\",\n",
      "                                \"United States\"\n",
      "                            ]\n",
      "                        },\n",
      "                        \"categories\": [\n",
      "                            {\n",
      "                                \"id\": \"4bf58dd8d48988d12d941735\",\n",
      "                                \"name\": \"Monument / Landmark\",\n",
      "                                \"pluralName\": \"Monuments / Landmarks\",\n",
      "                                \"shortName\": \"Landmark\",\n",
      "                                \"icon\": {\n",
      "                                    \"prefix\": \"https://ss3.4sqi.net/img/categories_v2/building/government_monument_\",\n",
      "                                    \"suffix\": \".png\"\n",
      "                                },\n",
      "                                \"primary\": true\n",
      "                            }\n",
      "                        ],\n",
      "                        \"photos\": {\n",
      "                            \"count\": 0,\n",
      "                            \"groups\": []\n",
      "                        }\n",
      "                    },\n",
      "                    \"referralId\": \"e-0-4a9442e3f964a520f92020e3-27\"\n",
      "                },\n",
      "                {\n",
      "                    \"reasons\": {\n",
      "                        \"count\": 0,\n",
      "                        \"items\": [\n",
      "                            {\n",
      "                                \"summary\": \"This spot is popular\",\n",
      "                                \"type\": \"general\",\n",
      "                                \"reasonName\": \"globalInteractionReason\"\n",
      "                            }\n",
      "                        ]\n",
      "                    },\n",
      "                    \"venue\": {\n",
      "                        \"id\": \"5ceeb56dc03635002ce7ab2a\",\n",
      "                        \"name\": \"sweetgreen\",\n",
      "                        \"location\": {\n",
      "                            \"address\": \"125 Chambers St\",\n",
      "                            \"lat\": 40.715493,\n",
      "                            \"lng\": -74.008951,\n",
      "                            \"labeledLatLngs\": [\n",
      "                                {\n",
      "                                    \"label\": \"display\",\n",
      "                                    \"lat\": 40.715493,\n",
      "                                    \"lng\": -74.008951\n",
      "                                }\n",
      "                            ],\n",
      "                            \"distance\": 19,\n",
      "                            \"postalCode\": \"10007\",\n",
      "                            \"cc\": \"US\",\n",
      "                            \"city\": \"New York\",\n",
      "                            \"state\": \"NY\",\n",
      "                            \"country\": \"United States\",\n",
      "                            \"formattedAddress\": [\n",
      "                                \"125 Chambers St\",\n",
      "                                \"New York, NY 10007\",\n",
      "                                \"United States\"\n",
      "                            ]\n",
      "                        },\n",
      "                        \"categories\": [\n",
      "                            {\n",
      "                                \"id\": \"4bf58dd8d48988d1bd941735\",\n",
      "                                \"name\": \"Salad Place\",\n",
      "                                \"pluralName\": \"Salad Places\",\n",
      "                                \"shortName\": \"Salad\",\n",
      "                                \"icon\": {\n",
      "                                    \"prefix\": \"https://ss3.4sqi.net/img/categories_v2/food/salad_\",\n",
      "                                    \"suffix\": \".png\"\n",
      "                                },\n",
      "                                \"primary\": true\n",
      "                            }\n",
      "                        ],\n",
      "                        \"delivery\": {\n",
      "                            \"id\": \"1226598\",\n",
      "                            \"url\": \"https://www.seamless.com/menu/sweetgreen-125-chambers-st-new-york/1226598?affiliate=1131&utm_source=foursquare-affiliate-network&utm_medium=affiliate&utm_campaign=1131&utm_content=1226598\",\n",
      "                            \"provider\": {\n",
      "                                \"name\": \"seamless\",\n",
      "                                \"icon\": {\n",
      "                                    \"prefix\": \"https://fastly.4sqi.net/img/general/cap/\",\n",
      "                                    \"sizes\": [\n",
      "                                        40,\n",
      "                                        50\n",
      "                                    ],\n",
      "                                    \"name\": \"/delivery_provider_seamless_20180129.png\"\n",
      "                                }\n",
      "                            }\n",
      "                        },\n",
      "                        \"photos\": {\n",
      "                            \"count\": 0,\n",
      "                            \"groups\": []\n",
      "                        }\n",
      "                    },\n",
      "                    \"referralId\": \"e-0-5ceeb56dc03635002ce7ab2a-28\"\n",
      "                },\n",
      "                {\n",
      "                    \"reasons\": {\n",
      "                        \"count\": 0,\n",
      "                        \"items\": [\n",
      "                            {\n",
      "                                \"summary\": \"This spot is popular\",\n",
      "                                \"type\": \"general\",\n",
      "                                \"reasonName\": \"globalInteractionReason\"\n",
      "                            }\n",
      "                        ]\n",
      "                    },\n",
      "                    \"venue\": {\n",
      "                        \"id\": \"4ee8e058f790a9d738d62d70\",\n",
      "                        \"name\": \"Chipotle Mexican Grill\",\n",
      "                        \"location\": {\n",
      "                            \"address\": \"281 Broadway\",\n",
      "                            \"crossStreet\": \"at Reade St\",\n",
      "                            \"lat\": 40.714606606499316,\n",
      "                            \"lng\": -74.00633473282073,\n",
      "                            \"labeledLatLngs\": [\n",
      "                                {\n",
      "                                    \"label\": \"display\",\n",
      "                                    \"lat\": 40.714606606499316,\n",
      "                                    \"lng\": -74.00633473282073\n",
      "                                }\n",
      "                            ],\n",
      "                            \"distance\": 227,\n",
      "                            \"postalCode\": \"10007\",\n",
      "                            \"cc\": \"US\",\n",
      "                            \"city\": \"New York\",\n",
      "                            \"state\": \"NY\",\n",
      "                            \"country\": \"United States\",\n",
      "                            \"formattedAddress\": [\n",
      "                                \"281 Broadway (at Reade St)\",\n",
      "                                \"New York, NY 10007\",\n",
      "                                \"United States\"\n",
      "                            ]\n",
      "                        },\n",
      "                        \"categories\": [\n",
      "                            {\n",
      "                                \"id\": \"4bf58dd8d48988d153941735\",\n",
      "                                \"name\": \"Burrito Place\",\n",
      "                                \"pluralName\": \"Burrito Places\",\n",
      "                                \"shortName\": \"Burritos\",\n",
      "                                \"icon\": {\n",
      "                                    \"prefix\": \"https://ss3.4sqi.net/img/categories_v2/food/burrito_\",\n",
      "                                    \"suffix\": \".png\"\n",
      "                                },\n",
      "                                \"primary\": true\n",
      "                            }\n",
      "                        ],\n",
      "                        \"photos\": {\n",
      "                            \"count\": 0,\n",
      "                            \"groups\": []\n",
      "                        }\n",
      "                    },\n",
      "                    \"referralId\": \"e-0-4ee8e058f790a9d738d62d70-29\"\n",
      "                }\n",
      "            ]\n",
      "        }\n",
      "    ]\n",
      "}\n"
     ]
    }
   ],
   "source": [
    "print(json.dumps(results['response'],indent=4))"
   ]
  },
  {
   "cell_type": "markdown",
   "metadata": {
    "button": false,
    "new_sheet": false,
    "run_control": {
     "read_only": false
    }
   },
   "source": [
    "#### Get relevant part of JSON"
   ]
  },
  {
   "cell_type": "code",
   "execution_count": 111,
   "metadata": {
    "button": false,
    "new_sheet": false,
    "run_control": {
     "read_only": false
    }
   },
   "outputs": [
    {
     "data": {
      "text/plain": [
       "{'reasons': {'count': 0,\n",
       "  'items': [{'summary': 'This spot is popular',\n",
       "    'type': 'general',\n",
       "    'reasonName': 'globalInteractionReason'}]},\n",
       " 'venue': {'id': '54148bc6498ea7bb8c05b70a',\n",
       "  'name': 'Juice Press',\n",
       "  'location': {'address': '83 Murray St',\n",
       "   'crossStreet': 'btwn Greenwich St & W Broadway',\n",
       "   'lat': 40.71478769908051,\n",
       "   'lng': -74.0111317502157,\n",
       "   'labeledLatLngs': [{'label': 'display',\n",
       "     'lat': 40.71478769908051,\n",
       "     'lng': -74.0111317502157}],\n",
       "   'distance': 202,\n",
       "   'postalCode': '10007',\n",
       "   'cc': 'US',\n",
       "   'city': 'New York',\n",
       "   'state': 'NY',\n",
       "   'country': 'United States',\n",
       "   'formattedAddress': ['83 Murray St (btwn Greenwich St & W Broadway)',\n",
       "    'New York, NY 10007',\n",
       "    'United States']},\n",
       "  'categories': [{'id': '4bf58dd8d48988d1d3941735',\n",
       "    'name': 'Vegetarian / Vegan Restaurant',\n",
       "    'pluralName': 'Vegetarian / Vegan Restaurants',\n",
       "    'shortName': 'Vegetarian / Vegan',\n",
       "    'icon': {'prefix': 'https://ss3.4sqi.net/img/categories_v2/food/vegetarian_',\n",
       "     'suffix': '.png'},\n",
       "    'primary': True}],\n",
       "  'photos': {'count': 0, 'groups': []}},\n",
       " 'referralId': 'e-0-54148bc6498ea7bb8c05b70a-0'}"
      ]
     },
     "execution_count": 111,
     "metadata": {},
     "output_type": "execute_result"
    }
   ],
   "source": [
    "items = results['response']['groups'][0]['items']\n",
    "items[0]"
   ]
  },
  {
   "cell_type": "markdown",
   "metadata": {
    "button": false,
    "new_sheet": false,
    "run_control": {
     "read_only": false
    }
   },
   "source": [
    "#### Process JSON and convert it to a clean dataframe"
   ]
  },
  {
   "cell_type": "code",
   "execution_count": 117,
   "metadata": {
    "button": false,
    "new_sheet": false,
    "run_control": {
     "read_only": false
    },
    "scrolled": false
   },
   "outputs": [
    {
     "data": {
      "text/html": [
       "<div>\n",
       "<style scoped>\n",
       "    .dataframe tbody tr th:only-of-type {\n",
       "        vertical-align: middle;\n",
       "    }\n",
       "\n",
       "    .dataframe tbody tr th {\n",
       "        vertical-align: top;\n",
       "    }\n",
       "\n",
       "    .dataframe thead th {\n",
       "        text-align: right;\n",
       "    }\n",
       "</style>\n",
       "<table border=\"1\" class=\"dataframe\">\n",
       "  <thead>\n",
       "    <tr style=\"text-align: right;\">\n",
       "      <th></th>\n",
       "      <th>name</th>\n",
       "      <th>categories</th>\n",
       "      <th>address</th>\n",
       "      <th>cc</th>\n",
       "      <th>city</th>\n",
       "      <th>country</th>\n",
       "      <th>crossStreet</th>\n",
       "      <th>distance</th>\n",
       "      <th>formattedAddress</th>\n",
       "      <th>labeledLatLngs</th>\n",
       "      <th>lat</th>\n",
       "      <th>lng</th>\n",
       "      <th>neighborhood</th>\n",
       "      <th>postalCode</th>\n",
       "      <th>state</th>\n",
       "      <th>id</th>\n",
       "    </tr>\n",
       "  </thead>\n",
       "  <tbody>\n",
       "    <tr>\n",
       "      <th>0</th>\n",
       "      <td>Juice Press</td>\n",
       "      <td>Vegetarian / Vegan Restaurant</td>\n",
       "      <td>83 Murray St</td>\n",
       "      <td>US</td>\n",
       "      <td>New York</td>\n",
       "      <td>United States</td>\n",
       "      <td>btwn Greenwich St &amp; W Broadway</td>\n",
       "      <td>202</td>\n",
       "      <td>[83 Murray St (btwn Greenwich St &amp; W Broadway), New York, NY 10007, United States]</td>\n",
       "      <td>[{'label': 'display', 'lat': 40.71478769908051, 'lng': -74.0111317502157}]</td>\n",
       "      <td>40.714788</td>\n",
       "      <td>-74.011132</td>\n",
       "      <td>NaN</td>\n",
       "      <td>10007</td>\n",
       "      <td>NY</td>\n",
       "      <td>54148bc6498ea7bb8c05b70a</td>\n",
       "    </tr>\n",
       "    <tr>\n",
       "      <th>1</th>\n",
       "      <td>Korin</td>\n",
       "      <td>Furniture / Home Store</td>\n",
       "      <td>57 Warren St</td>\n",
       "      <td>US</td>\n",
       "      <td>New York</td>\n",
       "      <td>United States</td>\n",
       "      <td>Church St</td>\n",
       "      <td>73</td>\n",
       "      <td>[57 Warren St (Church St), New York, NY 10007, United States]</td>\n",
       "      <td>[{'label': 'display', 'lat': 40.71482437714839, 'lng': -74.00940425461492}, {'label': 'entrance', 'lat': 40.714727, 'lng': -74.009399}]</td>\n",
       "      <td>40.714824</td>\n",
       "      <td>-74.009404</td>\n",
       "      <td>Tribeca</td>\n",
       "      <td>10007</td>\n",
       "      <td>NY</td>\n",
       "      <td>4af5d65ff964a52091fd21e3</td>\n",
       "    </tr>\n",
       "    <tr>\n",
       "      <th>2</th>\n",
       "      <td>Los Tacos No. 1</td>\n",
       "      <td>Taco Place</td>\n",
       "      <td>136 Church St</td>\n",
       "      <td>US</td>\n",
       "      <td>New York</td>\n",
       "      <td>United States</td>\n",
       "      <td>NaN</td>\n",
       "      <td>119</td>\n",
       "      <td>[136 Church St, New York, NY 10007, United States]</td>\n",
       "      <td>[{'label': 'display', 'lat': 40.714267, 'lng': -74.008756}]</td>\n",
       "      <td>40.714267</td>\n",
       "      <td>-74.008756</td>\n",
       "      <td>NaN</td>\n",
       "      <td>10007</td>\n",
       "      <td>NY</td>\n",
       "      <td>5d5f24ec09484500079aee00</td>\n",
       "    </tr>\n",
       "    <tr>\n",
       "      <th>3</th>\n",
       "      <td>Takahachi Bakery</td>\n",
       "      <td>Bakery</td>\n",
       "      <td>25 Murray St</td>\n",
       "      <td>US</td>\n",
       "      <td>New York</td>\n",
       "      <td>United States</td>\n",
       "      <td>at Church St</td>\n",
       "      <td>187</td>\n",
       "      <td>[25 Murray St (at Church St), New York, NY 10007, United States]</td>\n",
       "      <td>[{'label': 'display', 'lat': 40.713652845301894, 'lng': -74.0088038953017}, {'label': 'entrance', 'lat': 40.713716, 'lng': -74.008443}]</td>\n",
       "      <td>40.713653</td>\n",
       "      <td>-74.008804</td>\n",
       "      <td>NaN</td>\n",
       "      <td>10007</td>\n",
       "      <td>NY</td>\n",
       "      <td>4c154c9a77cea593c401d260</td>\n",
       "    </tr>\n",
       "    <tr>\n",
       "      <th>4</th>\n",
       "      <td>Takahachi</td>\n",
       "      <td>Sushi Restaurant</td>\n",
       "      <td>145 Duane St</td>\n",
       "      <td>US</td>\n",
       "      <td>New York</td>\n",
       "      <td>United States</td>\n",
       "      <td>btwn W Broadway &amp; Church St</td>\n",
       "      <td>146</td>\n",
       "      <td>[145 Duane St (btwn W Broadway &amp; Church St), New York, NY 10013, United States]</td>\n",
       "      <td>[{'label': 'display', 'lat': 40.71652647412374, 'lng': -74.00810108466207}, {'label': 'entrance', 'lat': 40.716508, 'lng': -74.007989}]</td>\n",
       "      <td>40.716526</td>\n",
       "      <td>-74.008101</td>\n",
       "      <td>NaN</td>\n",
       "      <td>10013</td>\n",
       "      <td>NY</td>\n",
       "      <td>4a8f2f39f964a520471420e3</td>\n",
       "    </tr>\n",
       "    <tr>\n",
       "      <th>5</th>\n",
       "      <td>Equinox Tribeca</td>\n",
       "      <td>Gym</td>\n",
       "      <td>54 Murray St</td>\n",
       "      <td>US</td>\n",
       "      <td>New York</td>\n",
       "      <td>United States</td>\n",
       "      <td>at W Broadway</td>\n",
       "      <td>154</td>\n",
       "      <td>[54 Murray St (at W Broadway), New York, NY 10007, United States]</td>\n",
       "      <td>[{'label': 'display', 'lat': 40.71409860726041, 'lng': -74.0096857179283}]</td>\n",
       "      <td>40.714099</td>\n",
       "      <td>-74.009686</td>\n",
       "      <td>NaN</td>\n",
       "      <td>10007</td>\n",
       "      <td>NY</td>\n",
       "      <td>4a6e331af964a52031d41fe3</td>\n",
       "    </tr>\n",
       "    <tr>\n",
       "      <th>6</th>\n",
       "      <td>Whole Foods Market</td>\n",
       "      <td>Grocery Store</td>\n",
       "      <td>270 Greenwich Street</td>\n",
       "      <td>US</td>\n",
       "      <td>New York</td>\n",
       "      <td>United States</td>\n",
       "      <td>at Warren St</td>\n",
       "      <td>214</td>\n",
       "      <td>[270 Greenwich Street (at Warren St), New York, NY 10007, United States]</td>\n",
       "      <td>[{'label': 'display', 'lat': 40.715579155420606, 'lng': -74.01136823958119}]</td>\n",
       "      <td>40.715579</td>\n",
       "      <td>-74.011368</td>\n",
       "      <td>Tribeca</td>\n",
       "      <td>10007</td>\n",
       "      <td>NY</td>\n",
       "      <td>49bc3b0af964a52020541fe3</td>\n",
       "    </tr>\n",
       "    <tr>\n",
       "      <th>7</th>\n",
       "      <td>Heyday</td>\n",
       "      <td>Spa</td>\n",
       "      <td>92 Reade St</td>\n",
       "      <td>US</td>\n",
       "      <td>New York</td>\n",
       "      <td>United States</td>\n",
       "      <td>NaN</td>\n",
       "      <td>100</td>\n",
       "      <td>[92 Reade St, New York, NY 10013, United States]</td>\n",
       "      <td>[{'label': 'display', 'lat': 40.715726, 'lng': -74.007767}, {'label': 'entrance', 'lat': 40.715654, 'lng': -74.00782}]</td>\n",
       "      <td>40.715726</td>\n",
       "      <td>-74.007767</td>\n",
       "      <td>NaN</td>\n",
       "      <td>10013</td>\n",
       "      <td>NY</td>\n",
       "      <td>57ad129c498e05b086594d72</td>\n",
       "    </tr>\n",
       "    <tr>\n",
       "      <th>8</th>\n",
       "      <td>Chambers Street Wines</td>\n",
       "      <td>Wine Shop</td>\n",
       "      <td>148 Chambers St</td>\n",
       "      <td>US</td>\n",
       "      <td>New York</td>\n",
       "      <td>United States</td>\n",
       "      <td>btwn West Broadway &amp; Hudson St</td>\n",
       "      <td>88</td>\n",
       "      <td>[148 Chambers St (btwn West Broadway &amp; Hudson St), New York, NY 10007, United States]</td>\n",
       "      <td>[{'label': 'display', 'lat': 40.715773063928374, 'lng': -74.00971823312332}, {'label': 'entrance', 'lat': 40.715696, 'lng': -74.00988}]</td>\n",
       "      <td>40.715773</td>\n",
       "      <td>-74.009718</td>\n",
       "      <td>NaN</td>\n",
       "      <td>10007</td>\n",
       "      <td>NY</td>\n",
       "      <td>4adcf23cf964a520cc6221e3</td>\n",
       "    </tr>\n",
       "    <tr>\n",
       "      <th>9</th>\n",
       "      <td>Mulberry &amp; Vine</td>\n",
       "      <td>Café</td>\n",
       "      <td>73 Warren St</td>\n",
       "      <td>US</td>\n",
       "      <td>New York</td>\n",
       "      <td>United States</td>\n",
       "      <td>B/t West Broadway &amp; Greenwich</td>\n",
       "      <td>117</td>\n",
       "      <td>[73 Warren St (B/t West Broadway &amp; Greenwich), New York, NY 10007, United States]</td>\n",
       "      <td>[{'label': 'display', 'lat': 40.71517693966315, 'lng': -74.01022747778285}, {'label': 'entrance', 'lat': 40.715064, 'lng': -74.010146}]</td>\n",
       "      <td>40.715177</td>\n",
       "      <td>-74.010227</td>\n",
       "      <td>NaN</td>\n",
       "      <td>10007</td>\n",
       "      <td>NY</td>\n",
       "      <td>5171b5cc011cef9833bbb787</td>\n",
       "    </tr>\n",
       "  </tbody>\n",
       "</table>\n",
       "</div>"
      ],
      "text/plain": [
       "                    name                     categories               address  \\\n",
       "0  Juice Press            Vegetarian / Vegan Restaurant  83 Murray St           \n",
       "1  Korin                  Furniture / Home Store         57 Warren St           \n",
       "2  Los Tacos No. 1        Taco Place                     136 Church St          \n",
       "3  Takahachi Bakery       Bakery                         25 Murray St           \n",
       "4  Takahachi              Sushi Restaurant               145 Duane St           \n",
       "5  Equinox Tribeca        Gym                            54 Murray St           \n",
       "6  Whole Foods Market     Grocery Store                  270 Greenwich Street   \n",
       "7  Heyday                 Spa                            92 Reade St            \n",
       "8  Chambers Street Wines  Wine Shop                      148 Chambers St        \n",
       "9  Mulberry & Vine        Café                           73 Warren St           \n",
       "\n",
       "   cc      city        country                     crossStreet  distance  \\\n",
       "0  US  New York  United States  btwn Greenwich St & W Broadway  202        \n",
       "1  US  New York  United States  Church St                       73         \n",
       "2  US  New York  United States  NaN                             119        \n",
       "3  US  New York  United States  at Church St                    187        \n",
       "4  US  New York  United States  btwn W Broadway & Church St     146        \n",
       "5  US  New York  United States  at W Broadway                   154        \n",
       "6  US  New York  United States  at Warren St                    214        \n",
       "7  US  New York  United States  NaN                             100        \n",
       "8  US  New York  United States  btwn West Broadway & Hudson St  88         \n",
       "9  US  New York  United States  B/t West Broadway & Greenwich   117        \n",
       "\n",
       "                                                                        formattedAddress  \\\n",
       "0  [83 Murray St (btwn Greenwich St & W Broadway), New York, NY 10007, United States]      \n",
       "1  [57 Warren St (Church St), New York, NY 10007, United States]                           \n",
       "2  [136 Church St, New York, NY 10007, United States]                                      \n",
       "3  [25 Murray St (at Church St), New York, NY 10007, United States]                        \n",
       "4  [145 Duane St (btwn W Broadway & Church St), New York, NY 10013, United States]         \n",
       "5  [54 Murray St (at W Broadway), New York, NY 10007, United States]                       \n",
       "6  [270 Greenwich Street (at Warren St), New York, NY 10007, United States]                \n",
       "7  [92 Reade St, New York, NY 10013, United States]                                        \n",
       "8  [148 Chambers St (btwn West Broadway & Hudson St), New York, NY 10007, United States]   \n",
       "9  [73 Warren St (B/t West Broadway & Greenwich), New York, NY 10007, United States]       \n",
       "\n",
       "                                                                                                                            labeledLatLngs  \\\n",
       "0  [{'label': 'display', 'lat': 40.71478769908051, 'lng': -74.0111317502157}]                                                                \n",
       "1  [{'label': 'display', 'lat': 40.71482437714839, 'lng': -74.00940425461492}, {'label': 'entrance', 'lat': 40.714727, 'lng': -74.009399}]   \n",
       "2  [{'label': 'display', 'lat': 40.714267, 'lng': -74.008756}]                                                                               \n",
       "3  [{'label': 'display', 'lat': 40.713652845301894, 'lng': -74.0088038953017}, {'label': 'entrance', 'lat': 40.713716, 'lng': -74.008443}]   \n",
       "4  [{'label': 'display', 'lat': 40.71652647412374, 'lng': -74.00810108466207}, {'label': 'entrance', 'lat': 40.716508, 'lng': -74.007989}]   \n",
       "5  [{'label': 'display', 'lat': 40.71409860726041, 'lng': -74.0096857179283}]                                                                \n",
       "6  [{'label': 'display', 'lat': 40.715579155420606, 'lng': -74.01136823958119}]                                                              \n",
       "7  [{'label': 'display', 'lat': 40.715726, 'lng': -74.007767}, {'label': 'entrance', 'lat': 40.715654, 'lng': -74.00782}]                    \n",
       "8  [{'label': 'display', 'lat': 40.715773063928374, 'lng': -74.00971823312332}, {'label': 'entrance', 'lat': 40.715696, 'lng': -74.00988}]   \n",
       "9  [{'label': 'display', 'lat': 40.71517693966315, 'lng': -74.01022747778285}, {'label': 'entrance', 'lat': 40.715064, 'lng': -74.010146}]   \n",
       "\n",
       "         lat        lng neighborhood postalCode state  \\\n",
       "0  40.714788 -74.011132  NaN          10007      NY     \n",
       "1  40.714824 -74.009404  Tribeca      10007      NY     \n",
       "2  40.714267 -74.008756  NaN          10007      NY     \n",
       "3  40.713653 -74.008804  NaN          10007      NY     \n",
       "4  40.716526 -74.008101  NaN          10013      NY     \n",
       "5  40.714099 -74.009686  NaN          10007      NY     \n",
       "6  40.715579 -74.011368  Tribeca      10007      NY     \n",
       "7  40.715726 -74.007767  NaN          10013      NY     \n",
       "8  40.715773 -74.009718  NaN          10007      NY     \n",
       "9  40.715177 -74.010227  NaN          10007      NY     \n",
       "\n",
       "                         id  \n",
       "0  54148bc6498ea7bb8c05b70a  \n",
       "1  4af5d65ff964a52091fd21e3  \n",
       "2  5d5f24ec09484500079aee00  \n",
       "3  4c154c9a77cea593c401d260  \n",
       "4  4a8f2f39f964a520471420e3  \n",
       "5  4a6e331af964a52031d41fe3  \n",
       "6  49bc3b0af964a52020541fe3  \n",
       "7  57ad129c498e05b086594d72  \n",
       "8  4adcf23cf964a520cc6221e3  \n",
       "9  5171b5cc011cef9833bbb787  "
      ]
     },
     "execution_count": 117,
     "metadata": {},
     "output_type": "execute_result"
    }
   ],
   "source": [
    "dataframe = json_normalize(items) # flatten JSON\n",
    "\n",
    "# filter columns\n",
    "filtered_columns = ['venue.name', 'venue.categories'] + [col for col in dataframe.columns if col.startswith('venue.location.')] + ['venue.id']\n",
    "dataframe_filtered = dataframe.loc[:, filtered_columns]\n",
    "\n",
    "# filter the category for each row\n",
    "dataframe_filtered['venue.categories'] = dataframe_filtered.apply(get_category_type, axis=1)\n",
    "\n",
    "# clean columns\n",
    "dataframe_filtered.columns = [col.split('.')[-1] for col in dataframe_filtered.columns]\n",
    "\n",
    "dataframe_filtered.head(10)"
   ]
  },
  {
   "cell_type": "markdown",
   "metadata": {
    "button": false,
    "new_sheet": false,
    "run_control": {
     "read_only": false
    }
   },
   "source": [
    "#### Let's visualize these items on the map around our location"
   ]
  },
  {
   "cell_type": "code",
   "execution_count": 118,
   "metadata": {
    "button": false,
    "new_sheet": false,
    "run_control": {
     "read_only": false
    }
   },
   "outputs": [
    {
     "data": {
      "text/html": [
       "<div style=\"width:100%;\"><div style=\"position:relative;width:100%;height:0;padding-bottom:60%;\"><iframe src=\"about:blank\" style=\"position:absolute;width:100%;height:100%;left:0;top:0;border:none !important;\" data-html=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 onload=\"this.contentDocument.open();this.contentDocument.write(atob(this.getAttribute('data-html')));this.contentDocument.close();\" allowfullscreen webkitallowfullscreen mozallowfullscreen></iframe></div></div>"
      ],
      "text/plain": [
       "<folium.folium.Map at 0x21557077f60>"
      ]
     },
     "execution_count": 118,
     "metadata": {},
     "output_type": "execute_result"
    }
   ],
   "source": [
    "venues_map = folium.Map(location=[latitude, longitude], zoom_start=15) # generate map centred around Ecco\n",
    "\n",
    "\n",
    "# add Ecco as a red circle mark\n",
    "folium.features.CircleMarker(\n",
    "    [latitude, longitude],\n",
    "    radius=10,\n",
    "    popup='Ecco',\n",
    "    fill=True,\n",
    "    color='red',\n",
    "    fill_color='red',\n",
    "    fill_opacity=0.6\n",
    "    ).add_to(venues_map)\n",
    "\n",
    "\n",
    "# add popular spots to the map as blue circle markers\n",
    "for lat, lng, label in zip(dataframe_filtered.lat, dataframe_filtered.lng, dataframe_filtered.categories):\n",
    "    folium.features.CircleMarker(\n",
    "        [lat, lng],\n",
    "        radius=5,\n",
    "        popup=label,\n",
    "        fill=True,\n",
    "        color='blue',\n",
    "        fill_color='blue',\n",
    "        fill_opacity=0.6\n",
    "        ).add_to(venues_map)\n",
    "\n",
    "# display map\n",
    "venues_map"
   ]
  },
  {
   "cell_type": "markdown",
   "metadata": {
    "button": false,
    "new_sheet": false,
    "run_control": {
     "read_only": false
    }
   },
   "source": [
    "   "
   ]
  },
  {
   "cell_type": "markdown",
   "metadata": {
    "button": false,
    "new_sheet": false,
    "run_control": {
     "read_only": false
    }
   },
   "source": [
    "<a id=\"item5\"></a>"
   ]
  },
  {
   "cell_type": "markdown",
   "metadata": {
    "button": false,
    "new_sheet": false,
    "run_control": {
     "read_only": false
    }
   },
   "source": [
    "## 5. Explore Trending Venues\n",
    "> `https://api.foursquare.com/v2/venues/`**trending**`?client_id=`**CLIENT_ID**`&client_secret=`**CLIENT_SECRET**`&ll=`**LATITUDE**`,`**LONGITUDE**`&v=`**VERSION**"
   ]
  },
  {
   "cell_type": "markdown",
   "metadata": {
    "button": false,
    "new_sheet": false,
    "run_control": {
     "read_only": false
    }
   },
   "source": [
    "#### Now, instead of simply exploring the area around Ecco, you are interested in knowing the venues that are trending at the time you are done with your lunch, meaning the places with the highest foot traffic. So let's do that and get the trending venues around Ecco."
   ]
  },
  {
   "cell_type": "code",
   "execution_count": 124,
   "metadata": {
    "button": false,
    "new_sheet": false,
    "run_control": {
     "read_only": false
    }
   },
   "outputs": [
    {
     "data": {
      "text/plain": [
       "{'meta': {'code': 200, 'requestId': '5eaefa7a7828ae001cf746a4'},\n",
       " 'response': {'venues': []}}"
      ]
     },
     "execution_count": 124,
     "metadata": {},
     "output_type": "execute_result"
    }
   ],
   "source": [
    "# define URL\n",
    "url = 'https://api.foursquare.com/v2/venues/trending?client_id={}&client_secret={}&ll={},{}&v={}'.format(CLIENT_ID, CLIENT_SECRET, latitude, longitude, VERSION)\n",
    "\n",
    "# send GET request and get trending venues\n",
    "results = requests.get(url).json()\n",
    "results"
   ]
  },
  {
   "cell_type": "markdown",
   "metadata": {
    "button": false,
    "new_sheet": false,
    "run_control": {
     "read_only": false
    }
   },
   "source": [
    "### Check if any venues are trending at this time"
   ]
  },
  {
   "cell_type": "code",
   "execution_count": 125,
   "metadata": {
    "button": false,
    "new_sheet": false,
    "run_control": {
     "read_only": false
    }
   },
   "outputs": [],
   "source": [
    "if len(results['response']['venues']) == 0:\n",
    "    trending_venues_df = 'No trending venues are available at the moment!'\n",
    "    \n",
    "else:\n",
    "    trending_venues = results['response']['venues']\n",
    "    trending_venues_df = json_normalize(trending_venues)\n",
    "\n",
    "    # filter columns\n",
    "    columns_filtered = ['name', 'categories'] + ['location.distance', 'location.city', 'location.postalCode', 'location.state', 'location.country', 'location.lat', 'location.lng']\n",
    "    trending_venues_df = trending_venues_df.loc[:, columns_filtered]\n",
    "\n",
    "    # filter the category for each row\n",
    "    trending_venues_df['categories'] = trending_venues_df.apply(get_category_type, axis=1)"
   ]
  },
  {
   "cell_type": "code",
   "execution_count": 126,
   "metadata": {
    "button": false,
    "new_sheet": false,
    "run_control": {
     "read_only": false
    }
   },
   "outputs": [
    {
     "data": {
      "text/plain": [
       "'No trending venues are available at the moment!'"
      ]
     },
     "execution_count": 126,
     "metadata": {},
     "output_type": "execute_result"
    }
   ],
   "source": [
    "# display trending venues\n",
    "trending_venues_df"
   ]
  },
  {
   "cell_type": "markdown",
   "metadata": {
    "button": false,
    "new_sheet": false,
    "run_control": {
     "read_only": false
    }
   },
   "source": [
    "Now, depending on when you run the above code, you might get different venues since the venues with the highest foot traffic are fetched live. "
   ]
  },
  {
   "cell_type": "markdown",
   "metadata": {
    "button": false,
    "new_sheet": false,
    "run_control": {
     "read_only": false
    }
   },
   "source": [
    "### Visualize trending venues"
   ]
  },
  {
   "cell_type": "code",
   "execution_count": 127,
   "metadata": {
    "button": false,
    "new_sheet": false,
    "run_control": {
     "read_only": false
    }
   },
   "outputs": [],
   "source": [
    "if len(results['response']['venues']) == 0:\n",
    "    venues_map = 'Cannot generate visual as no trending venues are available at the moment!'\n",
    "\n",
    "else:\n",
    "    venues_map = folium.Map(location=[latitude, longitude], zoom_start=15) # generate map centred around Ecco\n",
    "\n",
    "\n",
    "    # add Ecco as a red circle mark\n",
    "    folium.features.CircleMarker(\n",
    "        [latitude, longitude],\n",
    "        radius=10,\n",
    "        popup='Ecco',\n",
    "        fill=True,\n",
    "        color='red',\n",
    "        fill_color='red',\n",
    "        fill_opacity=0.6\n",
    "    ).add_to(venues_map)\n",
    "\n",
    "\n",
    "    # add the trending venues as blue circle markers\n",
    "    for lat, lng, label in zip(trending_venues_df['location.lat'], trending_venues_df['location.lng'], trending_venues_df['name']):\n",
    "        folium.features.CircleMarker(\n",
    "            [lat, lng],\n",
    "            radius=5,\n",
    "            poup=label,\n",
    "            fill=True,\n",
    "            color='blue',\n",
    "            fill_color='blue',\n",
    "            fill_opacity=0.6\n",
    "        ).add_to(venues_map)"
   ]
  },
  {
   "cell_type": "code",
   "execution_count": 128,
   "metadata": {
    "button": false,
    "new_sheet": false,
    "run_control": {
     "read_only": false
    },
    "scrolled": false
   },
   "outputs": [
    {
     "data": {
      "text/plain": [
       "'Cannot generate visual as no trending venues are available at the moment!'"
      ]
     },
     "execution_count": 128,
     "metadata": {},
     "output_type": "execute_result"
    }
   ],
   "source": [
    "# display map\n",
    "venues_map"
   ]
  },
  {
   "cell_type": "markdown",
   "metadata": {
    "button": false,
    "new_sheet": false,
    "run_control": {
     "read_only": false
    }
   },
   "source": [
    "<a id=\"item6\"></a>"
   ]
  },
  {
   "cell_type": "markdown",
   "metadata": {
    "button": false,
    "new_sheet": false,
    "run_control": {
     "read_only": false
    }
   },
   "source": [
    "   "
   ]
  },
  {
   "cell_type": "markdown",
   "metadata": {
    "button": false,
    "new_sheet": false,
    "run_control": {
     "read_only": false
    }
   },
   "source": [
    "### Thank you for completing this lab!\n",
    "\n",
    "This notebook was created by [Alex Aklson](https://www.linkedin.com/in/aklson/). I hope you found this lab interesting and educational. Feel free to contact me if you have any questions!"
   ]
  },
  {
   "cell_type": "markdown",
   "metadata": {
    "button": false,
    "new_sheet": false,
    "run_control": {
     "read_only": false
    }
   },
   "source": [
    "This notebook is part of a course on **Coursera** called *Applied Data Science Capstone*. If you accessed this notebook outside the course, you can take this course online by clicking [here](http://cocl.us/DP0701EN_Coursera_Week2_LAB1)."
   ]
  },
  {
   "cell_type": "markdown",
   "metadata": {
    "button": false,
    "new_sheet": false,
    "run_control": {
     "read_only": false
    }
   },
   "source": [
    "<hr>\n",
    "Copyright &copy; 2018 [Cognitive Class](https://cognitiveclass.ai/?utm_source=bducopyrightlink&utm_medium=dswb&utm_campaign=bdu). This notebook and its source code are released under the terms of the [MIT License](https://bigdatauniversity.com/mit-license/)."
   ]
  }
 ],
 "metadata": {
  "kernelspec": {
   "display_name": "Python 3",
   "language": "python",
   "name": "python3"
  },
  "language_info": {
   "codemirror_mode": {
    "name": "ipython",
    "version": 3
   },
   "file_extension": ".py",
   "mimetype": "text/x-python",
   "name": "python",
   "nbconvert_exporter": "python",
   "pygments_lexer": "ipython3",
   "version": "3.6.5"
  },
  "widgets": {
   "state": {},
   "version": "1.1.2"
  }
 },
 "nbformat": 4,
 "nbformat_minor": 2
}
